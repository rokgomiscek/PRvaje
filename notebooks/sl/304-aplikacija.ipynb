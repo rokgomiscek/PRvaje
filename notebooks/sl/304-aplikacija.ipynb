{
 "cells": [
  {
   "cell_type": "markdown",
   "metadata": {
    "tags": [
     "sl"
    ]
   },
   "source": [
    "## Streamlit aplikacija\n",
    "\n",
    "Podatkovno rudarjenje, naloga, `<VPIŠI DATUM ODDAJE>`  \n",
    "**`<VPIŠI Ime in priimek>`**\n",
    "\n",
    "Bonus domača naloga združuje vse pridobljeno znanje, ki ga boste implementirali z uporabo Streamlita. Vsaka kategorija vprašanj naj bo na svoji strani. Na koncu aplikacijo objavite na spletu, v ta repozitorij pa oddajte kratko poročilo. "
   ]
  },
  {
   "cell_type": "markdown",
   "metadata": {
    "tags": [
     "sl"
    ]
   },
   "source": [
    "### Podatki\n",
    "\n",
    "Podatkovna zbirka MovieLens ostaja enaka kot pri ostalih nalogah."
   ]
  },
  {
   "cell_type": "markdown",
   "metadata": {
    "tags": [
     "sl"
    ]
   },
   "source": [
    "### Vprašanja\n",
    "\n",
    "#### 1.  Analiza podatkov (30%)\n",
    "\n",
    "Izpišite 10 filmov z najboljšo povprečno oceno. Poleg naslova filma izpišite tudi povprečno oceno in število ocen. \n",
    "\n",
    "Dodajte še sledeče interaktivne elemente:\n",
    "* izbira minimalnega števila ocen, ki so jih filmi dobili\n",
    "* izbira žanra\n",
    "* izbira leta\n",
    "\n",
    "Možna naj bo poljubna kombinacija filtrov. Uporabnik lahko na primer vpraša po najboljših akcijskih filmih z vsaj desetimi ocenami, ali pa po najboljših filmih leta 1998, ne glede na število ocen.\n",
    "\n",
    "#### 2. Primerjava dveh filmov (30%)\n",
    "\n",
    "Ko uporabnik izbere dva filma, naj se za ta dva filma prikažejo naslednje primerjave:\n",
    "* statistika ocen (povprečna ocena, število ocen, standardni odklon)\n",
    "* histogram ocen\n",
    "* graf povprečne letne ocene\n",
    "* graf števila ocen na leto\n",
    "\n",
    "#### 3. Priporočilni sistem (40%)\n",
    "\n",
    "Implementirajte registracijo in prijavo uporabnika v sistem ter sistem za priporočanje filmov. \n",
    "\n",
    "Samo prijavljen uporabnik lahko ocenjuje filme. Ko je uporabnik vnesel vsaj deset ocen, naj se mu izpiše deset priporočil."
   ]
  },
  {
   "cell_type": "markdown",
   "metadata": {
    "tags": [
     "sl"
    ]
   },
   "source": [
    "### Poročilo\n",
    "\n",
    "Delovanje aplikacije na kratko predstavite v poročilu. Opišite uporabo vaše aplikacije, ki naj vključuje tudi slike zaslona. Dodajte tudi povezavo do aktivne aplikacije in do repozitorija, kjer se nahaja koda.\n",
    "\n",
    "Rezultati naloge torej so:\n",
    "* poročilo (kratka navodila in slike)\n",
    "* povezava do izvorne kode aplikacije\n",
    "* povezava do aktivne aplikacije"
   ]
  }
 ],
 "metadata": {
  "kernelspec": {
   "display_name": "Python 3",
   "language": "python",
   "name": "python3"
  },
  "language_info": {
   "codemirror_mode": {
    "name": "ipython",
    "version": 3
   },
   "file_extension": ".py",
   "mimetype": "text/x-python",
   "name": "python",
   "nbconvert_exporter": "python",
   "pygments_lexer": "ipython3",
   "version": "3.8.6"
  },
  "latex_envs": {
   "LaTeX_envs_menu_present": true,
   "autoclose": false,
   "autocomplete": true,
   "bibliofile": "biblio.bib",
   "cite_by": "apalike",
   "current_citInitial": 1,
   "eqLabelWithNumbers": true,
   "eqNumInitial": 1,
   "hotkeys": {
    "equation": "Ctrl-E",
    "itemize": "Ctrl-I"
   },
   "labels_anchors": false,
   "latex_user_defs": false,
   "report_style_numbering": false,
   "user_envs_cfg": false
  },
  "nbTranslate": {
   "displayLangs": [
    "*"
   ],
   "hotkey": "alt-t",
   "langInMainMenu": true,
   "sourceLang": "sl",
   "targetLang": "en",
   "useGoogleTranslate": true
  }
 },
 "nbformat": 4,
 "nbformat_minor": 2
}
