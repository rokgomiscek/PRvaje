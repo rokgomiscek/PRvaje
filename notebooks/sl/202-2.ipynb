{
 "cells": [
  {
   "cell_type": "markdown",
   "metadata": {
    "tags": [
     "sl"
    ]
   },
   "source": [
    "## Primer: statistika temperatur v Stockholmu"
   ]
  },
  {
   "cell_type": "code",
   "execution_count": null,
   "metadata": {},
   "outputs": [],
   "source": [
    "import numpy as np\n",
    "data = np.loadtxt('../data/stockholm.csv', delimiter=\",\", skiprows=1)"
   ]
  },
  {
   "cell_type": "markdown",
   "metadata": {
    "tags": [
     "sl"
    ]
   },
   "source": [
    "##### Odgovor 2-2-1"
   ]
  },
  {
   "cell_type": "code",
   "execution_count": 2,
   "metadata": {},
   "outputs": [
    {
     "data": {
      "text/plain": [
       "array([[ 1817. ,    12. ,     5. ,    -5.8]])"
      ]
     },
     "execution_count": 2,
     "metadata": {},
     "output_type": "execute_result"
    }
   ],
   "source": [
    "data[(data[:, 0] == 1817) * (data[:, 1] == 12) * (data[:, 2] == 5), :]"
   ]
  },
  {
   "cell_type": "markdown",
   "metadata": {
    "tags": [
     "sl"
    ]
   },
   "source": [
    "##### Odgovor 2-2-2"
   ]
  },
  {
   "cell_type": "code",
   "execution_count": 3,
   "metadata": {},
   "outputs": [
    {
     "data": {
      "text/plain": [
       "-3.0447656725502132"
      ]
     },
     "execution_count": 3,
     "metadata": {},
     "output_type": "execute_result"
    }
   ],
   "source": [
    "np.mean(data[(data[:, 1] == 1), 3])"
   ]
  },
  {
   "cell_type": "markdown",
   "metadata": {
    "tags": [
     "sl"
    ]
   },
   "source": [
    "##### Odgovor 2-2-3"
   ]
  },
  {
   "cell_type": "code",
   "execution_count": 4,
   "metadata": {},
   "outputs": [
    {
     "data": {
      "text/plain": [
       "[(4.9892658658329561, 1),\n",
       " (5.0903907687662713, 2),\n",
       " (4.2923064618199263, 3),\n",
       " (3.76783651629394, 4),\n",
       " (4.029747854809286, 5),\n",
       " (3.5320797349808082, 6),\n",
       " (2.995916472129954, 7),\n",
       " (2.8473127640895139, 8),\n",
       " (3.0389674027350599, 9),\n",
       " (3.4875394481813999, 10),\n",
       " (3.8200293557907226, 11),\n",
       " (4.5026210415550008, 12)]"
      ]
     },
     "execution_count": 4,
     "metadata": {},
     "output_type": "execute_result"
    }
   ],
   "source": [
    "odkloni = [(np.std(data[(data[:, 1] == mesec), 3]), mesec) for mesec in range(1, 13)]\n",
    "odkloni"
   ]
  },
  {
   "cell_type": "code",
   "execution_count": 5,
   "metadata": {},
   "outputs": [
    {
     "data": {
      "text/plain": [
       "(5.0903907687662713, 2)"
      ]
     },
     "execution_count": 5,
     "metadata": {},
     "output_type": "execute_result"
    }
   ],
   "source": [
    "max(odkloni)"
   ]
  },
  {
   "cell_type": "markdown",
   "metadata": {},
   "source": [
    "Največji odklon znaša 5.1 C, pojavi se v februarju."
   ]
  },
  {
   "cell_type": "markdown",
   "metadata": {
    "tags": [
     "sl"
    ]
   },
   "source": [
    "##### Odgovor 2-2-4"
   ]
  },
  {
   "cell_type": "code",
   "execution_count": 6,
   "metadata": {},
   "outputs": [
    {
     "data": {
      "text/plain": [
       "(21.532258064516132, (1994, 7))"
      ]
     },
     "execution_count": 6,
     "metadata": {},
     "output_type": "execute_result"
    }
   ],
   "source": [
    "povprečja = []\n",
    "for leto in range(1800, 2012):\n",
    "    for mesec in range(1, 13):\n",
    "        t = np.mean(data[(data[:, 1] == mesec) * (data[:, 0] == leto), 3])\n",
    "        povprečja.append((t, (leto, mesec)))\n",
    "max(povprečja)"
   ]
  },
  {
   "cell_type": "markdown",
   "metadata": {
    "tags": [
     "sl"
    ]
   },
   "source": [
    "##### Odgovor 2-2-5"
   ]
  },
  {
   "cell_type": "code",
   "execution_count": 7,
   "metadata": {},
   "outputs": [],
   "source": [
    "# Izračunajmo povprečno temperaturo za vsako leto posebej \n",
    "letna_povprečja = dict()\n",
    "\n",
    "for leto in range(1800, 2012):\n",
    "    # Uporabimo pogojno naslavljanje polja\n",
    "    letna_povprečja[leto] = data[data[:, 0] == leto, 3].mean()"
   ]
  },
  {
   "cell_type": "code",
   "execution_count": 8,
   "metadata": {
    "scrolled": true
   },
   "outputs": [
    {
     "data": {
      "text/plain": [
       "[1992, 1994, 1997, 1999, 2000, 2002, 2005, 2006, 2008, 2011]"
      ]
     },
     "execution_count": 8,
     "metadata": {},
     "output_type": "execute_result"
    }
   ],
   "source": [
    "# Izpiši vsako leto, ki ima večjo povprečno temperaturo od prejšnjega\n",
    "leto_t = sorted(letna_povprečja.items())\n",
    "večji_od_lani = [leto_t[i][0] for i in range(1, len(leto_t)) if leto_t[i-1][1] < leto_t[i][1]]\n",
    "večji_od_lani[-10:]  # izpišimo le nekaj letnic"
   ]
  },
  {
   "cell_type": "code",
   "execution_count": 9,
   "metadata": {},
   "outputs": [
    {
     "data": {
      "text/plain": [
       "[(8.2189041095890421, 1934),\n",
       " (8.2657534246575342, 1999),\n",
       " (8.3997260273972589, 1990),\n",
       " (8.4134246575342466, 1822),\n",
       " (8.4797260273972608, 1975),\n",
       " (8.4808219178082194, 1989),\n",
       " (8.4882191780821916, 2006),\n",
       " (8.4978142076502738, 2000),\n",
       " (8.5330601092896181, 2008),\n",
       " (8.5394520547945199, 2011)]"
      ]
     },
     "execution_count": 9,
     "metadata": {},
     "output_type": "execute_result"
    }
   ],
   "source": [
    "# Poišči 10 najtoplejših let\n",
    "t_leto = sorted(((t, leto) for leto, t in leto_t))\n",
    "t_leto[-10:]"
   ]
  },
  {
   "cell_type": "markdown",
   "metadata": {
    "tags": [
     "sl"
    ]
   },
   "source": [
    "##### Odgovor 2-2-6"
   ]
  },
  {
   "cell_type": "code",
   "execution_count": 10,
   "metadata": {},
   "outputs": [],
   "source": [
    "%matplotlib inline\n",
    "%config InlineBackend.figure_formats = ['jpg']\n",
    "import matplotlib\n",
    "matplotlib.figure.Figure.__repr__ = lambda self: (\n",
    "    f\"<{self.__class__.__name__} size {self.bbox.size[0]:g}\"\n",
    "    f\"x{self.bbox.size[1]:g} with {len(self.axes)} Axes>\")\n",
    "\n",
    "import matplotlib.pyplot as plt"
   ]
  },
  {
   "cell_type": "code",
   "execution_count": 11,
   "metadata": {
    "latex_doc": {
     "figure": {
      "caption": "Figure caption.",
      "label": "fig:flabel",
      "placement": "H",
      "widefigure": false
     }
    }
   },
   "outputs": [
    {
     "data": {
      "image/jpeg": "[encoded data removed]",
      "text/plain": [
       "<Figure size 432x288 with 1 Axes>"
      ]
     },
     "metadata": {
      "needs_background": "light"
     },
     "output_type": "display_data"
    }
   ],
   "source": [
    "# Pomagaj si s letna_povprečja.\n",
    "# Os x: leto\n",
    "# Os y: povprečna letna temperatura\n",
    "\n",
    "plt.figure()\n",
    "\n",
    "# Narišimo izvirne podatke\n",
    "leta, temperature = zip(*sorted(letna_povprečja.items()))\n",
    "plt.plot(leta, temperature)\n",
    "\n",
    "# Vedno označimo osi.\n",
    "plt.xlabel(\"leto\")  \n",
    "plt.ylabel(\"povprečna letna temperatura\")\n",
    "plt.show()"
   ]
  }
 ],
 "metadata": {
  "kernelspec": {
   "display_name": "PRvaje",
   "language": "python",
   "name": "python3"
  },
  "language_info": {
   "codemirror_mode": {
    "name": "ipython",
    "version": 3
   },
   "file_extension": ".py",
   "mimetype": "text/x-python",
   "name": "python",
   "nbconvert_exporter": "python",
   "pygments_lexer": "ipython3",
   "version": "3.11.8"
  },
  "latex_envs": {
   "LaTeX_envs_menu_present": true,
   "autocomplete": true,
   "bibliofile": "biblio.bib",
   "cite_by": "apalike",
   "current_citInitial": 1,
   "eqLabelWithNumbers": true,
   "eqNumInitial": 1,
   "hotkeys": {
    "equation": "Ctrl-E",
    "itemize": "Ctrl-I"
   },
   "labels_anchors": false,
   "latex_user_defs": false,
   "report_style_numbering": false,
   "user_envs_cfg": false
  },
  "nbTranslate": {
   "displayLangs": [
    "sl"
   ],
   "hotkey": "alt-t",
   "langInMainMenu": true,
   "sourceLang": "en",
   "targetLang": "fr",
   "useGoogleTranslate": true
  },
  "toc": {
   "nav_menu": {},
   "number_sections": true,
   "sideBar": true,
   "skip_h1_title": true,
   "toc_cell": false,
   "toc_position": {},
   "toc_section_display": "block",
   "toc_window_display": true
  }
 },
 "nbformat": 4,
 "nbformat_minor": 1
}
