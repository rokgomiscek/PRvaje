{
 "cells": [
  {
   "cell_type": "markdown",
   "metadata": {
    "tags": [
     "sl"
    ]
   },
   "source": [
    "# Uvod v Streamlit\n",
    "\n",
    "Streamlit je odprtokodno Python ogrodje za projekte strojnega učenja in podatkovnih znanosti. Omogoča vam ustvarjanje in deljenje spletnih aplikacij z le nekaj vrsticami kode."
   ]
  },
  {
   "cell_type": "markdown",
   "metadata": {
    "tags": [
     "sl"
    ]
   },
   "source": [
    "## Namestitev\n",
    "\n",
    "Za namestitev Streamlit lahko uporabite pip:\n"
   ]
  },
  {
   "cell_type": "markdown",
   "metadata": {},
   "source": [
    "```bash\n",
    "pip install streamlit\n",
    "```"
   ]
  },
  {
   "cell_type": "markdown",
   "metadata": {
    "tags": [
     "sl"
    ]
   },
   "source": [
    "## Osnovna uporaba\n",
    "\n",
    "Tukaj je preprost primer Streamlit aplikacije:\n"
   ]
  },
  {
   "cell_type": "markdown",
   "metadata": {},
   "source": [
    "```python\n",
    "import streamlit as st\n",
    "\n",
    "st.title('Hello, Streamlit!')\n",
    "st.write('This is a simple Streamlit app.')\n",
    "```"
   ]
  },
  {
   "cell_type": "markdown",
   "metadata": {
    "tags": [
     "sl"
    ]
   },
   "source": [
    "\n",
    "Za zagon aplikacije shranite kodo v datoteko (npr. `app.py`) in zaženite:"
   ]
  },
  {
   "cell_type": "markdown",
   "metadata": {},
   "source": [
    "```bash\n",
    "streamlit run app.py\n",
    "```"
   ]
  },
  {
   "cell_type": "markdown",
   "metadata": {
    "tags": [
     "sl"
    ]
   },
   "source": [
    "To bo zagnalo lokalni spletni strežnik in odprlo aplikacijo v privzetem brskalniku."
   ]
  },
  {
   "cell_type": "markdown",
   "metadata": {
    "tags": [
     "sl"
    ]
   },
   "source": [
    "## Dodajanje pripomočkov\n",
    "\n",
    "Streamlit ponuja več pripomočkov, ki naredijo aplikacijo interaktivno. Na primer:"
   ]
  },
  {
   "cell_type": "markdown",
   "metadata": {},
   "source": [
    "```python\n",
    "import streamlit as st\n",
    "\n",
    "st.title('Interactive Widgets')\n",
    "\n",
    "name = st.text_input('Enter your name:')\n",
    "st.write(f'Hello, {name}!')\n",
    "\n",
    "age = st.slider('Select your age:', 0, 100, 25)\n",
    "st.write(f'You are {age} years old.')\n",
    "```"
   ]
  },
  {
   "cell_type": "markdown",
   "metadata": {
    "tags": [
     "sl"
    ]
   },
   "source": [
    "Ta koda ustvari tekstovno vnosno polje in izbiro z drsnikom. Vrednosti, ki jih izbere uporabnik, se uporabijo v aplikaciji."
   ]
  },
  {
   "cell_type": "markdown",
   "metadata": {
    "tags": [
     "sl"
    ]
   },
   "source": [
    "## Prikazovanje podatkov\n",
    "\n",
    "S Streamlitom lahko enostavno prikažemo podatke na različne načine. Na primer:\n"
   ]
  },
  {
   "cell_type": "markdown",
   "metadata": {},
   "source": [
    "```python\n",
    "import streamlit as st\n",
    "import pandas as pd\n",
    "import numpy as np\n",
    "\n",
    "st.title('Displaying Data')\n",
    "\n",
    "# Display a DataFrame\n",
    "df = pd.DataFrame(\n",
    "    np.random.randn(10, 5),\n",
    "    columns=('col %d' % i for i in range(5)))\n",
    "st.write(df)\n",
    "\n",
    "# Display a chart\n",
    "st.line_chart(df)\n",
    "```"
   ]
  },
  {
   "cell_type": "markdown",
   "metadata": {
    "tags": [
     "sl"
    ]
   },
   "source": [
    "## Predpomnjenje\n",
    "\n",
    "Ob vsaki spremembi kode ali ko uporabnik interagira z aplikacijo, Stremlit ponovno požene celotno skripto. Da bi se izognili počasnim aplikacijam, lahko modele naučimo lokalno in jih shranimo, ali pa uporabimo vgrajeno predpomnjenje."
   ]
  },
  {
   "cell_type": "markdown",
   "metadata": {
    "tags": [
     "sl"
    ]
   },
   "source": [
    "### Učenje modela vnaprej in shranjevanje s `pickle`\n",
    "\n",
    "Kadar imamo opravka z veliko količino podatkov ali počasnimi modeli, želimo opraviti delo samo enkrat. Lokalno lahko naučimo model in ga shranimo z uporabo knjižnice `pickle`, kot v spodnjem primeru."
   ]
  },
  {
   "cell_type": "markdown",
   "metadata": {},
   "source": [
    "```python\n",
    "import pickle\n",
    "\n",
    "X, y = load_data()\n",
    "model.fit(X, y)\n",
    "\n",
    "with open(\"pkl/model.pkl\", 'wb') as fp:\n",
    "    pickle.dump(model, fp)\n",
    "```"
   ]
  },
  {
   "cell_type": "markdown",
   "metadata": {
    "tags": [
     "sl"
    ]
   },
   "source": [
    "Celotna skripta je na voljo na [train.py](../../streamlit/train.py).\n",
    "\n",
    "V Streamlit aplikaciji nato naložimo model in ga normalno uporabljamo dalje."
   ]
  },
  {
   "cell_type": "markdown",
   "metadata": {},
   "source": [
    "```python\n",
    "import pickle\n",
    "\n",
    "with open(\"pkl/model.pkl\", 'rb') as fp:\n",
    "    model = pickle.load(fp)\n",
    "prediction = model.predict(new_data)\n",
    "```"
   ]
  },
  {
   "cell_type": "markdown",
   "metadata": {
    "tags": [
     "sl"
    ]
   },
   "source": [
    "### Vgrajeno predpomnjenje\n",
    "\n",
    "Za predpomnjenje rezultatov funkcij lahko uporabimo tudi vgrajena dekoratorja `@st.cache_data` in `@st.cache_resource`. Predpomnjene vrednosti so na voljo vsem uporabnikom naše aplikacije.\n",
    "\n",
    "Ko se pokliče funkcija, ki ima enega od teh dekoratorjev, Streamlit preveri vrednosti vhodnih parametrov in kodo znotraj funkcije. Če Streamlit te vrednosti parametrov in kodo funkcije vidi prvič, jo požene in shrani vrnjeno vrednost v predpomnilnik. Ko se funkcija naslednjič pokliče z istimi parametri in kodo, bo Streamlit funkcijo v celoti preskočil in namesto tega vrnil predpomnjeno vrednost."
   ]
  },
  {
   "cell_type": "markdown",
   "metadata": {},
   "source": [
    "```python\n",
    "@st.cache_data\n",
    "def filter_data(df, value):\n",
    "    return df[df['Year'] == value].mean()[\"Temp\"]\n",
    "```"
   ]
  },
  {
   "cell_type": "markdown",
   "metadata": {
    "tags": [
     "sl"
    ]
   },
   "source": [
    "## Aplikacija z več strani\n",
    "\n",
    "Berljivost aplikacije lahko izboljšamo tako, da jo razdelimo na več podstrani. Najlažji način je, da ustvarimo direktorij `pages`, kamor shranimo vse podstrani (razen vhodne točke)."
   ]
  },
  {
   "cell_type": "markdown",
   "metadata": {},
   "source": [
    "```\n",
    "app_directory/\n",
    "├── pages/\n",
    "│   ├── 1_intro.py\n",
    "│   └── 2_graph.py\n",
    "└── Start.py\n",
    "```"
   ]
  },
  {
   "cell_type": "markdown",
   "metadata": {
    "tags": [
     "sl"
    ]
   },
   "source": [
    "## Objavi aplikacijo na spletu\n",
    "\n",
    "Ko je aplikacija delujoča, jo lahko naložimo na https://streamlit.io/. Najprej ustvarimo uporabniški račun, shranimo aplikacijo na GitHub in povežemo računa. Za konec še izberemo, v katerem repozitoriju imamo aplikacijo in jo objavimo. Po kratkem času, bo naša aplikacija na voljo na spletu."
   ]
  },
  {
   "cell_type": "markdown",
   "metadata": {
    "tags": [
     "sl"
    ]
   },
   "source": [
    "# Delujoč primer\n",
    "\n",
    "Na [prvaje.streamlit.app](https://prvaje.streamlit.app/) imate na voljo delujoč primer s koncepti, ki smo jih zgoraj spoznali. Vsa koda je dostopna v [repozitoriju](https://github.com/rokgomiscek/PR_streamlit) aplikacije."
   ]
  }
 ],
 "metadata": {
  "kernelspec": {
   "display_name": "Python 3",
   "language": "python",
   "name": "python3"
  },
  "language_info": {
   "codemirror_mode": {
    "name": "ipython",
    "version": 3
   },
   "file_extension": ".py",
   "mimetype": "text/x-python",
   "name": "python",
   "nbconvert_exporter": "python",
   "pygments_lexer": "ipython3",
   "version": "3.8.5"
  }
 },
 "nbformat": 4,
 "nbformat_minor": 4
}
