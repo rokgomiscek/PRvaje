{
  "cells": [
    {
      "cell_type": "markdown",
      "metadata": {
        "tags": [
          "sl"
        ]
      },
      "source": [
        "## Uporaba scikit-learn za klasifikacijo"
      ]
    },
    {
      "cell_type": "markdown",
      "metadata": {
        "tags": [
          "en"
        ]
      },
      "source": [
        "## Using scikit-learn for classification"
      ]
    },
    {
      "cell_type": "markdown",
      "metadata": {
        "tags": [
          "sl"
        ]
      },
      "source": [
        "Knji\u017enica scikit-learn nudi funkcije za izdelavo klasifikacijskih modelov, njihovo ocenjevanje in to\u010dkovanje."
      ]
    },
    {
      "cell_type": "markdown",
      "metadata": {
        "tags": [
          "en"
        ]
      },
      "source": [
        "The library scikit-learn implements function for construction of classification models, their evaluation and scoring. "
      ]
    },
    {
      "cell_type": "code",
      "execution_count": null,
      "metadata": {
        "scrolled": true
      },
      "outputs": [],
      "source": [
        "%matplotlib inline\n",
        "%config InlineBackend.figure_formats = ['jpg']\n",
        "import matplotlib\n",
        "matplotlib.figure.Figure.__repr__ = lambda self: (\n",
        "    f\"<{self.__class__.__name__} size {self.bbox.size[0]:g}\"\n",
        "    f\"x{self.bbox.size[1]:g} with {len(self.axes)} Axes>\")\n",
        "\n",
        "import matplotlib.pyplot as plt\n",
        "plt.style.use('../PR.mplstyle')\n",
        "\n",
        "import pandas as pd\n",
        "import sklearn\n",
        "import numpy as np"
      ]
    },
    {
      "cell_type": "markdown",
      "metadata": {
        "tags": [
          "sl"
        ]
      },
      "source": [
        "### U\u010dni algoritmi in klasifikatorji"
      ]
    },
    {
      "cell_type": "markdown",
      "metadata": {
        "tags": [
          "en"
        ]
      },
      "source": [
        "### Learners and Classifiers"
      ]
    },
    {
      "cell_type": "markdown",
      "metadata": {
        "tags": [
          "sl"
        ]
      },
      "source": [
        "Klasifikacija uporablja dve vrsti objektov: u\u010dne algoritme in klasifikatorje. U\u010dni lagoritmi\n",
        "upo\u0161tevajo podatke, ozna\u010dene z razredom, in vrnejo klasifikator. Glede na prve tri podatkovne primere, klasifikatorji vrnejo indekse predvidenega razreda:"
      ]
    },
    {
      "cell_type": "markdown",
      "metadata": {
        "tags": [
          "en"
        ]
      },
      "source": [
        "Classification uses two types of objects: learners and classifiers. Learners consider class-labeled data and return a classifier. Given the first three data instances, classifiers return the indexes of predicted class:"
      ]
    },
    {
      "cell_type": "code",
      "execution_count": 2,
      "metadata": {},
      "outputs": [],
      "source": [
        "from sklearn.linear_model import LogisticRegression"
      ]
    },
    {
      "cell_type": "code",
      "execution_count": null,
      "metadata": {
        "scrolled": true
      },
      "outputs": [
        {
          "data": {
            "text/html": [
              "<div>\n",
              "<style scoped>\n",
              "    .dataframe tbody tr th:only-of-type {\n",
              "        vertical-align: middle;\n",
              "    }\n",
              "\n",
              "    .dataframe tbody tr th {\n",
              "        vertical-align: top;\n",
              "    }\n",
              "\n",
              "    .dataframe thead th {\n",
              "        text-align: right;\n",
              "    }\n",
              "</style>\n",
              "<table border=\"1\" class=\"dataframe\">\n",
              "  <thead>\n",
              "    <tr style=\"text-align: right;\">\n",
              "      <th></th>\n",
              "      <th>party</th>\n",
              "      <th>handicapped-infants</th>\n",
              "      <th>water-project-cost-sharing</th>\n",
              "      <th>adoption-of-the-budget-resolution</th>\n",
              "      <th>physician-fee-freeze</th>\n",
              "      <th>el-salvador-aid</th>\n",
              "      <th>religious-groups-in-schools</th>\n",
              "      <th>anti-satellite-test-ban</th>\n",
              "      <th>aid-to-nicaraguan-contras</th>\n",
              "      <th>mx-missile</th>\n",
              "      <th>immigration</th>\n",
              "      <th>synfuels-corporation-cutback</th>\n",
              "      <th>education-spending</th>\n",
              "      <th>superfund-right-to-sue</th>\n",
              "      <th>crime</th>\n",
              "      <th>duty-free-exports</th>\n",
              "      <th>export-administration-act-south-africa</th>\n",
              "    </tr>\n",
              "  </thead>\n",
              "  <tbody>\n",
              "    <tr>\n",
              "      <th>0</th>\n",
              "      <td>republican</td>\n",
              "      <td>n</td>\n",
              "      <td>y</td>\n",
              "      <td>n</td>\n",
              "      <td>y</td>\n",
              "      <td>y</td>\n",
              "      <td>y</td>\n",
              "      <td>n</td>\n",
              "      <td>n</td>\n",
              "      <td>n</td>\n",
              "      <td>y</td>\n",
              "      <td>NaN</td>\n",
              "      <td>y</td>\n",
              "      <td>y</td>\n",
              "      <td>y</td>\n",
              "      <td>n</td>\n",
              "      <td>y</td>\n",
              "    </tr>\n",
              "    <tr>\n",
              "      <th>1</th>\n",
              "      <td>republican</td>\n",
              "      <td>n</td>\n",
              "      <td>y</td>\n",
              "      <td>n</td>\n",
              "      <td>y</td>\n",
              "      <td>y</td>\n",
              "      <td>y</td>\n",
              "      <td>n</td>\n",
              "      <td>n</td>\n",
              "      <td>n</td>\n",
              "      <td>n</td>\n",
              "      <td>n</td>\n",
              "      <td>y</td>\n",
              "      <td>y</td>\n",
              "      <td>y</td>\n",
              "      <td>n</td>\n",
              "      <td>NaN</td>\n",
              "    </tr>\n",
              "    <tr>\n",
              "      <th>2</th>\n",
              "      <td>democrat</td>\n",
              "      <td>NaN</td>\n",
              "      <td>y</td>\n",
              "      <td>y</td>\n",
              "      <td>NaN</td>\n",
              "      <td>y</td>\n",
              "      <td>y</td>\n",
              "      <td>n</td>\n",
              "      <td>n</td>\n",
              "      <td>n</td>\n",
              "      <td>n</td>\n",
              "      <td>y</td>\n",
              "      <td>n</td>\n",
              "      <td>y</td>\n",
              "      <td>y</td>\n",
              "      <td>n</td>\n",
              "      <td>n</td>\n",
              "    </tr>\n",
              "    <tr>\n",
              "      <th>3</th>\n",
              "      <td>democrat</td>\n",
              "      <td>n</td>\n",
              "      <td>y</td>\n",
              "      <td>y</td>\n",
              "      <td>n</td>\n",
              "      <td>NaN</td>\n",
              "      <td>y</td>\n",
              "      <td>n</td>\n",
              "      <td>n</td>\n",
              "      <td>n</td>\n",
              "      <td>n</td>\n",
              "      <td>y</td>\n",
              "      <td>n</td>\n",
              "      <td>y</td>\n",
              "      <td>n</td>\n",
              "      <td>n</td>\n",
              "      <td>y</td>\n",
              "    </tr>\n",
              "    <tr>\n",
              "      <th>4</th>\n",
              "      <td>democrat</td>\n",
              "      <td>y</td>\n",
              "      <td>y</td>\n",
              "      <td>y</td>\n",
              "      <td>n</td>\n",
              "      <td>y</td>\n",
              "      <td>y</td>\n",
              "      <td>n</td>\n",
              "      <td>n</td>\n",
              "      <td>n</td>\n",
              "      <td>n</td>\n",
              "      <td>y</td>\n",
              "      <td>NaN</td>\n",
              "      <td>y</td>\n",
              "      <td>y</td>\n",
              "      <td>y</td>\n",
              "      <td>y</td>\n",
              "    </tr>\n",
              "  </tbody>\n",
              "</table>\n",
              "</div>"
            ],
            "text/plain": [
              "        party handicapped-infants water-project-cost-sharing  \\\n",
              "0  republican                   n                          y   \n",
              "1  republican                   n                          y   \n",
              "2    democrat                 NaN                          y   \n",
              "3    democrat                   n                          y   \n",
              "4    democrat                   y                          y   \n",
              "\n",
              "  adoption-of-the-budget-resolution physician-fee-freeze el-salvador-aid  \\\n",
              "0                                 n                    y               y   \n",
              "1                                 n                    y               y   \n",
              "2                                 y                  NaN               y   \n",
              "3                                 y                    n             NaN   \n",
              "4                                 y                    n               y   \n",
              "\n",
              "  religious-groups-in-schools anti-satellite-test-ban  \\\n",
              "0                           y                       n   \n",
              "1                           y                       n   \n",
              "2                           y                       n   \n",
              "3                           y                       n   \n",
              "4                           y                       n   \n",
              "\n",
              "  aid-to-nicaraguan-contras mx-missile immigration  \\\n",
              "0                         n          n           y   \n",
              "1                         n          n           n   \n",
              "2                         n          n           n   \n",
              "3                         n          n           n   \n",
              "4                         n          n           n   \n",
              "\n",
              "  synfuels-corporation-cutback education-spending superfund-right-to-sue  \\\n",
              "0                          NaN                  y                      y   \n",
              "1                            n                  y                      y   \n",
              "2                            y                  n                      y   \n",
              "3                            y                  n                      y   \n",
              "4                            y                NaN                      y   \n",
              "\n",
              "  crime duty-free-exports export-administration-act-south-africa  \n",
              "0     y                 n                                      y  \n",
              "1     y                 n                                    NaN  \n",
              "2     y                 n                                      n  \n",
              "3     n                 n                                      y  \n",
              "4     y                 y                                      y  "
            ]
          },
          "execution_count": 3,
          "metadata": {},
          "output_type": "execute_result"
        }
      ],
      "source": [
        "data = pd.read_table(\"../data/voting.tab\", skiprows=[1,2])\n",
        "#data.replace({'y': 1, 'n': 0}, inplace=True)\n",
        "data.head()"
      ]
    },
    {
      "cell_type": "code",
      "execution_count": 4,
      "metadata": {},
      "outputs": [],
      "source": [
        "from sklearn import preprocessing\n",
        "\n",
        "X = data.drop('party', axis=1).values\n",
        "enc = preprocessing.OrdinalEncoder()\n",
        "X = enc.fit_transform(X)\n",
        "y = data['party'].values"
      ]
    },
    {
      "cell_type": "markdown",
      "metadata": {
        "tags": [
          "sl"
        ]
      },
      "source": [
        "Podatki vsebujejo neznane vrednosti. Preden lahko uporabimo u\u010dne algoritme, jih moramo zapolniti. Uporabimo imputator."
      ]
    },
    {
      "cell_type": "markdown",
      "metadata": {
        "tags": [
          "en"
        ]
      },
      "source": [
        "The data contains unknown values. Before we can use the learning algorithms, we need to fill them. We use an imputer."
      ]
    },
    {
      "cell_type": "code",
      "execution_count": 5,
      "metadata": {},
      "outputs": [
        {
          "data": {
            "text/plain": [
              "array([[0.        , 1.        , 0.        , ..., 1.        , 0.        ,\n",
              "        1.        ],\n",
              "       [0.        , 1.        , 0.        , ..., 1.        , 0.        ,\n",
              "        0.81268882],\n",
              "       [0.44208038, 1.        , 1.        , ..., 1.        , 0.        ,\n",
              "        0.        ],\n",
              "       ...,\n",
              "       [0.        , 0.50387597, 0.        , ..., 1.        , 0.        ,\n",
              "        1.        ],\n",
              "       [0.        , 0.        , 0.        , ..., 1.        , 0.        ,\n",
              "        1.        ],\n",
              "       [0.        , 1.        , 0.        , ..., 1.        , 0.42751843,\n",
              "        0.        ]])"
            ]
          },
          "execution_count": 5,
          "metadata": {},
          "output_type": "execute_result"
        }
      ],
      "source": [
        "from sklearn.impute import SimpleImputer\n",
        "imp = SimpleImputer(missing_values=np.nan, strategy='mean')\n",
        "imp.fit(X)\n",
        "X = imp.transform(X)\n",
        "X"
      ]
    },
    {
      "cell_type": "code",
      "execution_count": 6,
      "metadata": {},
      "outputs": [],
      "source": [
        "clf = LogisticRegression()\n",
        "model = clf.fit(X, y)"
      ]
    },
    {
      "cell_type": "code",
      "execution_count": 7,
      "metadata": {},
      "outputs": [
        {
          "data": {
            "text/plain": [
              "array(['republican', 'republican', 'democrat'], dtype=object)"
            ]
          },
          "execution_count": 7,
          "metadata": {},
          "output_type": "execute_result"
        }
      ],
      "source": [
        "model.predict(X[:3])"
      ]
    },
    {
      "cell_type": "markdown",
      "metadata": {
        "tags": [
          "sl"
        ]
      },
      "source": [
        "Zgoraj smo prebrali podatke, konstruirali logisti\u010dno regresijo in mu dali podatkovni niz za izdelavo klasifikatorja ter ga uporabili za predvidevanje razreda prvih treh podatkovnih primerkov. Te koncepte uporabljamo tudi v naslednji kodi, ki napoveduje razrede izbranih treh primerkov v naboru podatkov:"
      ]
    },
    {
      "cell_type": "markdown",
      "metadata": {
        "tags": [
          "en"
        ]
      },
      "source": [
        "Above, we read the data, constructed a logistic regression learner, gave it the dataset to construct a classifier, and used it to predict the class of the first three data instances. We also use these concepts in the following code that predicts the classes of the selected three instances in the dataset:"
      ]
    },
    {
      "cell_type": "code",
      "execution_count": 8,
      "metadata": {},
      "outputs": [
        {
          "name": "stdout",
          "output_type": "stream",
          "text": [
            "democrat, originally democrat\n",
            "republican, originally democrat\n",
            "republican, originally republican\n"
          ]
        }
      ],
      "source": [
        "for i in range(5,8):\n",
        "    c = model.predict(X[i].reshape(1, -1))\n",
        "    print(\"{}, originally {}\".format(c[0], y[i]))"
      ]
    },
    {
      "cell_type": "markdown",
      "metadata": {
        "tags": [
          "sl"
        ]
      },
      "source": [
        "Logisti\u010dna regresija je v drugem primeru naredila napako, sicer pa je napovedana pravilno. Ni \u010dudno, saj so bili to tudi podatki, na katerih se je u\u010dila. Naslednja koda upo\u0161teva \u0161tevilo takih napak v celotnem naboru podatkov:"
      ]
    },
    {
      "cell_type": "markdown",
      "metadata": {
        "tags": [
          "en"
        ]
      },
      "source": [
        "Logistic regression has made a mistake in the second case, but otherwise predicted correctly. No wonder, since this was also the data it trained from. The following code counts the number of such mistakes in the entire dataset:"
      ]
    },
    {
      "cell_type": "code",
      "execution_count": 9,
      "metadata": {},
      "outputs": [
        {
          "data": {
            "text/plain": [
              "12"
            ]
          },
          "execution_count": 9,
          "metadata": {},
          "output_type": "execute_result"
        }
      ],
      "source": [
        "np.sum(y != model.predict(X))"
      ]
    },
    {
      "cell_type": "markdown",
      "metadata": {
        "tags": [
          "sl"
        ]
      },
      "source": [
        "To \u0161tevilo nam ne pove dosti o natan\u010dnosti klasifikatorja. Prej\u0161nji teden smo spoznali bolj\u0161i na\u010din. "
      ]
    },
    {
      "cell_type": "markdown",
      "metadata": {
        "tags": [
          "en"
        ]
      },
      "source": [
        "This number does not tell us much about the accuracy of the classifier. Last week we learnt of a better way."
      ]
    },
    {
      "cell_type": "code",
      "execution_count": 10,
      "metadata": {},
      "outputs": [
        {
          "name": "stdout",
          "output_type": "stream",
          "text": [
            "Accuracy: 0.9724137931034482\n"
          ]
        }
      ],
      "source": [
        "from sklearn.metrics import accuracy_score\n",
        "print(\"Accuracy:\", accuracy_score(y, model.predict(X)))"
      ]
    },
    {
      "cell_type": "markdown",
      "metadata": {
        "tags": [
          "sl"
        ]
      },
      "source": [
        "\u010ce \u017eelite izvedeti, kak\u0161na je verjetnost, da razvr\u0161\u010devalec dodeli, recimo, razred za demokrate, moramo klasifikator poklicati z druga\u010dno funkcijo, ki vrne verjetnost za posamezen razred."
      ]
    },
    {
      "cell_type": "markdown",
      "metadata": {
        "tags": [
          "en"
        ]
      },
      "source": [
        "To find out what is the probability that the classifier assigns to, say, democrat class, we need to call the classifier with another function, that returns the probabilities for each class."
      ]
    },
    {
      "cell_type": "code",
      "execution_count": 11,
      "metadata": {},
      "outputs": [
        {
          "name": "stdout",
          "output_type": "stream",
          "text": [
            "Probabilities for democrat:\n",
            "0.9825228000129097, originally democrat\n",
            "0.16061789979173025, originally democrat\n",
            "0.10249298023889775, originally republican\n"
          ]
        }
      ],
      "source": [
        "target_class = 0\n",
        "print(\"Probabilities for %s:\" % model.classes_[target_class])\n",
        "for i in range(5,8):\n",
        "    probabilities = model.predict_proba(X[i].reshape(1, -1))\n",
        "    print(\"{}, originally {}\".format(probabilities[0, target_class], y[i]))"
      ]
    },
    {
      "cell_type": "markdown",
      "metadata": {
        "tags": [
          "sl"
        ]
      },
      "source": [
        "Scikit-learn vklju\u010duje razli\u010dne klasifikacijske algoritme, med drugim:\n",
        "\n",
        "* logisti\u010dna regresija (`sklearn.linear_model.LogisticRegression`)\n",
        "* k najbli\u017ejih sosedov (`sklearn.neighbors.KNeighborsClassifier`)\n",
        "* support vector machines (npr. `sklearn.svm.SVC`)\n",
        "* klasifikacijska drevesa (`sklearn.tree.DecisionTreeClassifier`)\n",
        "* naklju\u010dni gozd (`sklearn.ensemble.RandomForestClassifier`)\n",
        "\n",
        "Nekatere od teh so vklju\u010dene v kodo, ki ocenjuje verjetnost ciljnega razreda na preskusnih podatkih. Tokrat se podatki za u\u010denje in testiranje razlikujejo:"
      ]
    },
    {
      "cell_type": "markdown",
      "metadata": {
        "tags": [
          "en"
        ]
      },
      "source": [
        "Scikit-learn includes a variety of classification algorithms, including:\n",
        "\n",
        "* logistic regression (`sklearn.linear_model.LogisticRegression`)\n",
        "* k-nearest neighbors (`sklearn.neighbors.KNeighborsClassifier`)\n",
        "* support vector machines (say, `sklearn.svm.SVC`)\n",
        "* classification trees (`sklearn.tree.DecisionTreeClassifier`)\n",
        "* random forest (`sklearn.ensemble.RandomForestClassifier`)\n",
        "\n",
        "Some of these are included in the code that estimates the probability of a target class on a testing data. This time, training and test datasets are disjoint:"
      ]
    },
    {
      "cell_type": "code",
      "execution_count": 12,
      "metadata": {},
      "outputs": [
        {
          "name": "stdout",
          "output_type": "stream",
          "text": [
            "Probabilities for democrat:\n",
            "original class  DecisionTreeClassifier KNeighborsClassifier LogisticRegression\n",
            "democrat        1.000\t\t\t 1.000\t\t\t 0.876\t\t\t\n",
            "democrat        1.000\t\t\t 1.000\t\t\t 0.850\t\t\t\n",
            "republican      0.008\t\t\t 0.000\t\t\t 0.068\t\t\t\n",
            "republican      0.008\t\t\t 0.000\t\t\t 0.100\t\t\t\n",
            "republican      0.227\t\t\t 0.000\t\t\t 0.207\t\t\t\n"
          ]
        }
      ],
      "source": [
        "from sklearn.model_selection import train_test_split\n",
        "from sklearn.tree import DecisionTreeClassifier\n",
        "from sklearn.neighbors import KNeighborsClassifier\n",
        "\n",
        "X_train, X_test, y_train, y_test = train_test_split(\n",
        "    X, y, test_size=5, random_state=42)\n",
        "\n",
        "tree = DecisionTreeClassifier(max_depth=3)\n",
        "knn = KNeighborsClassifier(n_neighbors=3)\n",
        "lr = LogisticRegression(C=0.1)\n",
        "\n",
        "learners = [tree, knn, lr]\n",
        "classifiers = [learner.fit(X_train, y_train) for learner in learners]\n",
        "\n",
        "target = 0\n",
        "print(\"Probabilities for %s:\" % model.classes_[target])\n",
        "print(\"original class \", \" \".join(\"%-5s\" % l.__class__.__name__ for l in classifiers))\n",
        "\n",
        "c_values = model.classes_\n",
        "for i in range(len(X_test)):\n",
        "    print((\"{:<15}\" + \" {:.3f}\\t\\t\\t\"*len(classifiers)).format(\n",
        "        y_test[i],\n",
        "        *(c.predict_proba(X_test[i].reshape(1, -1))[0, target] for c in classifiers)    \n",
        "    ))"
      ]
    },
    {
      "cell_type": "markdown",
      "metadata": {
        "tags": [
          "sl"
        ]
      },
      "source": [
        "##### Vpra\u0161anje 5-3-1\n",
        "Preizkusi razli\u010dne klasifikatorje. Kateri deluje najbolje na danih podatkih?"
      ]
    },
    {
      "cell_type": "markdown",
      "metadata": {
        "tags": [
          "en"
        ]
      },
      "source": [
        "##### Question 5-3-1\n",
        "Test different classifiers. Which works best on given data?"
      ]
    },
    {
      "cell_type": "code",
      "execution_count": null,
      "metadata": {},
      "outputs": [],
      "source": []
    },
    {
      "cell_type": "markdown",
      "metadata": {
        "tags": [
          "sl"
        ]
      },
      "source": [
        "### Krivulja ROC in povr\u0161ina pod krivuljo (Area Under Curve - AUC)"
      ]
    },
    {
      "cell_type": "markdown",
      "metadata": {
        "tags": [
          "en"
        ]
      },
      "source": [
        "### ROC curve and Area Under Curve (AUC)"
      ]
    },
    {
      "cell_type": "markdown",
      "metadata": {
        "tags": [
          "sl"
        ]
      },
      "source": [
        "Krivulja ROC je na\u010din, kako oceniti kvaliteto klasifikacije. Tipi\u010dno na y os ozna\u010dimo dele\u017e resni\u010dno pozitivnih (TP rate) in na x os dele\u017e la\u017eno pozitivnih (FP rate). Zgornji levi kot nam tako predstavlja idealni model brez la\u017eno pozitivnih primerov in s 100% dele\u017eem resni\u010dno pozitivnih."
      ]
    },
    {
      "cell_type": "markdown",
      "metadata": {
        "tags": [
          "en"
        ]
      },
      "source": [
        "The ROC curve is a way to assess the quality of the classification. Typically, the y axis indicates true positive rate, and the x axis the false positive rate. The upper left corner represents an ideal model without false positives and with a 100% true positive rate."
      ]
    },
    {
      "cell_type": "code",
      "execution_count": 13,
      "metadata": {},
      "outputs": [],
      "source": [
        "data = pd.read_table('podatki/titanic-training.tab', skiprows=[1,2])\n",
        "X = data.drop('survived', axis=1).values\n",
        "y = data['survived'].values\n",
        "\n",
        "enc = preprocessing.OrdinalEncoder()\n",
        "X = enc.fit_transform(X)\n",
        "\n",
        "X_train, X_test, y_train, y_test = train_test_split(\n",
        "    X, y, test_size=0.5, random_state=42)\n",
        "\n",
        "learner = LogisticRegression()\n",
        "classifier = learner.fit(X_train, y_train)\n",
        "predictions = classifier.predict_proba(X_test)"
      ]
    },
    {
      "cell_type": "code",
      "execution_count": 14,
      "metadata": {},
      "outputs": [
        {
          "data": {
            "image/jpeg": "[encoded data removed]",
            "text/plain": [
              "<Figure size 450x300 with 1 Axes>"
            ]
          },
          "metadata": {},
          "output_type": "display_data"
        }
      ],
      "source": [
        "from sklearn.metrics import roc_curve, auc\n",
        "\n",
        "fpr, tpr, _ = roc_curve(y_test, predictions[:,1], pos_label='yes')\n",
        "roc_auc = auc(fpr, tpr)\n",
        "\n",
        "plt.figure()\n",
        "lw = 2\n",
        "plt.plot(fpr, tpr, color='darkorange',\n",
        "         lw=lw, label='ROC curve (area = %0.2f)' % roc_auc)\n",
        "plt.plot([0, 1], [0, 1], color='navy', lw=lw, linestyle='--')\n",
        "plt.xlim([0.0, 1.0])\n",
        "plt.ylim([0.0, 1.05])\n",
        "plt.xlabel('False Positive Rate')\n",
        "plt.ylabel('True Positive Rate')\n",
        "plt.title('Receiver operating characteristic example')\n",
        "plt.legend(loc=\"lower right\")\n",
        "plt.show()"
      ]
    },
    {
      "cell_type": "markdown",
      "metadata": {
        "tags": [
          "sl"
        ]
      },
      "source": [
        "##### Vpra\u0161anje 5-3-2\n",
        "Poi\u0161\u010di modele z ve\u010djo povr\u0161ino pod krivuljo."
      ]
    },
    {
      "cell_type": "markdown",
      "metadata": {
        "tags": [
          "en"
        ]
      },
      "source": [
        "##### Question 5-3-2\n",
        "Find models with a larger area under curve."
      ]
    },
    {
      "cell_type": "code",
      "execution_count": null,
      "metadata": {},
      "outputs": [],
      "source": []
    },
    {
      "cell_type": "markdown",
      "metadata": {
        "tags": [
          "sl"
        ]
      },
      "source": [
        "### Pre\u010dno preverjanje"
      ]
    },
    {
      "cell_type": "markdown",
      "metadata": {
        "tags": [
          "en"
        ]
      },
      "source": [
        "### Cross-Validation"
      ]
    },
    {
      "cell_type": "markdown",
      "metadata": {
        "tags": [
          "sl"
        ]
      },
      "source": [
        "Ocenjevanje to\u010dnosti klasifikatorjev na u\u010dni mno\u017eici, kot smo to storili zgoraj, slu\u017ei samo za predstavitvene namene. Vsako mero natan\u010dnosti, je treba oceniti na neodvisni mno\u017eici. Tak je tudi postopek, imenovan pre\u010dno preverjanje, ki povpre\u010di vrednotenje po ve\u010d izvajanjih, vsaki\u010d z druga\u010dno u\u010dno in testno mno\u017eico, ki so vzor\u010deni iz prvotnega nabora podatkov:"
      ]
    },
    {
      "cell_type": "markdown",
      "metadata": {
        "tags": [
          "en"
        ]
      },
      "source": [
        "Validating the accuracy of classifiers on the training data, as we did above, serves demonstration purposes only. Any performance measure that assesses accuracy should be estimated on the independent test set. Such is also a procedure called cross-validation, which averages the evaluation scores across several runs, each time considering a different training and test subsets as sampled from the original dataset:"
      ]
    },
    {
      "cell_type": "code",
      "execution_count": 15,
      "metadata": {},
      "outputs": [
        {
          "name": "stdout",
          "output_type": "stream",
          "text": [
            "Accuracy: 0.784\n",
            "AUC:      0.752\n"
          ]
        }
      ],
      "source": [
        "from sklearn.model_selection import cross_validate\n",
        "\n",
        "learner = LogisticRegression()\n",
        "scores = cross_validate(learner, X, y, cv=5, scoring=['accuracy', 'roc_auc'])\n",
        "\n",
        "print(\"Accuracy: %.3f\" % scores['test_accuracy'].mean())\n",
        "print(\"AUC:      %.3f\" % scores['test_roc_auc'].mean())"
      ]
    },
    {
      "cell_type": "markdown",
      "metadata": {
        "tags": [
          "sl"
        ]
      },
      "source": [
        "Z zgornjim pre\u010dnim preverjanjem lahko ocenimo samo enega u\u010denca. \u010ce \u017eelimo oceniti ve\u010d u\u010dencev hkrati, moramo eksplicitno razdeliti podatke na u\u010dno in testno mno\u017eico in za vsako razdelitev nau\u010diti modele."
      ]
    },
    {
      "cell_type": "markdown",
      "metadata": {
        "tags": [
          "en"
        ]
      },
      "source": [
        "With the cross-validation above we can evaluate only one learner. If we want to evaluate multiple learners at the same time, we have to split the data and fit the models at each split."
      ]
    },
    {
      "cell_type": "markdown",
      "metadata": {
        "tags": [
          "sl"
        ]
      },
      "source": [
        "Naslednja koda pre\u010dno preverja tri u\u010dence na zbirki podatkov titanic."
      ]
    },
    {
      "cell_type": "markdown",
      "metadata": {
        "tags": [
          "en"
        ]
      },
      "source": [
        "The following code cross-validates three learners on the titanic dataset."
      ]
    },
    {
      "cell_type": "code",
      "execution_count": 16,
      "metadata": {},
      "outputs": [
        {
          "name": "stdout",
          "output_type": "stream",
          "text": [
            "          DecisionTreeClassifier KNeighborsClassifier LogisticRegression\n",
            "Accuracy\t 0.80\t\t\t0.78\t\t\t0.78\n",
            "AUC\t\t 0.77\t\t\t0.73\t\t\t0.75\n"
          ]
        }
      ],
      "source": [
        "from sklearn.model_selection import KFold\n",
        "from collections import defaultdict\n",
        "\n",
        "tree = DecisionTreeClassifier(max_depth=3)\n",
        "knn = KNeighborsClassifier(n_neighbors=2)\n",
        "lr = LogisticRegression(C=0.1)\n",
        "classifiers = [tree, knn, lr]\n",
        "\n",
        "acc = defaultdict(list)\n",
        "aucs = defaultdict(list)\n",
        "\n",
        "kf = KFold(n_splits=5)\n",
        "for train, test in kf.split(X):\n",
        "    X_train, X_test, y_train, y_test = X[train], X[test], y[train], y[test]\n",
        "    for clf in classifiers:\n",
        "        clf.fit(X_train, y_train)\n",
        "        acc[clf].append(accuracy_score(y_test, clf.predict(X_test)))\n",
        "        \n",
        "        fpr, tpr, _ = roc_curve(y_test, clf.predict_proba(X_test)[:,1], pos_label='yes')\n",
        "        aucs[clf].append(auc(fpr, tpr))\n",
        "        \n",
        "print(\" \"*9, \" \".join(\"%-5s\" % l.__class__.__name__ for l in classifiers))\n",
        "print(\"Accuracy\\t\", \"\\t\\t\\t\".join(\"%.2f\" % np.array(acc[clf]).mean() for clf in classifiers))\n",
        "print(\"AUC\\t\\t\", \"\\t\\t\\t\".join(\"%.2f\" % np.array(aucs[clf]).mean() for clf in classifiers))"
      ]
    },
    {
      "cell_type": "markdown",
      "metadata": {
        "tags": [
          "sl"
        ]
      },
      "source": [
        "Seveda lahko tudi pre\u010dno preverimo u\u010dence istega tipa z razli\u010dnimi parametri."
      ]
    },
    {
      "cell_type": "markdown",
      "metadata": {
        "tags": [
          "en"
        ]
      },
      "source": [
        "Of course, we can also cross-check learners of the same type with different parameters."
      ]
    },
    {
      "cell_type": "code",
      "execution_count": 17,
      "metadata": {},
      "outputs": [
        {
          "name": "stdout",
          "output_type": "stream",
          "text": [
            "          k n n       k n n       k n n      \n",
            "neighbors  3           5           7         \n",
            "Accuracy  0.75        0.75        0.76       \n",
            "AUC       0.71        0.71        0.74       \n"
          ]
        }
      ],
      "source": [
        "from sklearn.model_selection import GridSearchCV\n",
        "\n",
        "parameters = {'n_neighbors':[3, 5, 7]}\n",
        "knn = KNeighborsClassifier()\n",
        "\n",
        "clf = GridSearchCV(knn, parameters, scoring=['accuracy', 'roc_auc'], refit='accuracy')\n",
        "clf.fit(X,y)\n",
        "clf.cv_results_\n",
        "print(\" \"*10 + \" \".join(\"knn   \"*3 ))\n",
        "print(\"neighbors \" + \" \".join(\" %i         \" % i for i in [3, 5, 7]))\n",
        "print(\"Accuracy  %s\" % \" \".join(\"%.2f       \" % s for s in clf.cv_results_['mean_test_accuracy']))\n",
        "print(\"AUC       %s\" % \" \".join(\"%.2f       \" % s for s in clf.cv_results_['mean_test_roc_auc']))"
      ]
    },
    {
      "cell_type": "markdown",
      "metadata": {
        "tags": [
          "sl"
        ]
      },
      "source": [
        "##### Vpra\u0161anje 5-3-3\n",
        "Izberi metodo klasificiranja in s pre\u010dnim preverjanjem testiraj razli\u010dne vrednosti parametrov."
      ]
    },
    {
      "cell_type": "markdown",
      "metadata": {
        "tags": [
          "en"
        ]
      },
      "source": [
        "##### Question 5-3-3\n",
        "Select a classifying method and use cross validation to evaluate different parameter values."
      ]
    },
    {
      "cell_type": "code",
      "execution_count": null,
      "metadata": {},
      "outputs": [],
      "source": []
    }
  ],
  "metadata": {
    "kernelspec": {
      "display_name": "Python 3 (ipykernel)",
      "language": "python",
      "name": "python3"
    },
    "language_info": {
      "codemirror_mode": {
        "name": "ipython",
        "version": 3
      },
      "file_extension": ".py",
      "mimetype": "text/x-python",
      "name": "python",
      "nbconvert_exporter": "python",
      "pygments_lexer": "ipython3",
      "version": "3.11.8"
    },
    "latex_envs": {
      "LaTeX_envs_menu_present": true,
      "autoclose": false,
      "autocomplete": true,
      "bibliofile": "biblio.bib",
      "cite_by": "apalike",
      "current_citInitial": 1,
      "eqLabelWithNumbers": true,
      "eqNumInitial": 1,
      "hotkeys": {
        "equation": "Ctrl-E",
        "itemize": "Ctrl-I"
      },
      "labels_anchors": false,
      "latex_user_defs": false,
      "report_style_numbering": false,
      "user_envs_cfg": false
    },
    "nbTranslate": {
      "displayLangs": [
        "*"
      ],
      "hotkey": "alt-t",
      "langInMainMenu": true,
      "sourceLang": "sl",
      "targetLang": "en",
      "useGoogleTranslate": true
    }
  },
  "nbformat": 4,
  "nbformat_minor": 2
}