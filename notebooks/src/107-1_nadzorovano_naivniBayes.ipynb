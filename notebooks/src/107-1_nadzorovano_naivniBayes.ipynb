{
  "cells": [
    {
      "cell_type": "markdown",
      "metadata": {
        "tags": [
          "sl"
        ]
      },
      "source": [
        "## Naivni Bayesov klasifikator"
      ]
    },
    {
      "cell_type": "markdown",
      "metadata": {
        "tags": [
          "en"
        ]
      },
      "source": [
        "## Naive Bayes Classifier"
      ]
    },
    {
      "cell_type": "code",
      "execution_count": 1,
      "metadata": {},
      "outputs": [],
      "source": [
        "import numpy as np\n",
        "import pandas as pd"
      ]
    },
    {
      "cell_type": "markdown",
      "metadata": {
        "tags": [
          "sl"
        ]
      },
      "source": [
        "### Primer za ogrevanje\n",
        "\n",
        "V letniku \u0161portne gimnazije imamo 20 u\u010dencev. Vsak od njih sodeluje pri enem od \u0161portov: ```kosarka```, ```nogomet```, ```gimnastika```. Njihovo vi\u0161ino smo ocenili \"na oko\" in vsakemu u\u010dencu pripisali eno od mo\u017enih vrednosti: ```nizek```, ```srednji``` ali ```visok```."
      ]
    },
    {
      "cell_type": "markdown",
      "metadata": {
        "tags": [
          "en"
        ]
      },
      "source": [
        "### Warmup example\n",
        "\n",
        "There are 20 pupils in a year of sports high school. Each of them participates in one of the sports: ```basketball```, ```football```, ```gymnastics```. We evaluated their height \"on the eye\" and assigned to each pupil one of the possible values: ```low```, ```average``` or ```high```."
      ]
    },
    {
      "cell_type": "markdown",
      "metadata": {},
      "source": [
        "<img src=\"../slike/footballers.png\" width=600/>"
      ]
    },
    {
      "cell_type": "markdown",
      "metadata": {
        "tags": [
          "sl"
        ]
      },
      "source": [
        "<font color=\"blue\"> Kako bi novemu u\u010dencu Marku, ki je ```srednje``` rasti predlagali najprimernej\u0161i \u0161port? </font>"
      ]
    },
    {
      "cell_type": "markdown",
      "metadata": {
        "tags": [
          "en"
        ]
      },
      "source": [
        "<font color=\"blue\">How would you suggest the most appropriate sport for the new pupil Mark, who is of ```average``` height? </font>"
      ]
    },
    {
      "cell_type": "code",
      "execution_count": null,
      "metadata": {},
      "outputs": [],
      "source": [
        "data = pd.read_table('../data/sportniki.tab', skiprows=[1,2])"
      ]
    },
    {
      "cell_type": "code",
      "execution_count": 3,
      "metadata": {},
      "outputs": [
        {
          "data": {
            "text/plain": [
              "Index(['visina', 'sport'], dtype='object')"
            ]
          },
          "execution_count": 3,
          "metadata": {},
          "output_type": "execute_result"
        }
      ],
      "source": [
        "data.columns"
      ]
    },
    {
      "cell_type": "code",
      "execution_count": 4,
      "metadata": {
        "scrolled": true
      },
      "outputs": [
        {
          "data": {
            "text/html": [
              "<div>\n",
              "<style scoped>\n",
              "    .dataframe tbody tr th:only-of-type {\n",
              "        vertical-align: middle;\n",
              "    }\n",
              "\n",
              "    .dataframe tbody tr th {\n",
              "        vertical-align: top;\n",
              "    }\n",
              "\n",
              "    .dataframe thead th {\n",
              "        text-align: right;\n",
              "    }\n",
              "</style>\n",
              "<table border=\"1\" class=\"dataframe\">\n",
              "  <thead>\n",
              "    <tr style=\"text-align: right;\">\n",
              "      <th></th>\n",
              "      <th>visina</th>\n",
              "      <th>sport</th>\n",
              "    </tr>\n",
              "  </thead>\n",
              "  <tbody>\n",
              "    <tr>\n",
              "      <th>0</th>\n",
              "      <td>visok</td>\n",
              "      <td>kosarka</td>\n",
              "    </tr>\n",
              "    <tr>\n",
              "      <th>1</th>\n",
              "      <td>visok</td>\n",
              "      <td>kosarka</td>\n",
              "    </tr>\n",
              "    <tr>\n",
              "      <th>2</th>\n",
              "      <td>visok</td>\n",
              "      <td>kosarka</td>\n",
              "    </tr>\n",
              "    <tr>\n",
              "      <th>3</th>\n",
              "      <td>visok</td>\n",
              "      <td>kosarka</td>\n",
              "    </tr>\n",
              "    <tr>\n",
              "      <th>4</th>\n",
              "      <td>srednji</td>\n",
              "      <td>kosarka</td>\n",
              "    </tr>\n",
              "  </tbody>\n",
              "</table>\n",
              "</div>"
            ],
            "text/plain": [
              "    visina    sport\n",
              "0    visok  kosarka\n",
              "1    visok  kosarka\n",
              "2    visok  kosarka\n",
              "3    visok  kosarka\n",
              "4  srednji  kosarka"
            ]
          },
          "execution_count": 4,
          "metadata": {},
          "output_type": "execute_result"
        }
      ],
      "source": [
        "data[:5]"
      ]
    },
    {
      "cell_type": "markdown",
      "metadata": {
        "tags": [
          "sl"
        ]
      },
      "source": [
        "Za za\u010detek poglejmo kako popularni so posamezni \u0161porti:"
      ]
    },
    {
      "cell_type": "markdown",
      "metadata": {
        "tags": [
          "en"
        ]
      },
      "source": [
        "To start, let's look at how popular each sport is:"
      ]
    },
    {
      "cell_type": "code",
      "execution_count": 5,
      "metadata": {
        "scrolled": false
      },
      "outputs": [
        {
          "name": "stdout",
          "output_type": "stream",
          "text": [
            "kosarka\n",
            "    visina    sport\n",
            "0    visok  kosarka\n",
            "1    visok  kosarka\n",
            "2    visok  kosarka\n",
            "3    visok  kosarka\n",
            "4  srednji  kosarka\n",
            "5  srednji  kosarka\n",
            "6    nizek  kosarka\n",
            "7    visok  kosarka\n",
            "\n",
            "Sport (Y): kosarka, \u0161tevilo: 8, verjetnost P(Y): 0.400000\n",
            "nogomet\n",
            "     visina    sport\n",
            "8   srednji  nogomet\n",
            "9   srednji  nogomet\n",
            "10  srednji  nogomet\n",
            "11    visok  nogomet\n",
            "12    visok  nogomet\n",
            "13    nizek  nogomet\n",
            "14    nizek  nogomet\n",
            "\n",
            "Sport (Y): nogomet, \u0161tevilo: 7, verjetnost P(Y): 0.350000\n",
            "gimnastika\n",
            "     visina       sport\n",
            "15    nizek  gimnastika\n",
            "16    nizek  gimnastika\n",
            "17    nizek  gimnastika\n",
            "18  srednji  gimnastika\n",
            "19  srednji  gimnastika\n",
            "\n",
            "Sport (Y): gimnastika, \u0161tevilo: 5, verjetnost P(Y): 0.250000\n"
          ]
        }
      ],
      "source": [
        "for sport in pd.unique(data['sport']):\n",
        "    subset = data.loc[data['sport'] == sport]\n",
        "    \n",
        "    print(sport)\n",
        "    print(subset)\n",
        "    print()\n",
        "    \n",
        "    py     = len(subset) / len(data)\n",
        "    print(\"Sport (Y): %s, \u0161tevilo: %d, verjetnost P(Y): %f\" % (sport, len(subset), py))"
      ]
    },
    {
      "cell_type": "markdown",
      "metadata": {
        "tags": [
          "sl"
        ]
      },
      "source": [
        "Najpopularnej\u0161i \u0161port je ko\u0161arka, s katerim se ukvarja 8 oz. 40% u\u010dencev. Na\u0161 prvi predlog je torej, naj se Marko ukvarja s ko\u0161arko. S tem rezultatom nismo najbolj zadovoljni, saj vidimo da med ko\u0161arka\u0161i ni veliko \u0161portnikov ```srednje``` vi\u0161ine. Razlog? Pri izra\u010dunu nismo upo\u0161tevali verjetnosti lastnosti oz. *atributa* o Markovi vi\u0161ini.\n",
        "\n",
        "<div style=\"background-color:#00ccff; margin-left:50px; margin-right:50px\"> Splo\u0161nim verjetnostmi razredov, ki smo jih izra\u010dunali pravimo *apriorne* verjetnosti.\n",
        "\n",
        "Ozna\u010dimo jih s $P(Y)$, kjer je $Y$ spremenljivka razreda.\n",
        "</div>\n",
        "\n",
        "V na\u0161em primeru $Y$ zavzame vrednostmi {```kosarka```, ```nogomet```, ```gimnastika```}."
      ]
    },
    {
      "cell_type": "markdown",
      "metadata": {
        "tags": [
          "en"
        ]
      },
      "source": [
        "The most popular sport is basketball, with 8 or 40% of pupils participating in it. Our first suggestion is that Marko should play basketball. This result is not the most satisfying, as we see that among basketball players there are not many athletes of ```medium``` height. The reason? In calculating, we did not take into account the probability of the property or *attribute* about Mark's height.\n",
        "\n",
        "<div style=\"background-color:#00ccff; margin-left:50px; margin-right:50px\"> The general probabilities of the classes that we calculated are called *a priori* probabilities.\n",
        "\n",
        "Let us label them with $P(Y)$, where $Y$ is a class variable.\n",
        "</div>\n",
        "\n",
        "In our example, $Y$ takes on the values {```basketball```, ```football```, ```gymnastics```}."
      ]
    },
    {
      "cell_type": "code",
      "execution_count": 6,
      "metadata": {},
      "outputs": [
        {
          "name": "stdout",
          "output_type": "stream",
          "text": [
            "Sport (Y): kosarka, \u0161t. srednje visokih: 2, verjetnost P(X=srednji|Y=kosarka): 0.250000\n",
            "    visina    sport\n",
            "4  srednji  kosarka\n",
            "5  srednji  kosarka\n",
            "\n",
            "Sport (Y): nogomet, \u0161t. srednje visokih: 3, verjetnost P(X=srednji|Y=nogomet): 0.428571\n",
            "     visina    sport\n",
            "8   srednji  nogomet\n",
            "9   srednji  nogomet\n",
            "10  srednji  nogomet\n",
            "\n",
            "Sport (Y): gimnastika, \u0161t. srednje visokih: 2, verjetnost P(X=srednji|Y=gimnastika): 0.400000\n",
            "     visina       sport\n",
            "18  srednji  gimnastika\n",
            "19  srednji  gimnastika\n",
            "\n"
          ]
        }
      ],
      "source": [
        "for sport in pd.unique(data['sport']):\n",
        "    subset_y = data.loc[data['sport'] == sport]\n",
        "    subset_x = subset_y.loc[data['visina'] == 'srednji']\n",
        "    p_xy = len(subset_x) / len(subset_y)\n",
        "    \n",
        "    print(\"Sport (Y): %s, \u0161t. srednje visokih: %d, verjetnost P(X=srednji|Y=%s): %f\" % (sport, len(subset_x), sport, p_xy, ))\n",
        "    print(subset_x)\n",
        "    print()"
      ]
    },
    {
      "cell_type": "markdown",
      "metadata": {
        "tags": [
          "sl"
        ]
      },
      "source": [
        "\n",
        "<br/>\n",
        "Zanimivo! Verjetnost ```srednje``` vi\u0161ine je najve\u010dja med nogometa\u0161i. Ali podatek zado\u0161\u010da za spremembo prvotne odlo\u010ditve?\n",
        "\n",
        "<br/>\n",
        "<div style=\"background-color:#00ccff; margin-left:50px; margin-right:50px\">\n",
        "Verjetnosti $P(X|Y)$ pravimo <i>pogojna verjetnost spremenljivke $X$ pri znanem $Y$</i>.  Opredeljuje verjetnost, da je v primerih razreda $Y$ atribut $X$ zavzame dolo\u010deno vrednost. \n",
        "</div>\n",
        "\n",
        "Katera verjetnost pa nas v resnici zanima? \u017delimo, da izra\u010dun upo\u0161teva Markovo vi\u0161ino in oceni verjetnost vsakega od \u0161portov. To je verjetnost\n",
        "\n",
        "$$ P(Y|X) $$\n",
        "\n",
        "oz. v Markovem primeru\n",
        "\n",
        "$$ P(Y|X=srednji)$$\n",
        "\n",
        "Za izra\u010dun te verjetnosti uporabimo"
      ]
    },
    {
      "cell_type": "markdown",
      "metadata": {
        "tags": [
          "en"
        ]
      },
      "source": [
        "<br/>\n",
        "Interesting! The likelihood of a `` medium '' height is the highest among footballers. Is the information sufficient to change the original decision?\n",
        "\n",
        "<br/>\n",
        "<div style=\"background-color:#00ccff; margin-left:50px; margin-right:50px\">\n",
        "The probabilities of $P(X|Y)$ are called <i>pogojna verjetnost spremenljivke $X$ pri znanem $Y$</i>. It determines the probability that in the cases of the $Y$ class the attribute $X$ takes a certain value.\n",
        "</div>\n",
        "\n",
        "What probability does we really care about? We want the calculation to take Mark's height into account and evaluate the likelihood of each of the sports. That's the probability\n",
        "\n",
        "$$ P(Y|X) $$\n",
        "\n",
        "or. in Mark's case\n",
        "\n",
        "$$ P(Y|X=srednji)$$\n",
        "\n",
        "We use this probability to calculate this probability"
      ]
    },
    {
      "cell_type": "markdown",
      "metadata": {
        "tags": [
          "sl"
        ]
      },
      "source": [
        "## Bayesov obrazec\n",
        "\n",
        "Da bi izra\u010dunali verjetno razreda pri danih atributih $P(Y|X)$, potrebujemo verjetnost za vse mo\u017ene kombinacije razreda $Y$ in atributov $X$, ki jo ozna\u010dimo z $P(X, Y)$. Iz pravil o pogojni verjetnosti sledi:\n",
        "\n",
        "$$ P(X, Y) = P(X|Y) \\cdot P(Y) = P(Y|X) \\cdot P(X)$$ \n",
        "\n",
        "<br/>\n",
        "<div style=\"background-color:#00ccff; margin-left:50px; margin-right:50px\">\n",
        "Iz \u010desar sledi <i>Bayesov obrazec</i> za izra\u010dun $P(Y|X)$:\n",
        "\n",
        "$$P(Y|X) = \\frac{P(X|Y) \\cdot P(Y)}{P(X)} $$ \n",
        "</div>\n",
        "<br/>\n",
        "\n",
        "Izra\u010dun verjetnosti razreda $Y$ pri znanih atributih $X$ je torej odvisen od apriorne verjetnosti razreda $P(Y)$, pogojne verjetnosti $P(X|Y)$ in apriorne verjetnosti atributov $P(X)$. <font color=\"blue\">V Markovem primeru torej:</font>\n",
        "\n",
        "$$P(Y|X=srednji) = \\frac{P(X=srednji|Y) \\cdot P(Y)}{P(X=srednji)} $$ \n",
        "\n",
        "\n",
        "<br/>\n",
        "<br/>\n",
        "\u010ce verjetnost ocenimo za vsako mo\u017eno vrednost razreda Y, torej {```kosarka```, ```nogomet```, ```gimnastika```}, dobimo odgovor na prvotno vpra\u0161anje."
      ]
    },
    {
      "cell_type": "markdown",
      "metadata": {
        "tags": [
          "en"
        ]
      },
      "source": [
        "## Bayes form\n",
        "\n",
        "In order to calculate the likely class for given attributes of $P(Y|X)$, we need probability for all possible combinations of the class $Y$ and attributes $X$, which is denoted by $P(X, Y)$. It follows from the rules on conditional probability:\n",
        "\n",
        "$$ P(X, Y) = P(X|Y) \\cdot P(Y) = P(Y|X) \\cdot P(X)$$\n",
        "\n",
        "<br/>\n",
        "<div style=\"background-color:#00ccff; margin-left:50px; margin-right:50px\">\n",
        "What follows is <i>Bayesov obrazec</i> for calculating $P(Y|X)$:\n",
        "\n",
        "$$P(Y|X) = \\frac{P(X|Y) \\cdot P(Y)}{P(X)} $$\n",
        "</div>\n",
        "<br/>\n",
        "\n",
        "The calculation of the probability of the class $Y$ in the known attribute of $X$ is therefore dependent on the a priori probability of the class $P(Y)$, the conditional probability of $P(X|Y)$, and the a priori probability of the attribute of $P(X)$. <font color=\"blue\">V In the example of Mark, then: </font>\n",
        "\n",
        "$$P(Y|X=srednji) = \\frac{P(X=srednji|Y) \\cdot P(Y)}{P(X=srednji)} $$\n",
        "\n",
        "\n",
        "<br/>\n",
        "<br/>\n",
        "If we estimate the probability for each possible value of the class Y, then {`` `basketball``,` `football```,` `` gymnastics```, we get the answer to the original question."
      ]
    },
    {
      "cell_type": "code",
      "execution_count": 7,
      "metadata": {
        "scrolled": true
      },
      "outputs": [
        {
          "name": "stdout",
          "output_type": "stream",
          "text": [
            "Sport (Y): kosarka, napoved P(Y=kosarka | X=srednji): 0.285714\n",
            "Sport (Y): nogomet, napoved P(Y=nogomet | X=srednji): 0.428571\n",
            "Sport (Y): gimnastika, napoved P(Y=gimnastika | X=srednji): 0.285714\n"
          ]
        }
      ],
      "source": [
        "for sport in pd.unique(data['sport']):\n",
        "    \n",
        "    subset_y  = data.loc[data['sport'] == sport]        # vsi sportniki danega sporta\n",
        "    subset_x  = data.loc[data['visina'] == 'srednji']     # vsi srednje visoki ucenci\n",
        "    \n",
        "    subset_xy = subset_y.loc[data['visina'] == 'srednji'] # vsi srednje visoki ucenci v danem sportu\n",
        "    \n",
        "    # Izracunamo verjetnosti\n",
        "    p_y  = len(subset_y)  / len(data)         \n",
        "    p_x  = len(subset_x)  / len(data)\n",
        "    p_xy = len(subset_xy) / len(subset_y)\n",
        "    \n",
        "    p_yx = (p_xy * p_y) / p_x\n",
        "    \n",
        "    print(\"Sport (Y): %s, napoved P(Y=%s | X=srednji): %f\" % (sport, sport, p_yx))"
      ]
    },
    {
      "cell_type": "markdown",
      "metadata": {},
      "source": [
        "\n",
        " "
      ]
    },
    {
      "cell_type": "markdown",
      "metadata": {
        "tags": [
          "sl"
        ]
      },
      "source": [
        "## Implementacija Naivnega Bayesovega klasifikatorja"
      ]
    },
    {
      "cell_type": "markdown",
      "metadata": {
        "tags": [
          "en"
        ]
      },
      "source": [
        "## Implementation of the Naive Bayes Classifier"
      ]
    },
    {
      "cell_type": "markdown",
      "metadata": {
        "tags": [
          "sl"
        ]
      },
      "source": [
        "*Naivni Bayesov klasifikator* predpostavlja, da so atributi neodvisni med seboj, pri znanem razredu.\n",
        "\n",
        "$$ P(Y|X_1, X_2, ..., X_p) = \\frac{P(Y) \\cdot P(X_1|Y) \\cdot P(X_2|Y) \\cdots P(X_p|Y)}{P(X)} $$"
      ]
    },
    {
      "cell_type": "markdown",
      "metadata": {
        "tags": [
          "en"
        ]
      },
      "source": [
        "The *Naive Bayes classifier* assumes that the attributes are independent of each other, with known class.\n",
        "\n",
        "$$ P(Y|X_1, X_2, ..., X_p) = \\frac{P(Y) \\cdot P(X_1|Y) \\cdot P(X_2|Y) \\cdots P(X_p|Y)}{P(X)} $$"
      ]
    },
    {
      "cell_type": "markdown",
      "metadata": {
        "tags": [
          "sl"
        ]
      },
      "source": [
        "##### Vpra\u0161anje 5-2-1\n",
        "Dopolni implementacijo naivnega Bayesovega klasifikatorja, ki je definiran v spodnjem odseku. Dopolniti je potrebno del kode, kjer izra\u010dunamo \n",
        "* verjetnostne porazdelitev razredov $P(Y)$\n",
        "* verjetnostne porazdelitve atributov pri znanem razredu $P(X|Y)$\n",
        "\n",
        "\n",
        "\n",
        "### Sklepanje o podatkih\n",
        "\n",
        "V primeru diskretnih atributov lahko obe porazdelitvi dobimo s *pre\u0161tevanjem*.\n",
        "* $P(Y)$ *Kolikokrat se v podatkih pojavi razred $Y$?*\n",
        "* $P(X|Y)$ *Kolikokrat se v podatkih, ki spadajo v razred $Y$, pojavi atribut $X$?*\n",
        "\n",
        "\n",
        "<font color=\"blue\"><b>Kaj pa $P(X)$?</b></font> Ta verjetnost je v\u010dasih te\u017eko izra\u010dunljiva, posebej pri visoko dimenzionalnih podatkih, saj ni nujno, da bodo v podatki prisotne vse kombinacije atributov. Na sre\u010do ta vrednost ne vpliva na izbiro najverjetnej\u0161ega razreda za posamezen primer!\n",
        "\n",
        "### Napovedovanje\n",
        "\n",
        "Za nov primer $X^* = (X_1^*, X_2^*, ..., X_p^*)$ med vsemi vrednostmi razreda $Y=y$, izberi tisto, ki maksimizira naslednji izraz:\n",
        "\n",
        "\n",
        "$$ \\text{arg max}_y \\ P(Y=y) \\cdot P(X_1^*|Y=y) \\cdot P(X_2^*|Y=y) \\cdots P(X_p^*|Y=y) $$\n",
        "\n",
        "### Log-transformacija\n",
        "\n",
        "Te\u017eava pri zgornjem pristopu je prakti\u010dne narave; mno\u017eenje velikega \u0161tevila verjetnosti hitro privede do zelo majhnih \u0161tevil, ki lahko prese\u017eejo strojno natan\u010dnost. Najenostavnej\u0161a re\u0161itev, ki privede do enake izbire razreda je naslednja \n",
        "\n",
        "$$ \\text{arg max}_y \\ \\text{log } P(Y=y) + \\text{log } P(X_1|Y=y) + \\text{log } P(X_2|Y=y) + ... + \\text{log } P(X_p|Y=y) $$"
      ]
    },
    {
      "cell_type": "markdown",
      "metadata": {
        "tags": [
          "en"
        ]
      },
      "source": [
        "##### Vpra\u0161anje 5-2-1\n",
        "Complete the implementation of the Naive Bayes classifier, which is defined in the lower section. It is necessary to complete the part of the code where we calculate\n",
        "* probability distribution of classes $P(Y)$\n",
        "* probability distribution of attributes in the known class $P(X|Y)$\n",
        "\n",
        "### Conclusion on data\n",
        "\n",
        "In the case of discrete attributes, both distributions can be obtained by *counting*.\n",
        "* $P(Y)$ *How many times does the $Y$ class appear in the data?*\n",
        "* $P(X|Y)$ *How many times does the $X$ attribute appear in the data that belong to the $Y$ class?*\n",
        "\n",
        "<font color=\"blue\"><b>What about $P(X)$?</b></font> This probability is sometimes difficult to calculate, especially for high-dimensional data, since it is not necessary that all combinations of attributes will be present in the data. Fortunately, this value does not affect the choice of the most likely grade for a particular case!\n",
        "\n",
        "### Predicting\n",
        "\n",
        "For a new example  $X^* = (X_1^*, X_2^*, ..., X_p^*)$ among all values of the $Y=y$ class, select one that maximizes the following expression:\n",
        "\n",
        "$$ \\text{arg max}_y \\ P(Y=y) \\cdot P(X_1^*|Y=y) \\cdot P(X_2^*|Y=y) \\cdots P(X_p^*|Y=y) $$\n",
        "\n",
        "### Log-transformation\n",
        "\n",
        "The problem with the above approach is rather practical; multiplying a large number of probabilities quickly leads to very small numbers that can exceed machine accuracy. The simplest solution that leads to the same class choice is the following\n",
        "\n",
        "$$ \\text{arg max}_y \\ \\text{log } P(Y=y) + \\text{log } P(X_1|Y=y) + \\text{log } P(X_2|Y=y) + ... + \\text{log } P(X_p|Y=y) $$"
      ]
    },
    {
      "cell_type": "markdown",
      "metadata": {
        "tags": [
          "sl"
        ]
      },
      "source": [
        "Pri implementaciji si pomagaj s podatki potnikov ladje <i><a href=\"https://www.kaggle.com/c/titanic\">Titanic</a></i>.\n",
        "\n",
        "Podatke so \u017ee razdeljeni na u\u010dno in testno mno\u017eico.\n",
        "\n",
        "Nalo\u017eimo u\u010dne podatke in izra\u010dunamo verjetnosti."
      ]
    },
    {
      "cell_type": "markdown",
      "metadata": {
        "tags": [
          "en"
        ]
      },
      "source": [
        "For the implementation help yourself with the passenger data from <i><a href=\"https://www.kaggle.com/c/titanic\">Titanic</a></i>.\n",
        "\n",
        "The data is already divided into a learning and test set.\n",
        "\n",
        "Load the learning data and calculate probabilities."
      ]
    },
    {
      "cell_type": "code",
      "execution_count": 8,
      "metadata": {},
      "outputs": [
        {
          "name": "stdout",
          "output_type": "stream",
          "text": [
            "survived\n",
            "['no' 'yes']\n"
          ]
        },
        {
          "data": {
            "text/plain": [
              "0.08379888268156424"
            ]
          },
          "execution_count": 8,
          "metadata": {},
          "output_type": "execute_result"
        }
      ],
      "source": [
        "#data = Table('podatki/titanic-training.tab')\n",
        "data = pd.read_table('podatki/titanic-training.tab', skiprows=[1,2])\n",
        "print(data.columns[-1])\n",
        "print(pd.unique(data['survived']))\n",
        "\n",
        "# P(X=child | Y = yes)\n",
        "survived_child  = data.loc[(data['age'] == 'child') & (data['survived'] == 'yes')]  \n",
        "all_survived  = data.loc[data['survived'] == 'yes']\n",
        "\n",
        "p_xy = len(survived_child) / len(all_survived)\n",
        "p_xy"
      ]
    },
    {
      "cell_type": "code",
      "execution_count": 9,
      "metadata": {},
      "outputs": [
        {
          "data": {
            "text/plain": [
              "Index(['status', 'age', 'sex'], dtype='object')"
            ]
          },
          "execution_count": 9,
          "metadata": {},
          "output_type": "execute_result"
        }
      ],
      "source": [
        "data.columns[:-1]"
      ]
    },
    {
      "cell_type": "code",
      "execution_count": 10,
      "metadata": {},
      "outputs": [],
      "source": [
        "class NaiveBayes:\n",
        "    \"\"\"\n",
        "    Naive Bayes classifier.\n",
        "    \n",
        "    :attribute self.probabilities\n",
        "        Dictionary that stores\n",
        "            - prior class probabilities P(Y)\n",
        "            - attribute probabilities conditional on class P(X|Y)\n",
        "    \n",
        "    :attribute self.class_values\n",
        "        All possible values of the class.\n",
        "        \n",
        "    :attribute self.variables\n",
        "        Variables in the data. \n",
        "    \n",
        "    :attribute self.trained\n",
        "        Set to True after fit is called.\n",
        "    \"\"\"\n",
        "    \n",
        "    def __init__(self):\n",
        "        self.trained       = False\n",
        "        self.probabilities = dict()   \n",
        "    \n",
        "    \n",
        "    def fit(self, data):\n",
        "        \"\"\"\n",
        "        Fit a NaiveBayes classifier.\n",
        "        \n",
        "        :param data\n",
        "            Orange data Table.        \n",
        "        \"\"\"\n",
        "        class_variable      = data.domain.class_var    # class variable (Y) \n",
        "        self.class_values   = class_variable.values    # possible class values\n",
        "        self.variables      = data.domain.attributes    # all other variables (X)\n",
        "        \n",
        "        n = len(data) # number of all data points\n",
        "        \n",
        "        # Compute P(Y)\n",
        "        for y in self.class_values:\n",
        "\n",
        "            # A not too smart guess (INCORRECT)\n",
        "            self.probabilities[y] = 1/len(self.class_values)\n",
        "            \n",
        "            # <your code here>\n",
        "            # Compute class probabilities and correctly fill\n",
        "            #   probabilities[y] = ... \n",
        "            # Select all examples (rows) with class = y\n",
        "          \n",
        "            # </your code here>\n",
        "        \n",
        "        # Compute P(X|Y)\n",
        "        for y in self.class_values:\n",
        "            \n",
        "            # Select all examples (rows) with class = y\n",
        "            filty = SameValue(class_variable, y)\n",
        "            \n",
        "            for variable in self.variables:\n",
        "                for x in variable.values:\n",
        "                    \n",
        "                    # A not too smart guess (INCORRECT)\n",
        "                    p = 1 / (len(self.variables) * len(variable.values) * len(self.class_values))\n",
        "                    \n",
        "                    # P(variable=x|Y=y)\n",
        "                    self.probabilities[variable, x, y] = p\n",
        "                    \n",
        "                \n",
        "                    # <your code here>\n",
        "                    # Compute correct conditional class probability\n",
        "                    #   probabilities[x, value, c] = ... \n",
        "                    # \n",
        "                    # Select all examples with class == y AND \n",
        "                    # variable x == value\n",
        "                    # Hint: use SameValue filter twice\n",
        "            \n",
        "                \n",
        "                    # </your code here>\n",
        "    \n",
        "        self.trained = True\n",
        "        \n",
        "    \n",
        "    def predict_instance(self, row):\n",
        "        \"\"\"\n",
        "        Predict a class value for one row.\n",
        "        \n",
        "        :param row\n",
        "            Orange data Instance.\n",
        "        :return \n",
        "            Class prediction.\n",
        "        \"\"\"\n",
        "        curr_p = float(\"-inf\")   # Current highest \"probability\" (unnormalized)\n",
        "        curr_c = None            # Current most probable class\n",
        "        \n",
        "        for y in self.class_values:\n",
        "            p = np.log(self.probabilities[y])\n",
        "            for x in self.variables:\n",
        "                p = p + np.log(self.probabilities[x, row[x].value, y])\n",
        "            \n",
        "            if p > curr_p:\n",
        "                curr_p = p\n",
        "                curr_c = y\n",
        "                \n",
        "        return curr_c, curr_p\n",
        "        \n",
        "   \n",
        "\n",
        "    def predict(self, data):\n",
        "        \"\"\"\n",
        "        Predict class labels for all rows in data.\n",
        "        \n",
        "        :param data\n",
        "            Orange data Table.       \n",
        "        :return y\n",
        "            NumPy vector with predicted classes.\n",
        "        \"\"\"\n",
        "        \n",
        "        n = len(data)\n",
        "        predictions = list()\n",
        "        confidences = np.zeros((n, ))\n",
        "        \n",
        "        for i, row in enumerate(data):\n",
        "            pred, cf = self.predict_instance(row)\n",
        "            predictions.append(pred)\n",
        "            confidences[i] = cf\n",
        "    \n",
        "        return predictions, confidences"
      ]
    },
    {
      "cell_type": "markdown",
      "metadata": {},
      "source": [
        "Re\u0161itev je dostopna na: 205-2.ipynb"
      ]
    },
    {
      "cell_type": "code",
      "execution_count": 11,
      "metadata": {},
      "outputs": [],
      "source": [
        "%run 205-2.ipynb"
      ]
    },
    {
      "cell_type": "markdown",
      "metadata": {
        "tags": [
          "sl"
        ]
      },
      "source": [
        "##  Uporaba klasifikatorja"
      ]
    },
    {
      "cell_type": "markdown",
      "metadata": {
        "tags": [
          "en"
        ]
      },
      "source": [
        "## Using a classifier"
      ]
    },
    {
      "cell_type": "markdown",
      "metadata": {
        "tags": [
          "sl"
        ]
      },
      "source": [
        "Primer uporabe na podatkih potnikov ladje <i><a href=\"https://www.kaggle.com/c/titanic\">Titanic</a></i>."
      ]
    },
    {
      "cell_type": "markdown",
      "metadata": {
        "tags": [
          "en"
        ]
      },
      "source": [
        "An example of use on passenger data from <i><a href=\"https://www.kaggle.com/c/titanic\">Titanic</a></i>."
      ]
    },
    {
      "cell_type": "code",
      "execution_count": 12,
      "metadata": {},
      "outputs": [
        {
          "data": {
            "text/plain": [
              "{'no': 0.6745454545454546,\n",
              " 'yes': 0.32545454545454544,\n",
              " ('status', 'third', 'no'): 0.3450134770889488,\n",
              " ('status', 'second', 'no'): 0.12398921832884097,\n",
              " ('status', 'crew', 'no'): 0.4568733153638814,\n",
              " ('status', 'first', 'no'): 0.07412398921832884,\n",
              " ('age', 'adult', 'no'): 0.9663072776280324,\n",
              " ('age', 'child', 'no'): 0.03369272237196765,\n",
              " ('sex', 'male', 'no'): 0.9110512129380054,\n",
              " ('sex', 'female', 'no'): 0.0889487870619946,\n",
              " ('status', 'third', 'yes'): 0.24581005586592178,\n",
              " ('status', 'second', 'yes'): 0.17039106145251395,\n",
              " ('status', 'crew', 'yes'): 0.29329608938547486,\n",
              " ('status', 'first', 'yes'): 0.2905027932960894,\n",
              " ('age', 'adult', 'yes'): 0.9162011173184358,\n",
              " ('age', 'child', 'yes'): 0.08379888268156424,\n",
              " ('sex', 'male', 'yes'): 0.48044692737430167,\n",
              " ('sex', 'female', 'yes'): 0.5195530726256983}"
            ]
          },
          "execution_count": 12,
          "metadata": {},
          "output_type": "execute_result"
        }
      ],
      "source": [
        "model = NaiveBayes()\n",
        "model.fit(data)\n",
        "model.probabilities"
      ]
    },
    {
      "cell_type": "code",
      "execution_count": 13,
      "metadata": {},
      "outputs": [
        {
          "name": "stdout",
          "output_type": "stream",
          "text": [
            "Status=third, age=adult sex=male\n",
            "Actual class=no, predicted class=no confidence=-1.58532\n",
            "Status=second, age=adult sex=female\n",
            "Actual class=no, predicted class=yes confidence=-3.63450\n",
            "Status=crew, age=adult sex=male\n",
            "Actual class=no, predicted class=no confidence=-1.30449\n",
            "Status=crew, age=adult sex=male\n",
            "Actual class=no, predicted class=no confidence=-1.30449\n",
            "Status=third, age=adult sex=male\n",
            "Actual class=no, predicted class=no confidence=-1.58532\n",
            "Status=second, age=adult sex=male\n",
            "Actual class=no, predicted class=no confidence=-2.60871\n",
            "Status=crew, age=adult sex=male\n",
            "Actual class=no, predicted class=no confidence=-1.30449\n",
            "Status=second, age=adult sex=male\n",
            "Actual class=no, predicted class=no confidence=-2.60871\n",
            "Status=third, age=adult sex=male\n",
            "Actual class=yes, predicted class=no confidence=-1.58532\n",
            "Status=third, age=adult sex=male\n",
            "Actual class=no, predicted class=no confidence=-1.58532\n"
          ]
        }
      ],
      "source": [
        "predictions, confidences = model.predict(data)\n",
        "\n",
        "for i in range(10):\n",
        "    row = data.iloc[i]\n",
        "    p = predictions[i]\n",
        "    c = confidences[i]\n",
        "    print(\"Status=%s, age=%s sex=%s\" % (row['status'], row['age'], row['sex']))\n",
        "    print(\"Actual class=%s, predicted class=%s confidence=%.5f\" % (row['survived'], p, c))"
      ]
    },
    {
      "cell_type": "markdown",
      "metadata": {
        "tags": [
          "sl"
        ]
      },
      "source": [
        "## Ocenjevanje uspe\u0161nosti klasifikacije\n",
        "\n",
        "Za ocenjevanje uspe\u0161nosti klasifikacije vsak napovedani primer primerjamo s pripadajo\u010dim resni\u010dnim razredom. \u0160tirje mo\u017eni izidi primerjave so naslednji: "
      ]
    },
    {
      "cell_type": "markdown",
      "metadata": {
        "tags": [
          "en"
        ]
      },
      "source": [
        "## Assessing the performance of the classification\n",
        "\n",
        "In order to evaluate the success of the classification, we compare each predicted example with the corresponding real class. The four possible outcomes of the comparison are as follows:"
      ]
    },
    {
      "cell_type": "markdown",
      "metadata": {
        "tags": [
          "sl"
        ]
      },
      "source": [
        "<table>\n",
        "<tr>\n",
        "<td>\n",
        "<ul>\n",
        "<li>TP: True positives (pravilno napovedani pozitivni primeri)</li>\n",
        "<li>FP: False positives (napa\u010dno napovedani negativni primeri)</li>\n",
        "<li>TN: True negatives (pravilno napovedani negativni primeri)</li>\n",
        "<li>FN: False negatives (napa\u010dno napovedani pozitini primeri)</li>\n",
        "</ul> \n",
        "\n",
        "<br/>\n",
        "<img src=\"slike/type12_error.jpeg\" width=400/>\n",
        "\n",
        "</td>\n",
        "<td><img width=\"400\" src=\"slike/Precisionrecall.png\"></img><td>\n",
        "<tr/>\n",
        "<table>"
      ]
    },
    {
      "cell_type": "markdown",
      "metadata": {
        "tags": [
          "en"
        ]
      },
      "source": [
        "<table>\n",
        "<tr>\n",
        "<td>\n",
        "<ul>\n",
        "<li>TP: True Positives (correctly predicted positive examples) </li>\n",
        "<li>FP: False positives (wrongly predicted negative examples) </li>\n",
        "<li>TN: True Negatives (correctly predicted negative examples) </li>\n",
        "<li>FN: False negatives (wrongly predicted positive examples) </li>\n",
        "</ul>\n",
        "\n",
        "<br/>\n",
        "<img src=\"slike/type12_error.jpeg\" width=400/>\n",
        "\n",
        "</td>\n",
        "<td><img width=\"400\" src=\"slike/Precisionrecall.png\"></img><td>\n",
        "<tr/>\n",
        "<table>"
      ]
    },
    {
      "cell_type": "markdown",
      "metadata": {
        "tags": [
          "sl"
        ]
      },
      "source": [
        "### Dele\u017e pravilno razvr\u0161\u010denih razredov (ang. classification accuracy)\n",
        "\n",
        "$$ca = \\frac{TP + TN}{TP + TN + FP + FN}$$\n",
        "\n",
        "<font color=\"green\">Prednosti</font>:\n",
        "* Enostaven izra\u010dun, jasna interpretacija\n",
        "* Uporabna mera za poljubno \u0161tevilo razredov\n",
        "\n",
        "<font color=\"red\">Slabosti</font>:\n",
        "* Lahko zavaja pri neuravnote\u017eenih porazdelitvah razredov\n",
        "\n",
        "<br/>"
      ]
    },
    {
      "cell_type": "markdown",
      "metadata": {
        "tags": [
          "en"
        ]
      },
      "source": [
        "### Ratio of correctly classified classes (classification accuracy)\n",
        "\n",
        "$$ca = \\frac{TP + TN}{TP + TN + FP + FN}$$\n",
        "\n",
        "<font color=\"green\">Pros</font>:\n",
        "* Simple calculation, clear interpretation\n",
        "* Useful measure for any number of classes\n",
        "\n",
        "<font color=\"red\">Cons</font>:\n",
        "* It can be misleading with unbalanced class distributions"
      ]
    },
    {
      "cell_type": "markdown",
      "metadata": {
        "tags": [
          "sl"
        ]
      },
      "source": [
        "### Natan\u010dnost, priklic (ang. precision, recall)\n",
        "\n",
        "$$ p = \\frac{TP}{TP + FP} $$\n",
        "\n",
        "$$ r = \\frac{TP}{TP + FN} $$\n",
        "\n",
        "<font color=\"green\">Prednosti</font>:\n",
        "* Enostaven izra\u010dun, jasna interpretacija\n",
        "* Lo\u010ditev obeh tipov napak (napa\u010dno pozitivni in napa\u010dno negativni primeri)\n",
        "* Uporabna tudi pri neuravnote\u017eenih porazdelitvah razredov\n",
        "\n",
        "<font color=\"red\">Slabosti</font>:\n",
        "* Uporabno prete\u017eno za klasifikacijo v dva razreda\n",
        "* Te\u017eko povzeti obe meri ; pribli\u017eek je F1-vrednost (ang. F1-score)\n",
        "$$ F1 = 2 \\frac{p \\cdot r}{p + r} $$"
      ]
    },
    {
      "cell_type": "markdown",
      "metadata": {
        "tags": [
          "en"
        ]
      },
      "source": [
        "### Precision, recall\n",
        "\n",
        "$$ p = \\frac{TP}{TP + FP} $$\n",
        "\n",
        "$$ r = \\frac{TP}{TP + FN} $$\n",
        "\n",
        "<font color=\"green\">Pros</font>:\n",
        "* Simple calculation, clear interpretation\n",
        "* Separation of both types of errors (incorrectly positive and wrongly negative examples)\n",
        "* Also applicable for unbalanced classroom distributions\n",
        "\n",
        "<font color=\"red\">Cons</font>:\n",
        "* Applicable predominantly for classification in two classes\n",
        "* It is difficult to summarize both measures; the approximation is F1-value (F1-score)\n",
        "$$ F1 = 2 \\frac{p \\cdot r}{p + r} $$"
      ]
    },
    {
      "cell_type": "markdown",
      "metadata": {
        "tags": [
          "sl"
        ]
      },
      "source": [
        "<font color=\"green\"><b>Naredi sam/a.</b></font> Napovej razrede na testni mno\u017eici. Napovedane razrede primerjaj z resni\u010dnimi in izmeri klasifikacijsko to\u010dnost, natan\u010dnost, priklic in F1-vrednost."
      ]
    },
    {
      "cell_type": "markdown",
      "metadata": {
        "tags": [
          "en"
        ]
      },
      "source": [
        "<font color=\"green\"><b>Do it yourself.</b></font> Predict the classes on the test set. Compare the predicted classes with the real ones and measure the classification accuracy, precision, recall and F1 value."
      ]
    },
    {
      "cell_type": "code",
      "execution_count": 14,
      "metadata": {},
      "outputs": [
        {
          "data": {
            "text/plain": [
              "0.771117166212534"
            ]
          },
          "execution_count": 14,
          "metadata": {},
          "output_type": "execute_result"
        }
      ],
      "source": [
        "from sklearn.metrics import accuracy_score\n",
        "from sklearn.metrics import precision_score\n",
        "from sklearn.metrics import recall_score\n",
        "from sklearn.metrics import f1_score\n",
        "\n",
        "# uporaba metod: \n",
        "test_data = pd.read_table('podatki/titanic-test.tab', skiprows=[1,2])\n",
        "predictions, _ = model.predict(test_data) \n",
        "truth          = [test_data.loc[i, \"survived\"] for i in range(len(test_data))]\n",
        "accuracy_score(truth, predictions)"
      ]
    },
    {
      "cell_type": "markdown",
      "metadata": {
        "tags": [
          "sl"
        ]
      },
      "source": [
        "<font color=\"orange\"><b>Izziv.</b></font> Nekateri atributi imajo verjetnost 0 pri posameznem razredu. Kako bi popravili klasifikator?"
      ]
    },
    {
      "cell_type": "markdown",
      "metadata": {
        "tags": [
          "en"
        ]
      },
      "source": [
        "<font color=\"orange\"><b>Challenge.</b></font> Some attributes have a probability of 0 for each class. How would you repair the classifier?"
      ]
    },
    {
      "cell_type": "markdown",
      "metadata": {
        "tags": [
          "sl"
        ]
      },
      "source": [
        "<font color=\"blue\"><b>Razmisli.</b></font> Kako bi dopolnili klasifikator, \u010de bi bili nekateri atributi lahko tudi zvezni? Namig: spomni se vaj, ko smo spoznali *verjetnostne porazdelitve* zveznih spremenljivk. "
      ]
    },
    {
      "cell_type": "markdown",
      "metadata": {
        "tags": [
          "en"
        ]
      },
      "source": [
        "<font color=\"blue\"><b>Think.</b></font> How to complete a classifier if some of the attributes could also be continuous? Hint: remember the exercises when we learned about the probability distributions of continuous variables."
      ]
    }
  ],
  "metadata": {
    "kernelspec": {
      "display_name": "Python 3 (ipykernel)",
      "language": "python",
      "name": "python3"
    },
    "language_info": {
      "codemirror_mode": {
        "name": "ipython",
        "version": 3
      },
      "file_extension": ".py",
      "mimetype": "text/x-python",
      "name": "python",
      "nbconvert_exporter": "python",
      "pygments_lexer": "ipython3",
      "version": "3.11.8"
    },
    "latex_envs": {
      "LaTeX_envs_menu_present": true,
      "autocomplete": true,
      "bibliofile": "biblio.bib",
      "cite_by": "apalike",
      "current_citInitial": 1,
      "eqLabelWithNumbers": true,
      "eqNumInitial": 1,
      "hotkeys": {
        "equation": "Ctrl-E",
        "itemize": "Ctrl-I"
      },
      "labels_anchors": false,
      "latex_user_defs": false,
      "report_style_numbering": false,
      "user_envs_cfg": false
    },
    "nbTranslate": {
      "displayLangs": [
        "sl"
      ],
      "hotkey": "alt-t",
      "langInMainMenu": true,
      "sourceLang": "sl",
      "targetLang": "en",
      "useGoogleTranslate": true
    }
  },
  "nbformat": 4,
  "nbformat_minor": 1
}