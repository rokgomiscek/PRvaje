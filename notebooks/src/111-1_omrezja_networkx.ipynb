{
  "cells": [
    {
      "cell_type": "markdown",
      "metadata": {
        "tags": [
          "sl"
        ]
      },
      "source": [
        "# Omrežja"
      ]
    },
    {
      "cell_type": "markdown",
      "metadata": {
        "tags": [
          "en"
        ]
      },
      "source": [
        "# Networks"
      ]
    },
    {
      "cell_type": "markdown",
      "metadata": {
        "tags": [
          "sl"
        ]
      },
      "source": [
        "## Knjižnica `networkx`\n",
        "\n",
        "Enostavno opravljanje z omrežnimi podatki v Pythonu."
      ]
    },
    {
      "cell_type": "markdown",
      "metadata": {
        "tags": [
          "en"
        ]
      },
      "source": [
        "## Library `networkx`\n",
        "\n",
        "Simple handling of graph data in Python."
      ]
    },
    {
      "cell_type": "code",
      "execution_count": 1,
      "metadata": {},
      "outputs": [],
      "source": [
        "import networkx as nx\n",
        "import numpy as np\n",
        "import matplotlib.pyplot as plt\n",
        "%matplotlib inline\n",
        "%config InlineBackend.figure_formats = ['jpg']\n",
        "import matplotlib\n",
        "matplotlib.figure.Figure.__repr__ = lambda self: (\n",
        "    f\"<{self.__class__.__name__} size {self.bbox.size[0]:g}\"\n",
        "    f\"x{self.bbox.size[1]:g} with {len(self.axes)} Axes>\")"
      ]
    },
    {
      "cell_type": "markdown",
      "metadata": {
        "tags": [
          "sl"
        ]
      },
      "source": [
        "### Gradnja grafa\n",
        "\n",
        "Ustvarimo enostaven graf."
      ]
    },
    {
      "cell_type": "markdown",
      "metadata": {
        "tags": [
          "en"
        ]
      },
      "source": [
        "### Graph creation\n",
        "\n",
        "Create a simple graph."
      ]
    },
    {
      "cell_type": "code",
      "execution_count": 2,
      "metadata": {},
      "outputs": [],
      "source": [
        "G = nx.Graph()    # Undirected\n",
        "# G = nx.DiGraph()  # Directed\n",
        "\n",
        "G.add_node(\"Ana\")\n",
        "G.add_nodes_from([\"Bojan\", \"Danica\"])\n",
        "\n",
        "G.add_edge(\"Ana\", \"Bojan\")\n",
        "G.add_edge(\"Ana\", \"Cene\")\n",
        "G.add_edge(\"Ana\", \"Danica\")\n",
        "G.add_edge(\"Bojan\", \"Danica\")"
      ]
    },
    {
      "cell_type": "code",
      "execution_count": 3,
      "metadata": {},
      "outputs": [
        {
          "data": {
            "text/plain": [
              "NodeView(('Ana', 'Bojan', 'Danica', 'Cene'))"
            ]
          },
          "execution_count": 3,
          "metadata": {},
          "output_type": "execute_result"
        }
      ],
      "source": [
        "G.nodes"
      ]
    },
    {
      "cell_type": "code",
      "execution_count": 4,
      "metadata": {},
      "outputs": [
        {
          "data": {
            "text/plain": [
              "EdgeView([('Ana', 'Bojan'), ('Ana', 'Cene'), ('Ana', 'Danica'), ('Bojan', 'Danica')])"
            ]
          },
          "execution_count": 4,
          "metadata": {},
          "output_type": "execute_result"
        }
      ],
      "source": [
        "G.edges"
      ]
    },
    {
      "cell_type": "markdown",
      "metadata": {
        "tags": [
          "sl"
        ]
      },
      "source": [
        "Graf zapišemo v datoteko."
      ]
    },
    {
      "cell_type": "markdown",
      "metadata": {
        "tags": [
          "en"
        ]
      },
      "source": [
        "Write the graph into a file."
      ]
    },
    {
      "cell_type": "code",
      "execution_count": 5,
      "metadata": {},
      "outputs": [],
      "source": [
        "nx.write_pajek(G, 'podatki/mreza-primer.net')"
      ]
    },
    {
      "cell_type": "markdown",
      "metadata": {
        "tags": [
          "sl"
        ]
      },
      "source": [
        "Preberemo `.net` datoteko v Graph strukturo."
      ]
    },
    {
      "cell_type": "markdown",
      "metadata": {
        "tags": [
          "en"
        ]
      },
      "source": [
        "Read the `.net` file in a Graph structure. "
      ]
    },
    {
      "cell_type": "code",
      "execution_count": 6,
      "metadata": {},
      "outputs": [],
      "source": [
        "G = nx.read_pajek('podatki/mreza-primer.net')"
      ]
    },
    {
      "cell_type": "markdown",
      "metadata": {
        "tags": [
          "sl"
        ]
      },
      "source": [
        "### Prikaz grafa\n",
        "\n",
        "Narišite strukturo grafov z uporabo `matplotlib`.\n",
        "\n",
        "Za več možnosti glejte <a href=\"https://networkx.github.io/documentation/networkx-1.10/reference/generated/networkx.drawing.nx_pylab.draw_networkx.html#networkx.drawing.nx_pylab.draw_networkx\">the documentation.</a>"
      ]
    },
    {
      "cell_type": "markdown",
      "metadata": {
        "tags": [
          "en"
        ]
      },
      "source": [
        "### Drawing the graph\n",
        "\n",
        "Draw the graph structure using `matplotlib`.\n",
        "\n",
        "For more options, see <a href=\"https://networkx.github.io/documentation/networkx-1.10/reference/generated/networkx.drawing.nx_pylab.draw_networkx.html#networkx.drawing.nx_pylab.draw_networkx\">the documentation.</a>"
      ]
    },
    {
      "cell_type": "code",
      "execution_count": 7,
      "metadata": {},
      "outputs": [
        {
          "data": {
            "image/jpeg": "[encoded data removed]",
            "text/plain": [
              "<Figure size 432x288 with 1 Axes>"
            ]
          },
          "metadata": {},
          "output_type": "display_data"
        }
      ],
      "source": [
        "nx.draw_networkx(G, with_labels=True, node_size=3)"
      ]
    },
    {
      "cell_type": "markdown",
      "metadata": {
        "tags": [
          "sl"
        ]
      },
      "source": [
        "Izračunamo velikosti vozlišč sorazmerno s številom povezav vozlišča. Rišite z uporabo `draw.networkx(...,node_size=node_size)`"
      ]
    },
    {
      "cell_type": "markdown",
      "metadata": {
        "tags": [
          "en"
        ]
      },
      "source": [
        "Compute node sizes proportional to the number of edges for a node. Plot using `draw.networkx(...,node_size=node_size)`"
      ]
    },
    {
      "cell_type": "code",
      "execution_count": 8,
      "metadata": {},
      "outputs": [
        {
          "data": {
            "image/jpeg": "[encoded data removed]",
            "text/plain": [
              "<Figure size 432x288 with 1 Axes>"
            ]
          },
          "metadata": {},
          "output_type": "display_data"
        }
      ],
      "source": [
        "node_size = [50 * G.degree(ky) for ky in G.nodes]\n",
        "\n",
        "nx.draw_networkx(G, with_labels=True, node_size=node_size)"
      ]
    },
    {
      "cell_type": "markdown",
      "metadata": {
        "tags": [
          "sl"
        ]
      },
      "source": [
        "### Segmentacija omrežja\n",
        "\n",
        "Iskanje močno povezanih komponent v omrežju."
      ]
    },
    {
      "cell_type": "markdown",
      "metadata": {
        "tags": [
          "en"
        ]
      },
      "source": [
        "### Network segmentation\n",
        "\n",
        "Finding strongly connected components inside a network."
      ]
    },
    {
      "cell_type": "markdown",
      "metadata": {
        "tags": [
          "sl"
        ]
      },
      "source": [
        "Najprej, generiramo umetno omrežje."
      ]
    },
    {
      "cell_type": "markdown",
      "metadata": {
        "tags": [
          "en"
        ]
      },
      "source": [
        "First, we generate a synthetic network."
      ]
    },
    {
      "cell_type": "code",
      "execution_count": 9,
      "metadata": {},
      "outputs": [
        {
          "data": {
            "image/jpeg": "[encoded data removed]",
            "text/plain": [
              "<Figure size 432x288 with 1 Axes>"
            ]
          },
          "metadata": {},
          "output_type": "display_data"
        }
      ],
      "source": [
        "G = nx.barbell_graph(5, 2)\n",
        "nx.draw_networkx(G, with_labels=False, node_size=4)"
      ]
    },
    {
      "cell_type": "markdown",
      "metadata": {
        "tags": [
          "sl"
        ]
      },
      "source": [
        "Nato najdemo k-povezanih komponent. k-komponent je povezani podgraf, za katerega moramo odstraniti vsaj k vozlišč, da jih razbijemo v več komponent. Intuitivno, podgrafi z veliko vrednostjo k težje razbijemo in so posledično močneje povezani."
      ]
    },
    {
      "cell_type": "markdown",
      "metadata": {
        "tags": [
          "en"
        ]
      },
      "source": [
        "Next, we find the k-connected components. A k-connected component is a connected subgraph, for which we need to remove at least k nodes to break it into more components. Intuitively, subgraphs with  large value of k are harder to break and thus more strongly connected."
      ]
    },
    {
      "cell_type": "code",
      "execution_count": 10,
      "metadata": {},
      "outputs": [
        {
          "data": {
            "text/plain": [
              "defaultdict(list,\n",
              "            {1: [{0, 1, 2, 3, 4, 5, 6, 7, 8, 9, 10, 11}],\n",
              "             2: [{7, 8, 9, 10, 11}, {0, 1, 2, 3, 4}],\n",
              "             3: [{0, 1, 2, 3, 4}, {7, 8, 9, 10, 11}],\n",
              "             4: [{0, 1, 2, 3, 4}, {7, 8, 9, 10, 11}]})"
            ]
          },
          "execution_count": 10,
          "metadata": {},
          "output_type": "execute_result"
        }
      ],
      "source": [
        "from networkx.algorithms import approximation as apxa\n",
        "k_components = apxa.k_components(G)\n",
        "\n",
        "k_components"
      ]
    },
    {
      "cell_type": "markdown",
      "metadata": {
        "tags": [
          "sl"
        ]
      },
      "source": [
        "Oglejmo si rešitve za določen k in poglejmo število vozlišč na vsaki povezani komponenti."
      ]
    },
    {
      "cell_type": "markdown",
      "metadata": {
        "tags": [
          "en"
        ]
      },
      "source": [
        "Let's look at solutions for a given k and look at the number of nodes on each connected component."
      ]
    },
    {
      "cell_type": "code",
      "execution_count": 11,
      "metadata": {},
      "outputs": [
        {
          "data": {
            "text/plain": [
              "[5, 5]"
            ]
          },
          "execution_count": 11,
          "metadata": {},
          "output_type": "execute_result"
        }
      ],
      "source": [
        "k = 2                   # Subgraphs of connectivity k\n",
        "sol = k_components[k]   # Multiple solutions of k_components\n",
        "list(map(len, sol))     # Each component breaks a graph"
      ]
    },
    {
      "cell_type": "markdown",
      "metadata": {
        "tags": [
          "sl"
        ]
      },
      "source": [
        "Za vsako povezano komponento dodelite rdečo barvo ustreznim vozliščem in sivo za vsa druga vozlišča."
      ]
    },
    {
      "cell_type": "markdown",
      "metadata": {
        "tags": [
          "en"
        ]
      },
      "source": [
        "For each connected component, assign the red color to its corresponding nodes and gray to all other nodes."
      ]
    },
    {
      "cell_type": "code",
      "execution_count": 12,
      "metadata": {},
      "outputs": [],
      "source": [
        "colors_groups = list()\n",
        "for gi, group in enumerate(sol):\n",
        "    colors_arr = [\"red\" if (n in group) else \"gray\" for n in G.nodes]\n",
        "    colors_groups.append(colors_arr)"
      ]
    },
    {
      "cell_type": "markdown",
      "metadata": {
        "tags": [
          "sl"
        ]
      },
      "source": [
        "Narišite izbrano komponento."
      ]
    },
    {
      "cell_type": "markdown",
      "metadata": {
        "tags": [
          "en"
        ]
      },
      "source": [
        "Plot a selected component."
      ]
    },
    {
      "cell_type": "code",
      "execution_count": 13,
      "metadata": {},
      "outputs": [
        {
          "data": {
            "image/jpeg": "[encoded data removed]",
            "text/plain": [
              "<Figure size 432x288 with 1 Axes>"
            ]
          },
          "metadata": {},
          "output_type": "display_data"
        }
      ],
      "source": [
        "comp_index = 0\n",
        "plt.figure()\n",
        "nx.draw_networkx(G, with_labels=False, \n",
        "                 node_color=colors_groups[comp_index],)\n",
        "plt.show()"
      ]
    },
    {
      "cell_type": "markdown",
      "metadata": {},
      "source": [
        "## Grafična analiza omrežij z Orange\n",
        "\n",
        "Uporabimo programski paket <b>Orange</b> oz. dodatek <b>\"Networks\"</b>.\n",
        "<img src=\"../slike/network_scheme.png\"/> <br/> "
      ]
    },
    {
      "cell_type": "markdown",
      "metadata": {},
      "source": [
        "Podatke naložimo z vtičnikom <b>Network File</b>, ki prebere podatke o vozliščih in povezavah.\n",
        "<img src=\"../slike/network_widget.png\"/> <br/> "
      ]
    },
    {
      "cell_type": "markdown",
      "metadata": {},
      "source": [
        "Z uporabo algoritmov v vtičniku <b>Network Clustering</b> poiščemo močno povezane komponente v omrežju.\n",
        "<img src=\"../slike/network_clusters.png\"/> <br/> "
      ]
    },
    {
      "cell_type": "markdown",
      "metadata": {},
      "source": [
        "## Naloge"
      ]
    },
    {
      "cell_type": "markdown",
      "metadata": {},
      "source": [
        "##### Vprašanje 11-1-1\n",
        "\n",
        "Zgradi omrežje igralcev v podatkovni zbirki MovieLens. "
      ]
    },
    {
      "cell_type": "code",
      "execution_count": null,
      "metadata": {},
      "outputs": [],
      "source": []
    },
    {
      "cell_type": "markdown",
      "metadata": {},
      "source": [
        "[Odgovor](211-1.ipynb#Odgovor-11-1-1)"
      ]
    },
    {
      "cell_type": "markdown",
      "metadata": {},
      "source": [
        "##### Vprašanje 11-1-2\n",
        "\n",
        "Zgradi omrežje uporabnikov v podatkovni zbirki MovieLens. "
      ]
    },
    {
      "cell_type": "code",
      "execution_count": null,
      "metadata": {},
      "outputs": [],
      "source": []
    },
    {
      "cell_type": "markdown",
      "metadata": {},
      "source": [
        "[Odgovor](211-1.ipynb#Odgovor-11-1-2)"
      ]
    }
  ],
  "metadata": {
    "kernelspec": {
      "display_name": "Python 3",
      "language": "python",
      "name": "python3"
    },
    "language_info": {
      "codemirror_mode": {
        "name": "ipython",
        "version": 3
      },
      "file_extension": ".py",
      "mimetype": "text/x-python",
      "name": "python",
      "nbconvert_exporter": "python",
      "pygments_lexer": "ipython3",
      "version": "3.6.10"
    },
    "latex_envs": {
      "LaTeX_envs_menu_present": true,
      "autocomplete": true,
      "bibliofile": "biblio.bib",
      "cite_by": "apalike",
      "current_citInitial": 1,
      "eqLabelWithNumbers": true,
      "eqNumInitial": 1,
      "hotkeys": {
        "equation": "Ctrl-E",
        "itemize": "Ctrl-I"
      },
      "labels_anchors": false,
      "latex_user_defs": false,
      "report_style_numbering": false,
      "user_envs_cfg": false
    },
    "nbTranslate": {
      "displayLangs": [
        "sl"
      ],
      "hotkey": "alt-t",
      "langInMainMenu": true,
      "sourceLang": "en",
      "targetLang": "sl",
      "useGoogleTranslate": true
    }
  },
  "nbformat": 4,
  "nbformat_minor": 1
}
