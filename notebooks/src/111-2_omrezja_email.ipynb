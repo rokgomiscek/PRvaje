{
  "cells": [
    {
      "cell_type": "markdown",
      "metadata": {},
      "source": [
        "## Primer: analiza in vizualizacija omre\u017eja elektronskih sporo\u010dil\n",
        "\n",
        "V tej kratki vaji bomo spoznali osnove analize omre\u017eij, format ```.net``` in funkcionalnosti modula Orange - Networks.\n",
        "\n",
        "<img width=300 src=\"Social_Red.jpg\">"
      ]
    },
    {
      "cell_type": "markdown",
      "metadata": {},
      "source": [
        "Pripravili smo funkcijo, ki iz email ra\u010duna (protokol IMAP) prebere vse naslovnike sporo\u010dil. Tako zgradimo omre\u017eje so-naslovnikov danega ra\u010duna."
      ]
    },
    {
      "cell_type": "code",
      "execution_count": 1,
      "metadata": {},
      "outputs": [
        {
          "ename": "ModuleNotFoundError",
          "evalue": "No module named 'get_email'",
          "output_type": "error",
          "traceback": [
            "\u001b[0;31m---------------------------------------------------------------------------\u001b[0m",
            "\u001b[0;31mModuleNotFoundError\u001b[0m                       Traceback (most recent call last)",
            "\u001b[0;32m<ipython-input-1-92545730b825>\u001b[0m in \u001b[0;36m<module>\u001b[0;34m\u001b[0m\n\u001b[0;32m----> 1\u001b[0;31m \u001b[0;32mfrom\u001b[0m \u001b[0mget_email\u001b[0m \u001b[0;32mimport\u001b[0m \u001b[0mgenerate_addressee_network\u001b[0m\u001b[0;34m\u001b[0m\u001b[0;34m\u001b[0m\u001b[0m\n\u001b[0m\u001b[1;32m      2\u001b[0m \u001b[0mhelp\u001b[0m\u001b[0;34m(\u001b[0m\u001b[0mgenerate_addressee_network\u001b[0m\u001b[0;34m)\u001b[0m\u001b[0;34m\u001b[0m\u001b[0;34m\u001b[0m\u001b[0m\n",
            "\u001b[0;31mModuleNotFoundError\u001b[0m: No module named 'get_email'"
          ]
        }
      ],
      "source": [
        "from get_email import generate_addressee_network\n",
        "help(generate_addressee_network)"
      ]
    },
    {
      "cell_type": "markdown",
      "metadata": {},
      "source": [
        "S spodnjo funkcijo zgradimo podatkovne datoteke ```.txt``` (seznam sonaslovnikov), ```.tab``` (atributi vozli\u0161\u010d), ```.net``` (graf omre\u017eja). Oglej si kodo in format datotek."
      ]
    },
    {
      "cell_type": "code",
      "execution_count": 2,
      "metadata": {},
      "outputs": [
        {
          "ename": "NameError",
          "evalue": "name 'generate_addressee_network' is not defined",
          "output_type": "error",
          "traceback": [
            "\u001b[0;31m---------------------------------------------------------------------------\u001b[0m",
            "\u001b[0;31mNameError\u001b[0m                                 Traceback (most recent call last)",
            "\u001b[0;32m<ipython-input-2-fa8231f156e0>\u001b[0m in \u001b[0;36m<module>\u001b[0;34m\u001b[0m\n\u001b[0;32m----> 1\u001b[0;31m generate_addressee_network(\"someone@gmail.com\", imap='imap.gmail.com', max_tuples=10000,\n\u001b[0m\u001b[1;32m      2\u001b[0m                               \u001b[0memail_folder\u001b[0m\u001b[0;34m=\u001b[0m\u001b[0;34m\"INBOX\"\u001b[0m\u001b[0;34m,\u001b[0m \u001b[0mfile_prefix\u001b[0m\u001b[0;34m=\u001b[0m\u001b[0;34m\"ds\"\u001b[0m\u001b[0;34m,\u001b[0m\u001b[0;34m\u001b[0m\u001b[0;34m\u001b[0m\u001b[0m\n\u001b[1;32m      3\u001b[0m                               min_tuple_length=2, max_tuple_length=15)\n",
            "\u001b[0;31mNameError\u001b[0m: name 'generate_addressee_network' is not defined"
          ]
        }
      ],
      "source": [
        "generate_addressee_network(\"someone@gmail.com\", imap='imap.gmail.com', max_tuples=10000,\n",
        "                              email_folder=\"INBOX\", file_prefix=\"ds\",\n",
        "                              min_tuple_length=2, max_tuple_length=15)"
      ]
    },
    {
      "cell_type": "markdown",
      "metadata": {},
      "source": [
        "Uporabimo programski paket <b>Orange</b> oz. dodatek <b>\"Networks\"</b>.\n",
        "<img src=\"slike/network_scheme.png\"/> <br/> "
      ]
    },
    {
      "cell_type": "markdown",
      "metadata": {},
      "source": [
        "Podatke nalo\u017eimo z vti\u010dnikom <b>Network File</b>, ki prebere podatke o vozli\u0161\u010dih in povezavah.\n",
        "<img src=\"slike/network_widget.png\"/> <br/> "
      ]
    },
    {
      "cell_type": "markdown",
      "metadata": {},
      "source": [
        "Z uporabo algoritmov v vti\u010dniku <b>Network Clustering</b> poi\u0161\u010demo mo\u010dno povezane komponente v omre\u017eju.\n",
        "<img src=\"slike/network_clusters.png\"/> <br/> "
      ]
    },
    {
      "cell_type": "markdown",
      "metadata": {},
      "source": [
        "<font color=\"green\"><b>Naredi sam/a.</b></font> Ponovi zgornjo analizo za podatke iz svojega e-po\u0161tnega ra\u010duna."
      ]
    },
    {
      "cell_type": "code",
      "execution_count": 3,
      "metadata": {
        "collapsed": true
      },
      "outputs": [],
      "source": [
        "# ..."
      ]
    },
    {
      "cell_type": "markdown",
      "metadata": {},
      "source": [
        "<font color=\"green\"><b>Naredi sam/a.</b></font> Zgradi omre\u017eje igralcev v podatkovni zbirki MovieLens. "
      ]
    },
    {
      "cell_type": "code",
      "execution_count": 4,
      "metadata": {
        "collapsed": true
      },
      "outputs": [],
      "source": [
        "# ..."
      ]
    },
    {
      "cell_type": "markdown",
      "metadata": {},
      "source": [
        "<font color=\"green\"><b>Naredi sam/a.</b></font> Zgradi omre\u017eje uporabnikov v podatkovni zbirki MovieLens. "
      ]
    },
    {
      "cell_type": "code",
      "execution_count": 5,
      "metadata": {
        "collapsed": true
      },
      "outputs": [],
      "source": [
        "# ..."
      ]
    }
  ],
  "metadata": {
    "kernelspec": {
      "display_name": "Python [default]",
      "language": "python",
      "name": "python3"
    },
    "language_info": {
      "codemirror_mode": {
        "name": "ipython",
        "version": 3
      },
      "file_extension": ".py",
      "mimetype": "text/x-python",
      "name": "python",
      "nbconvert_exporter": "python",
      "pygments_lexer": "ipython3",
      "version": "3.6.9"
    },
    "latex_envs": {
      "LaTeX_envs_menu_present": true,
      "autocomplete": true,
      "bibliofile": "biblio.bib",
      "cite_by": "apalike",
      "current_citInitial": 1,
      "eqLabelWithNumbers": true,
      "eqNumInitial": 1,
      "hotkeys": {
        "equation": "Ctrl-E",
        "itemize": "Ctrl-I"
      },
      "labels_anchors": false,
      "latex_user_defs": false,
      "report_style_numbering": false,
      "user_envs_cfg": false
    },
    "nbTranslate": {
      "displayLangs": [
        "sl"
      ]
    }
  },
  "nbformat": 4,
  "nbformat_minor": 1
}