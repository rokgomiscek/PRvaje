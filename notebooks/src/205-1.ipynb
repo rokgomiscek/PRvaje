{
  "cells": [
    {
      "cell_type": "markdown",
      "metadata": {
        "tags": [
          "sl"
        ]
      },
      "source": [
        "## Metoda voditeljev"
      ]
    },
    {
      "cell_type": "markdown",
      "metadata": {
        "tags": [
          "en"
        ]
      },
      "source": [
        "## K-means clustering"
      ]
    },
    {
      "cell_type": "markdown",
      "metadata": {
        "tags": [
          "sl"
        ]
      },
      "source": [
        "##### Odgovor 5-1-1"
      ]
    },
    {
      "cell_type": "markdown",
      "metadata": {
        "tags": [
          "en"
        ]
      },
      "source": [
        "##### Answer 5-1-1"
      ]
    },
    {
      "cell_type": "code",
      "execution_count": 1,
      "metadata": {},
      "outputs": [],
      "source": [
        "import numpy as np\n",
        "np.random.seed(42)\n",
        "\n",
        "class KMeans:\n",
        "    \n",
        "    def __init__(self, k=10, max_iter=100):\n",
        "        \"\"\"\n",
        "        Initialize KMeans clustering model.\n",
        "        \n",
        "        :param k\n",
        "            Number of clusters.\n",
        "        :param max_iter\n",
        "            Maximum number of iterations.\n",
        "        \"\"\"\n",
        "        self.k         = k\n",
        "        self.max_iter  = max_iter    \n",
        "    \n",
        "    def fit(self, X):\n",
        "        \"\"\"\n",
        "        Fit the Kmeans model to data.\n",
        "        \n",
        "        :param X\n",
        "            Numpy array of shape (n, p)\n",
        "            n: number of data examples\n",
        "            p: number of features (attributes)\n",
        "        \n",
        "        :return \n",
        "            labels: array of shape (n, ), cluster labels (0..k-1)\n",
        "            centers: array of shape (p, )\n",
        "        \"\"\"\n",
        "        \n",
        "        n, p    = X.shape\n",
        "        labels  = np.random.choice(range(self.k), size=n, replace=True)\n",
        "        centers = np.random.rand(self.k, p)\n",
        "        \n",
        "        ### Your code here ###\n",
        "        centers = np.min(X, axis=0) + centers * (np.max(X, axis=0) - np.min(X, axis=0)) \n",
        "        \n",
        "        i = 0\n",
        "        while i < self.max_iter:\n",
        "            \n",
        "            # Find nearest cluster\n",
        "            for j, x in enumerate(X):\n",
        "                ki = np.argmin(np.sum((centers - x) ** 2, axis=1))\n",
        "                labels[j] = ki\n",
        "                \n",
        "            # Move centroid\n",
        "            for ki in range(self.k):\n",
        "                centers[ki] = X[labels == ki].mean(axis=0)    \n",
        "            i += 1\n",
        "        \n",
        "        ### Your code here ###\n",
        "        return labels, centers"
      ]
    },
    {
      "cell_type": "markdown",
      "metadata": {
        "tags": [
          "sl"
        ]
      },
      "source": [
        "##### Odgovor 5-1-2"
      ]
    },
    {
      "cell_type": "markdown",
      "metadata": {
        "tags": [
          "en"
        ]
      },
      "source": [
        "##### Answer 5-1-2"
      ]
    },
    {
      "cell_type": "code",
      "execution_count": 2,
      "metadata": {},
      "outputs": [],
      "source": []
    },
    {
      "cell_type": "markdown",
      "metadata": {
        "tags": [
          "sl"
        ]
      },
      "source": [
        "##### Odgovor 5-1-3"
      ]
    },
    {
      "cell_type": "markdown",
      "metadata": {
        "tags": [
          "en"
        ]
      },
      "source": [
        "##### Answer 5-1-3"
      ]
    },
    {
      "cell_type": "code",
      "execution_count": 2,
      "metadata": {},
      "outputs": [],
      "source": []
    },
    {
      "cell_type": "markdown",
      "metadata": {
        "tags": [
          "sl"
        ]
      },
      "source": [
        "##### Odgovor 5-1-4"
      ]
    },
    {
      "cell_type": "markdown",
      "metadata": {
        "tags": [
          "en"
        ]
      },
      "source": [
        "##### Answer 5-1-4"
      ]
    },
    {
      "cell_type": "code",
      "execution_count": 2,
      "metadata": {},
      "outputs": [],
      "source": []
    },
    {
      "cell_type": "markdown",
      "metadata": {
        "tags": [
          "sl"
        ]
      },
      "source": [
        "##### Odgovor 5-1-5"
      ]
    },
    {
      "cell_type": "markdown",
      "metadata": {
        "tags": [
          "en"
        ]
      },
      "source": [
        "##### Answer 5-1-5"
      ]
    },
    {
      "cell_type": "code",
      "execution_count": 2,
      "metadata": {},
      "outputs": [],
      "source": []
    },
    {
      "cell_type": "markdown",
      "metadata": {
        "tags": [
          "sl"
        ]
      },
      "source": [
        "##### Odgovor 5-1-6"
      ]
    },
    {
      "cell_type": "markdown",
      "metadata": {
        "tags": [
          "en"
        ]
      },
      "source": [
        "##### Answer 5-1-6"
      ]
    },
    {
      "cell_type": "code",
      "execution_count": 2,
      "metadata": {},
      "outputs": [],
      "source": []
    }
  ],
  "metadata": {
    "kernelspec": {
      "display_name": "Python [default]",
      "language": "python",
      "name": "python3"
    },
    "language_info": {
      "codemirror_mode": {
        "name": "ipython",
        "version": 3
      },
      "file_extension": ".py",
      "mimetype": "text/x-python",
      "name": "python",
      "nbconvert_exporter": "python",
      "pygments_lexer": "ipython3",
      "version": "3.6.9"
    },
    "latex_envs": {
      "LaTeX_envs_menu_present": true,
      "autocomplete": true,
      "bibliofile": "biblio.bib",
      "cite_by": "apalike",
      "current_citInitial": 1,
      "eqLabelWithNumbers": true,
      "eqNumInitial": 1,
      "hotkeys": {
        "equation": "Ctrl-E",
        "itemize": "Ctrl-I"
      },
      "labels_anchors": false,
      "latex_user_defs": false,
      "report_style_numbering": false,
      "user_envs_cfg": false
    },
    "nbTranslate": {
      "displayLangs": [
        "sl"
      ],
      "hotkey": "alt-t",
      "langInMainMenu": true,
      "sourceLang": "sl",
      "targetLang": "en",
      "useGoogleTranslate": true
    }
  },
  "nbformat": 4,
  "nbformat_minor": 2
}
