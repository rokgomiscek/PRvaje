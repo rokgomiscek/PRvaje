{
  "cells": [
    {
      "cell_type": "markdown",
      "metadata": {
        "tags": [
          "sl"
        ]
      },
      "source": [
        "## Primer: zimske olimpijske igre, Soči 2014\n",
        "\n",
        "Na primeru podatkov o olimpijskih igrah bomo preizkusili nekatere pogoste načine grafičnega prikaza podatkov."
      ]
    },
    {
      "cell_type": "markdown",
      "metadata": {
        "tags": [
          "en"
        ]
      },
      "source": [
        "## Example: Winter Olympics, Sochi 2014\n",
        "\n",
        "On the case of information about the Olympic Games, we will try some common ways to graphically display data."
      ]
    },
    {
      "cell_type": "code",
      "execution_count": 1,
      "metadata": {
        "tags": [
          "sl"
        ]
      },
      "outputs": [],
      "source": [
        "%matplotlib inline\n",
        "%config InlineBackend.figure_formats = ['jpg']\n",
        "import matplotlib\n",
        "matplotlib.figure.Figure.__repr__ = lambda self: (\n",
        "    f\"<{self.__class__.__name__} size {self.bbox.size[0]:g}\"\n",
        "    f\"x{self.bbox.size[1]:g} with {len(self.axes)} Axes>\")\n",
        "\n",
        "import matplotlib.image as mpimg\n",
        "import matplotlib.pyplot as plt\n",
        "plt.style.use('../PR.mplstyle')"
      ]
    },
    {
      "cell_type": "code",
      "execution_count": 2,
      "metadata": {},
      "outputs": [],
      "source": [
        "import pandas as pd\n",
        "data = pd.read_table('../data/athletes.tab', skiprows=[1])"
      ]
    },
    {
      "cell_type": "markdown",
      "metadata": {
        "tags": [
          "sl"
        ]
      },
      "source": [
        "### Prikaz točk v prostoru\n",
        "\n",
        "Poglejmo, ali sta višina in teža športnikov povezani. Za vsakega športnika narišimo točko v prostoru dveh spremelnjivk - razsevni diagram (ang. *scatter plot*)."
      ]
    },
    {
      "cell_type": "markdown",
      "metadata": {
        "tags": [
          "en"
        ]
      },
      "source": [
        "### Display points in space\n",
        "\n",
        "Let's see if the height and weight of athletes are linked. For each athlete we draw a point in the space of two variables - a Scatter plot."
      ]
    },
    {
      "cell_type": "code",
      "execution_count": 11,
      "metadata": {},
      "outputs": [
        {
          "data": {
            "image/jpeg": "[encoded data removed]",
            "text/plain": [
              "<Figure size 450x300 with 1 Axes>"
            ]
          },
          "metadata": {},
          "output_type": "display_data"
        }
      ],
      "source": [
        "plt.figure()\n",
        "x = data['height']\n",
        "y = data['weight']\n",
        "plt.plot(x, y, \"k.\")\n",
        "plt.xlabel('višina (m)')\n",
        "plt.ylabel('teža (kg)');"
      ]
    },
    {
      "cell_type": "markdown",
      "metadata": {
        "tags": [
          "sl"
        ]
      },
      "source": [
        "##### Vprašanje 2-3-1\n",
        "\n",
        "Videti je, da sta spremenljivki povezani. Ali sta višina in teža res povezani? Odgovor na to vprašanje lahko dobimo z merami korelacije. S pomočjo slednjih izmerimo, ali sta dve naključni spremenljivki povezani.\n",
        "\n",
        "<a href=\"https://en.wikipedia.org/wiki/Pearson_product-moment_correlation_coefficient\">Pearsonova korelacija</a> med spremenljivkama $X$ in $Y$ je definirana z naslednjim izrazom:\n",
        "\n",
        "$$\\rho = \\frac{(x - \\bar{x})(y - \\bar{y})}{\\sigma_x \\sigma_y}$$\n",
        "\n",
        "kjer sta $x$ in $y$ vektorja vzorcev naključnih spremenljivk $X$ in $Y$, $\\bar{x}$ in $\\bar{y}$ povprečni vrednosti, $\\sigma_x$, $\\sigma_y$ standardna odklona. Mera $\\rho$ zavzame vrednosti v intervalu [-1, 1], kjer vrednost -1 pomeni, da med spremenljivki velja negativna korelacija - sta obratno sorazmerni, vrednost 1 pa da sta premo sorazmerni. Vrednost 0 nakazuje, da sta spremenljivki neodvisni."
      ]
    },
    {
      "cell_type": "markdown",
      "metadata": {
        "tags": [
          "en"
        ]
      },
      "source": [
        "##### Question 2-3-1\n",
        "\n",
        "It looks like the variables are linked. Are height and weight really connected? The answer to this question can be obtained with correlation measures. Using the latter, we measure whether two random variables are connected.\n",
        "\n",
        "<a href=\"https://en.wikipedia.org/wiki/Pearson_product-moment_correlation_coefficient\">Pearson's correlation</a> between the variables $X$ and $Y$ is defined with the following expression:\n",
        "\n",
        "$$\\rho = \\frac{(x - \\bar{x})(y - \\bar{y})}{\\sigma_x \\sigma_y}$$\n",
        "\n",
        "where $x$ and $y$ are vector of samples of random variables $X$ and $Y$, $\\bar{x}$ and $\\bar{y}$ are mean values, $\\sigma_x$, $\\sigma_y$ standard deviation. The $\\rho$ measure takes the values ​​in the interval [-1, 1], where the -1 value means that the variables are negatively correlated - they are inversely proportional, and the value 1 is proportional. The value 0 indicates that the variables are independent."
      ]
    },
    {
      "cell_type": "code",
      "execution_count": 12,
      "metadata": {},
      "outputs": [],
      "source": [
        "# implementiraj funkcijo, ki vrne Pearsonovo mero korelacije za vektorja x, y\n",
        "def pearson(x, y):\n",
        "    pass"
      ]
    },
    {
      "cell_type": "code",
      "execution_count": 13,
      "metadata": {},
      "outputs": [],
      "source": [
        "# preveri ali sta višina in teža povezani\n",
        "pearson(x, y)"
      ]
    },
    {
      "cell_type": "markdown",
      "metadata": {
        "tags": [
          "sl"
        ]
      },
      "source": [
        "[Odgovor](202-3.ipynb#Odgovor-2-3-1)"
      ]
    },
    {
      "cell_type": "markdown",
      "metadata": {
        "tags": [
          "en"
        ]
      },
      "source": [
        "[Answer](202-3.ipynb#Answer-2-3-1)"
      ]
    },
    {
      "cell_type": "markdown",
      "metadata": {
        "tags": [
          "sl"
        ]
      },
      "source": [
        "### Prikaz porazdelitev\n",
        "\n",
        "Negotovost pri opazovanju naključne spremenljivke predstavimo s funkcijo porazdelitve. Pogost način, kako dobimo oceno za porazdelitev iz podatkov je uporaba histograma - preštejemo, koliko primerov spada v interval vrednosti spremenljivke. Poglejmo primer za telesno težo."
      ]
    },
    {
      "cell_type": "markdown",
      "metadata": {
        "tags": [
          "en"
        ]
      },
      "source": [
        "### Display distributions\n",
        "\n",
        "We present uncertainty in the observation of a random variable with the distribution function. The common way in which we obtain an estimate for the distribution of data is the use of a histogram - counting how many cases fall into the interval of the value of the variable. Let's look at an example of body weight."
      ]
    },
    {
      "cell_type": "code",
      "execution_count": 14,
      "metadata": {
        "scrolled": true
      },
      "outputs": [
        {
          "data": {
            "image/jpeg": "[encoded data removed]",
            "text/plain": [
              "<Figure size 450x300 with 1 Axes>"
            ]
          },
          "metadata": {},
          "output_type": "display_data"
        }
      ],
      "source": [
        "# porazdelitev tež\n",
        "weights = data['weight']\n",
        "\n",
        "plt.figure()\n",
        "plt.hist(weights, density=True, bins=20, color='blue')\n",
        "plt.xlabel('teža (kg)')\n",
        "plt.ylabel('gostota verjetnosti');"
      ]
    },
    {
      "cell_type": "markdown",
      "metadata": {
        "tags": [
          "sl"
        ]
      },
      "source": [
        "##### Vprašanje 2-3-2\n",
        "\n",
        "Ali so porazdelitev teže med posameznimi športi razlikuje? Kaj pa višine? Izberi športnike nekaterih športov in med njimi primerjaj porazdelitve."
      ]
    },
    {
      "cell_type": "markdown",
      "metadata": {
        "tags": [
          "en"
        ]
      },
      "source": [
        "##### Question 2-3-2\n",
        "\n",
        "Is the weight distribution different for different sports? What about the heights? Choose athletes of some sports and compare distributions between them."
      ]
    },
    {
      "cell_type": "code",
      "execution_count": 15,
      "metadata": {},
      "outputs": [],
      "source": [
        "# Primerjaj športe po porazdelitvi tež\n",
        "# Primerjaj športe po porazdelitvi višin"
      ]
    },
    {
      "cell_type": "markdown",
      "metadata": {
        "tags": [
          "sl"
        ]
      },
      "source": [
        "[Odgovor](202-2.ipynb#Odgovor-2-2-4)"
      ]
    },
    {
      "cell_type": "markdown",
      "metadata": {
        "tags": [
          "en"
        ]
      },
      "source": [
        "[Answer](202-2.ipynb#Answer-2-2-4)"
      ]
    },
    {
      "cell_type": "markdown",
      "metadata": {
        "tags": [
          "sl"
        ]
      },
      "source": [
        "### Nagrade za dosego najvišjih mest\n",
        "\n",
        "Še en način prikaza porazdelitev je tortni diagram. Prikažimo, kakšen kos pogače prinese vsaka od medalj (zlato \\$25.000, srebro \\$15.000, bron \\$10.000)."
      ]
    },
    {
      "cell_type": "markdown",
      "metadata": {
        "tags": [
          "en"
        ]
      },
      "source": [
        "### Prizes for reaching the highest places\n",
        "\n",
        "Another way of displaying distributions is a pie chart. Show what piece of cake each of the medals (gold \\$25,000, silver \\$15,000 bronze \\$10,000) brings ."
      ]
    },
    {
      "cell_type": "code",
      "execution_count": 16,
      "metadata": {
        "run_control": {
          "marked": false
        }
      },
      "outputs": [
        {
          "data": {
            "image/jpeg": "[encoded data removed]",
            "text/plain": [
              "<Figure size 300x300 with 1 Axes>"
            ]
          },
          "metadata": {},
          "output_type": "display_data"
        }
      ],
      "source": [
        "# prikaži primer slike in reprodukcija ; št medalj glede na državo\n",
        "# Nariši tortni diagram za vsako državo posebej\n",
        "\n",
        "# Denarni sklad; $25,000 za zlato, $15,000 za srebrno, $10,000 za bronasto medaljo \n",
        "total      = 25 + 15 + 10\n",
        "gold_ratio = 25 / total\n",
        "silv_ratio = 15 / total\n",
        "bron_ratio = 10 / total\n",
        "\n",
        "# barve medalj\n",
        "gold_color = '#FFDF00'\n",
        "silv_color = '#C0C0C0'\n",
        "bron_color = '#CD7F32'\n",
        "\n",
        "plt.figure(figsize=(3, 3))\n",
        "plt.pie((gold_ratio, silv_ratio, bron_ratio),\n",
        "        labels=('zlato', 'srebro', 'bron', ), \n",
        "        colors=(gold_color, silv_color, bron_color, ), \n",
        "        startangle=90);"
      ]
    },
    {
      "cell_type": "markdown",
      "metadata": {
        "tags": [
          "sl"
        ]
      },
      "source": [
        "Lažje berljiv stolpični diagram:"
      ]
    },
    {
      "cell_type": "markdown",
      "metadata": {
        "tags": [
          "en"
        ]
      },
      "source": [
        "An easier to read bar diagram:"
      ]
    },
    {
      "cell_type": "code",
      "execution_count": 17,
      "metadata": {},
      "outputs": [
        {
          "data": {
            "image/jpeg": "[encoded data removed]",
            "text/plain": [
              "<Figure size 300x300 with 1 Axes>"
            ]
          },
          "metadata": {},
          "output_type": "display_data"
        }
      ],
      "source": [
        "# lažje berljivi stolpični diagram\n",
        "plt.figure(figsize=(3, 3))\n",
        "plt.bar(range(3), height=(gold_ratio, silv_ratio, bron_ratio), \n",
        "        tick_label=('zlato', 'srebro', 'bron'), \n",
        "        color=(gold_color, silv_color, bron_color))\n",
        "plt.ylabel('delež nagradnega sklada');"
      ]
    },
    {
      "cell_type": "markdown",
      "metadata": {
        "tags": [
          "sl"
        ]
      },
      "source": [
        "### Spol udeležencev\n",
        "\n",
        "Prikažimo še bolj informativno porazdelitev, ki pokaže število moških in ženskih udeležencev iger za posamezno državo. Najprej izračunamo porazdelitev."
      ]
    },
    {
      "cell_type": "markdown",
      "metadata": {
        "tags": [
          "en"
        ]
      },
      "source": [
        "### Gender of participants\n",
        "\n",
        "We show an even more informative distribution that shows the number of men and women participating in games for each country. First, calculate the distribution."
      ]
    },
    {
      "cell_type": "code",
      "execution_count": 18,
      "metadata": {},
      "outputs": [],
      "source": [
        "countries = pd.unique(data['country'])\n",
        "gender_by_country = dict()\n",
        "\n",
        "for country in countries:\n",
        "    # Filter by countries\n",
        "    data_subset = data.loc[data['country'] == country]\n",
        "\n",
        "    # Filter males\n",
        "    data_subset_male = data_subset.loc[data['gender'] == 'Male']\n",
        "    # Filter females\n",
        "    data_subset_female = data_subset.loc[data['gender'] == 'Female']\n",
        "\n",
        "    # Store gender counts\n",
        "    gender_by_country[country] = {\n",
        "        'Male': len(data_subset_male),\n",
        "        'Female': len(data_subset_female),\n",
        "    }"
      ]
    },
    {
      "cell_type": "markdown",
      "metadata": {
        "tags": [
          "sl"
        ]
      },
      "source": [
        "Nato narišemo sliko z uporabo funkcijo `bar`:"
      ]
    },
    {
      "cell_type": "markdown",
      "metadata": {
        "tags": [
          "en"
        ]
      },
      "source": [
        "Then draw a picture using the `bar` function:"
      ]
    },
    {
      "cell_type": "code",
      "execution_count": 19,
      "metadata": {},
      "outputs": [
        {
          "data": {
            "image/jpeg": "[encoded data removed]",
            "text/plain": [
              "<Figure size 1100x400 with 1 Axes>"
            ]
          },
          "metadata": {},
          "output_type": "display_data"
        }
      ],
      "source": [
        "m = [gender_by_country[country]['Male'] for country in countries]\n",
        "f = [gender_by_country[country]['Female'] for country in countries]\n",
        "x = range(len(countries))\n",
        "\n",
        "plt.figure(figsize=(11, 4))\n",
        "plt.bar(x, m, color='cyan', align='center')\n",
        "plt.bar(x, f, bottom=m, color='magenta', align='center')\n",
        "plt.xlim(-0.5, len(countries)-0.5)\n",
        "plt.xticks(x)\n",
        "plt.gca().set_xticklabels(countries, rotation=90)\n",
        "plt.ylabel('število športnikov');"
      ]
    },
    {
      "cell_type": "markdown",
      "metadata": {
        "tags": [
          "sl"
        ]
      },
      "source": [
        "##### Vprašanje 2-3-3\n",
        "\n",
        "Grafu dodaj legendo."
      ]
    },
    {
      "cell_type": "markdown",
      "metadata": {
        "tags": [
          "en"
        ]
      },
      "source": [
        "##### Question 2-3-3\n",
        "\n",
        "Add a legend to the graph."
      ]
    },
    {
      "cell_type": "code",
      "execution_count": null,
      "metadata": {},
      "outputs": [],
      "source": []
    },
    {
      "cell_type": "markdown",
      "metadata": {
        "tags": [
          "sl"
        ]
      },
      "source": [
        "[Odgovor](202-3.ipynb#Odgovor-2-3-3)"
      ]
    },
    {
      "cell_type": "markdown",
      "metadata": {
        "tags": [
          "en"
        ]
      },
      "source": [
        "[Answer](202-3.ipynb#Answer-2-3-3)"
      ]
    },
    {
      "cell_type": "markdown",
      "metadata": {
        "tags": [
          "sl"
        ]
      },
      "source": [
        "##### Vprašanje 2-3-4\n",
        "\n",
        "Zgornji graf uredi tako, da bodo države urejene po številu udeležencev in dodaj legendo."
      ]
    },
    {
      "cell_type": "markdown",
      "metadata": {
        "tags": [
          "en"
        ]
      },
      "source": [
        "##### Question 2-3-4\n",
        "\n",
        "Edit the above graph so that the sport is arranged by the number of participants and add the legend."
      ]
    },
    {
      "cell_type": "markdown",
      "metadata": {
        "tags": [
          "sl"
        ]
      },
      "source": [
        "[Odgovor](202-3.ipynb#Odgovor-2-3-4)"
      ]
    },
    {
      "cell_type": "markdown",
      "metadata": {
        "tags": [
          "en"
        ]
      },
      "source": [
        "[Answer](202-3.ipynb#Answer-2-3-4)"
      ]
    },
    {
      "cell_type": "markdown",
      "metadata": {
        "tags": [
          "sl"
        ]
      },
      "source": [
        "### Najuspešnejše države\n",
        "\n",
        "##### Vprašanje 2-3-5\n",
        "\n",
        "Nariši sliko, podobno spodnji. Diagram prikazuje porazdelitev posameznih medalj po državah. Namig: najprej predpripravi podatke, nato pa nariši diagram. Zgleduj se po prejšnih primerih."
      ]
    },
    {
      "cell_type": "markdown",
      "metadata": {
        "tags": [
          "en"
        ]
      },
      "source": [
        "### The most successful countries\n",
        "\n",
        "##### Question 2-3-5\n",
        "\n",
        "Draw a picture, similar to the one below. The diagram shows the distribution of individual medals by country. Tip: Prepare the data first, then draw a diagram. Take a look at previous examples."
      ]
    },
    {
      "cell_type": "markdown",
      "metadata": {},
      "source": [
        "![](slike/odgovori/2-2-7.png)"
      ]
    },
    {
      "cell_type": "code",
      "execution_count": 20,
      "metadata": {},
      "outputs": [],
      "source": [
        "# izračunaj distribucijo medalj"
      ]
    },
    {
      "cell_type": "code",
      "execution_count": 21,
      "metadata": {},
      "outputs": [],
      "source": [
        "# izriši distribucijo"
      ]
    },
    {
      "cell_type": "markdown",
      "metadata": {
        "tags": [
          "sl"
        ]
      },
      "source": [
        "[Odgovor](202-3.ipynb#Odgovor-2-3-5)"
      ]
    },
    {
      "cell_type": "markdown",
      "metadata": {
        "tags": [
          "en"
        ]
      },
      "source": [
        "[Answer](202-3.ipynb#Answer-2-3-5)"
      ]
    },
    {
      "cell_type": "markdown",
      "metadata": {
        "tags": [
          "sl"
        ]
      },
      "source": [
        "### Sestavljene vizualizacije"
      ]
    },
    {
      "cell_type": "markdown",
      "metadata": {
        "tags": [
          "en"
        ]
      },
      "source": [
        "### Composite visualizations"
      ]
    },
    {
      "cell_type": "markdown",
      "metadata": {
        "tags": [
          "sl"
        ]
      },
      "source": [
        "Namen dobre vizualizacije je prava mera podatkov na danem prostoru. Ta naj ne bo prevelika, vseeno pa želimo čimbolje izkoristiti prostor. Oglejmo si primer risanja <b>porazdelitev podatkov o višini in teži glede na posamezno športno panogo</b>.  "
      ]
    },
    {
      "cell_type": "markdown",
      "metadata": {
        "tags": [
          "en"
        ]
      },
      "source": [
        "The purpose of a good visualization is the correct amount of data in a given space. This should not be too big, but we want to make the most of the space. Let's look at the example of drawing <b>distribution of data about height and weight by sport category</b>."
      ]
    },
    {
      "cell_type": "code",
      "execution_count": 22,
      "metadata": {},
      "outputs": [],
      "source": [
        "# priprava podatkov\n",
        "# teža in višina glede na sport; sport se nahaja v 8 stolpcu\n",
        "sports = pd.unique(data['sport'])\n",
        "weights_by_sport = dict()\n",
        "heights_by_sport = dict()\n",
        "ages_by_sport = dict()\n",
        "\n",
        "for sport in sports:\n",
        "    data_subset = data.loc[data['sport'] == sport]\n",
        "    \n",
        "    w = data_subset.loc[:,'weight'].values\n",
        "    h = data_subset.loc[:,'height'].values\n",
        "    a = data_subset.loc[:,'age'].values\n",
        "    \n",
        "    weights_by_sport[sport] = w\n",
        "    heights_by_sport[sport] = h\n",
        "    ages_by_sport[sport]    = a"
      ]
    },
    {
      "cell_type": "markdown",
      "metadata": {
        "tags": [
          "sl"
        ]
      },
      "source": [
        "##### Vprašanje 2-3-6\n",
        "\n",
        "Nariši sliko, podobno spodnji. Diagram prikazuje porazdelitev višine po športih. Za vsakega igralca narišimo točko, kjer bo velikost točke premo sorazmerna s težo športnika. Osi x in y bomo izkoristili tako, da na osi x narišemo višino, na osi y pa bo posamezna športna panoga."
      ]
    },
    {
      "cell_type": "markdown",
      "metadata": {
        "tags": [
          "en"
        ]
      },
      "source": [
        "##### Question 2-3-6\n",
        "\n",
        "Draw a picture, similar to the one below. The diagram shows the height distribution by sports. For each player, we draw a point where the point size is proportional to the weight of the athlete. Axes x and y will be used to draw the height on the x-axis, and the y-axis will be an individual sporting industry."
      ]
    },
    {
      "cell_type": "code",
      "execution_count": 23,
      "metadata": {},
      "outputs": [],
      "source": [
        "# napiši kodo za izris slike"
      ]
    },
    {
      "cell_type": "markdown",
      "metadata": {
        "tags": [
          "sl"
        ]
      },
      "source": [
        "[Odgovor](202-3.ipynb#Odgovor-2-3-6)"
      ]
    },
    {
      "cell_type": "markdown",
      "metadata": {
        "tags": [
          "en"
        ]
      },
      "source": [
        "[Aswer](202-3.ipynb#Answer-2-3-6)"
      ]
    },
    {
      "cell_type": "markdown",
      "metadata": {
        "tags": [
          "sl"
        ]
      },
      "source": [
        "##### Vprašanje 2-3-7\n",
        "\n",
        "Uredi zgornji graf tako, da bodo športi urejeni po povprečni višini. Poizkusi tudi spreminjati količine na posameznih oseh (x, y, velikost pike)."
      ]
    },
    {
      "cell_type": "markdown",
      "metadata": {
        "tags": [
          "en"
        ]
      },
      "source": [
        "##### Question 2-3-7\n",
        "\n",
        "Edit the graph above so that the sports are arranged by the average height. Try also to change the quantities on the individual axes (x, y, the size of the dots)."
      ]
    },
    {
      "cell_type": "code",
      "execution_count": null,
      "metadata": {},
      "outputs": [],
      "source": []
    },
    {
      "cell_type": "markdown",
      "metadata": {
        "tags": [
          "sl"
        ]
      },
      "source": [
        "[Odgovor](202-3.ipynb#Odgovor-2-3-7)"
      ]
    },
    {
      "cell_type": "markdown",
      "metadata": {
        "tags": [
          "en"
        ]
      },
      "source": [
        "[Answer](202-3.ipynb#Answer-2-3-7)"
      ]
    }
  ],
  "metadata": {
    "kernelspec": {
      "display_name": "PRvaje",
      "language": "python",
      "name": "python3"
    },
    "language_info": {
      "codemirror_mode": {
        "name": "ipython",
        "version": 3
      },
      "file_extension": ".py",
      "mimetype": "text/x-python",
      "name": "python",
      "nbconvert_exporter": "python",
      "pygments_lexer": "ipython3",
      "version": "3.11.8"
    },
    "latex_envs": {
      "LaTeX_envs_menu_present": true,
      "autocomplete": true,
      "bibliofile": "biblio.bib",
      "cite_by": "apalike",
      "current_citInitial": 1,
      "eqLabelWithNumbers": true,
      "eqNumInitial": 1,
      "hotkeys": {
        "equation": "Ctrl-E",
        "itemize": "Ctrl-I"
      },
      "labels_anchors": false,
      "latex_user_defs": false,
      "report_style_numbering": false,
      "user_envs_cfg": false
    },
    "nbTranslate": {
      "displayLangs": [
        "*"
      ],
      "hotkey": "alt-t",
      "langInMainMenu": true,
      "sourceLang": "sl",
      "targetLang": "en",
      "useGoogleTranslate": true
    },
    "toc": {
      "nav_menu": {},
      "number_sections": true,
      "sideBar": true,
      "skip_h1_title": false,
      "toc_cell": false,
      "toc_position": {},
      "toc_section_display": "block",
      "toc_window_display": false
    }
  },
  "nbformat": 4,
  "nbformat_minor": 4
}
