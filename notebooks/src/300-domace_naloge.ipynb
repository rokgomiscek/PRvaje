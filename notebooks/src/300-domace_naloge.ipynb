{
  "cells": [
    {
      "cell_type": "markdown",
      "metadata": {
        "tags": [
          "sl"
        ]
      },
      "source": [
        "# Domače naloge\n",
        "\n",
        "Navodila in podatke za domače naloge boste prejeli prek GitHuba, kamor boste rešene naloge tudi oddali v ocenjevanje.\n",
        "\n",
        "## Sprejetje naloge\n",
        "\n",
        "Na [spletni učilnici predmeta](https://ucilnica.fri.uni-lj.si/course/view.php?id=37) boste pod vsako domačo nalogo dobili povezavo do GitHub Classroom.\n",
        "\n",
        "<img src=\"../slike/dn_1.png\" width=600/>"
      ]
    },
    {
      "cell_type": "markdown",
      "metadata": {
        "tags": [
          "en"
        ]
      },
      "source": [
        "# Homework assignments\n",
        "\n",
        "You will receive instructions and homework information via GitHub, where you will also submit your completed assignments for grading.\n",
        "\n",
        "## Accepting the assignment\n",
        "\n",
        "On the [učilnica website](https://ucilnica.fri.uni-lj.si/course/view.php?id=37), under each homework assignment, you will find a link to GitHub Classroom.\n",
        "\n",
        "<img src=\"../slike/dn_1_en.png\" width=600/>"
      ]
    },
    {
      "cell_type": "markdown",
      "metadata": {
        "tags": [
          "sl"
        ]
      },
      "source": [
        "Po kliku na **Accept this assignment** se bo začel usvtarjati vaš repozitorij za domačo nalogo."
      ]
    },
    {
      "cell_type": "markdown",
      "metadata": {
        "tags": [
          "en"
        ]
      },
      "source": [
        "After clicking on **Accept this assignment**, a repository for your assignment will be created"
      ]
    },
    {
      "cell_type": "markdown",
      "metadata": {},
      "source": [
        "<img src=\"../slike/dn_2.png\" width=600/>"
      ]
    },
    {
      "cell_type": "markdown",
      "metadata": {
        "tags": [
          "sl"
        ]
      },
      "source": [
        "Čez nekaj trenutkov boste lahko na GitHubu videli svoj repozitorij z datotekami za domačo nalogo."
      ]
    },
    {
      "cell_type": "markdown",
      "metadata": {
        "tags": [
          "en"
        ]
      },
      "source": [
        "After a few moments, you will see your repository with the files for the assignment."
      ]
    },
    {
      "cell_type": "markdown",
      "metadata": {},
      "source": [
        "<img src=\"../slike/dn_3.png\" width=600/>"
      ]
    },
    {
      "cell_type": "markdown",
      "metadata": {
        "tags": [
          "sl"
        ]
      },
      "source": [
        "## Prenos repozitorija\n",
        "\n",
        "Repozitorij lahko prenesete na različne načine (npr. prek brskalnika, GitHub Desktop, IDE). To lahko naredite tudi v ukazni vrstici z ukazom `git clone <url-repozitorija>`.\n",
        "\n",
        "Namig: če uporabimo samo `git clone <url-repozitorija>` se bo ustvarila mapa z istim imenom, kot repozitorij. Če želimo določiti drugo ime, to lahko storimo z `git clone <url-repozitorija> <ime mape>`"
      ]
    },
    {
      "cell_type": "markdown",
      "metadata": {
        "tags": [
          "en"
        ]
      },
      "source": [
        "## Downloading the repository\n",
        "\n",
        "You can download the repository in various ways (for example using a browser, GitHub Desktop, IDE). This can also be accomplished using the command line with `git clone <repository-url>`.\n",
        "\n",
        "Suggestion: if you use `git clone <repository-url>` as is, the created folder will have the same name as the repository. If you want to set a custom folder name, use `git clone <repository-url> <folder name>`."
      ]
    },
    {
      "cell_type": "markdown",
      "metadata": {},
      "source": [
        "<img src=\"../slike/dn_4.png\" width=600/>"
      ]
    },
    {
      "cell_type": "markdown",
      "metadata": {
        "tags": [
          "sl"
        ]
      },
      "source": [
        "Zdaj ste pripravljeni za reševanje domače naloge. Pri tem ne pozabite vpisati vašega imena in datuma oddaje."
      ]
    },
    {
      "cell_type": "markdown",
      "metadata": {
        "tags": [
          "en"
        ]
      },
      "source": [
        "Now you are ready to start working on the assignment. Don't forget to enter your name and date of submission."
      ]
    },
    {
      "cell_type": "markdown",
      "metadata": {
        "tags": [
          "sl"
        ]
      },
      "source": [
        "## Oddaja naloge\n",
        "\n",
        "Naloge ne boste oddali v ocenjevanje na učilnico, temveč jo boste naložili na repozitorij. Pred tem, sledite naslednjim korakom:\n",
        "\n",
        "* Ponovno zaženite notebook in poženite vse celice. Tako bodo celice s kodo oštevilčene od 1 naprej."
      ]
    },
    {
      "cell_type": "markdown",
      "metadata": {
        "tags": [
          "en"
        ]
      },
      "source": [
        "## Submitting the assignment\n",
        "\n",
        "You will not submit the assignment for grading on učilnica, instead you will upload it to the repository. Before doing so, follow these steps:\n",
        "\n",
        "* Restart the notebook and run all cells. This will cause the cells with the code to be numbered from 1 onwards."
      ]
    },
    {
      "cell_type": "markdown",
      "metadata": {},
      "source": [
        "<img src=\"../slike/dn_5.png\"/>"
      ]
    },
    {
      "cell_type": "markdown",
      "metadata": {
        "tags": [
          "sl"
        ]
      },
      "source": [
        "* Preverite vse izpise in slike.\n",
        "\n",
        "* Naložite svoje rešitve na GiHub. Lahko uporabite poljuben način.\n",
        "\n",
        "* Na koncu prek brskalnika preverite še, če se na GitHubu vse pravilno prikaže."
      ]
    },
    {
      "cell_type": "markdown",
      "metadata": {
        "tags": [
          "en"
        ]
      },
      "source": [
        "* Check all the outputs and images.\n",
        "\n",
        "* Upload your solutions to GiHub. You can use any method you like.\n",
        "\n",
        "* Finally, check in your browser if everything is displayed correctly on GitHub."
      ]
    }
  ],
  "metadata": {
    "kernelspec": {
      "display_name": "Python 3",
      "language": "python",
      "name": "python3"
    },
    "language_info": {
      "codemirror_mode": {
        "name": "ipython",
        "version": 3
      },
      "file_extension": ".py",
      "mimetype": "text/x-python",
      "name": "python",
      "nbconvert_exporter": "python",
      "pygments_lexer": "ipython3",
      "version": "3.7.3"
    },
    "nbTranslate": {
      "displayLangs": [
        "sl"
      ],
      "hotkey": "alt-t",
      "langInMainMenu": true,
      "sourceLang": "sl",
      "targetLang": "en",
      "useGoogleTranslate": true
    }
  },
  "nbformat": 4,
  "nbformat_minor": 2
}
