{
  "cells": [
    {
      "cell_type": "markdown",
      "metadata": {
        "tags": [
          "sl"
        ]
      },
      "source": [
        "## Knjižnica `pandas`"
      ]
    },
    {
      "cell_type": "markdown",
      "metadata": {
        "tags": [
          "en"
        ]
      },
      "source": [
        "## Library `pandas`"
      ]
    },
    {
      "cell_type": "code",
      "execution_count": 1,
      "metadata": {},
      "outputs": [],
      "source": [
        "import pandas as pd\n",
        "data = pd.read_table('../data/athletes.tab', skiprows=[1])"
      ]
    },
    {
      "cell_type": "markdown",
      "metadata": {
        "tags": [
          "sl"
        ]
      },
      "source": [
        "##### Odgovor 1-2-1"
      ]
    },
    {
      "cell_type": "markdown",
      "metadata": {
        "tags": [
          "en"
        ]
      },
      "source": [
        "##### Answer 1-2-1"
      ]
    },
    {
      "cell_type": "code",
      "execution_count": 2,
      "metadata": {},
      "outputs": [
        {
          "data": {
            "text/html": [
              "<div>\n",
              "<style scoped>\n",
              "    .dataframe tbody tr th:only-of-type {\n",
              "        vertical-align: middle;\n",
              "    }\n",
              "\n",
              "    .dataframe tbody tr th {\n",
              "        vertical-align: top;\n",
              "    }\n",
              "\n",
              "    .dataframe thead th {\n",
              "        text-align: right;\n",
              "    }\n",
              "</style>\n",
              "<table border=\"1\" class=\"dataframe\">\n",
              "  <thead>\n",
              "    <tr style=\"text-align: right;\">\n",
              "      <th></th>\n",
              "      <th>age</th>\n",
              "      <th>birthdate</th>\n",
              "      <th>gender</th>\n",
              "      <th>height</th>\n",
              "      <th>name</th>\n",
              "      <th>weight</th>\n",
              "      <th>gold_medals</th>\n",
              "      <th>silver_medals</th>\n",
              "      <th>bronze_medals</th>\n",
              "      <th>total_medals</th>\n",
              "      <th>sport</th>\n",
              "      <th>country</th>\n",
              "    </tr>\n",
              "  </thead>\n",
              "  <tbody>\n",
              "    <tr>\n",
              "      <th>214</th>\n",
              "      <td>24</td>\n",
              "      <td>1989-06-18</td>\n",
              "      <td>Female</td>\n",
              "      <td>1.65</td>\n",
              "      <td>Anna Fenninger</td>\n",
              "      <td>64</td>\n",
              "      <td>1</td>\n",
              "      <td>1</td>\n",
              "      <td>0</td>\n",
              "      <td>2</td>\n",
              "      <td>Alpine Skiing</td>\n",
              "      <td>Austria</td>\n",
              "    </tr>\n",
              "    <tr>\n",
              "      <th>424</th>\n",
              "      <td>26</td>\n",
              "      <td>1987-07-22</td>\n",
              "      <td>Female</td>\n",
              "      <td>1.62</td>\n",
              "      <td>Charlotte Kalla</td>\n",
              "      <td>59</td>\n",
              "      <td>1</td>\n",
              "      <td>2</td>\n",
              "      <td>0</td>\n",
              "      <td>3</td>\n",
              "      <td>Cross-Country</td>\n",
              "      <td>Sweden</td>\n",
              "    </tr>\n",
              "    <tr>\n",
              "      <th>911</th>\n",
              "      <td>27</td>\n",
              "      <td>1986-04-01</td>\n",
              "      <td>Female</td>\n",
              "      <td>1.68</td>\n",
              "      <td>Irene Wust</td>\n",
              "      <td>63</td>\n",
              "      <td>1</td>\n",
              "      <td>2</td>\n",
              "      <td>0</td>\n",
              "      <td>3</td>\n",
              "      <td>Speed Skating</td>\n",
              "      <td>Netherlands</td>\n",
              "    </tr>\n",
              "    <tr>\n",
              "      <th>1062</th>\n",
              "      <td>33</td>\n",
              "      <td>1980-03-19</td>\n",
              "      <td>Male</td>\n",
              "      <td>1.81</td>\n",
              "      <td>Johan Olsson</td>\n",
              "      <td>68</td>\n",
              "      <td>1</td>\n",
              "      <td>1</td>\n",
              "      <td>0</td>\n",
              "      <td>2</td>\n",
              "      <td>Cross-Country</td>\n",
              "      <td>Sweden</td>\n",
              "    </tr>\n",
              "    <tr>\n",
              "      <th>1407</th>\n",
              "      <td>28</td>\n",
              "      <td>1985-11-25</td>\n",
              "      <td>Male</td>\n",
              "      <td>1.83</td>\n",
              "      <td>Marcus Hellner</td>\n",
              "      <td>75</td>\n",
              "      <td>1</td>\n",
              "      <td>1</td>\n",
              "      <td>0</td>\n",
              "      <td>2</td>\n",
              "      <td>Cross-Country</td>\n",
              "      <td>Sweden</td>\n",
              "    </tr>\n",
              "    <tr>\n",
              "      <th>1419</th>\n",
              "      <td>29</td>\n",
              "      <td>1984-11-24</td>\n",
              "      <td>Female</td>\n",
              "      <td>1.82</td>\n",
              "      <td>Maria Hoefl-riesch</td>\n",
              "      <td>78</td>\n",
              "      <td>1</td>\n",
              "      <td>1</td>\n",
              "      <td>0</td>\n",
              "      <td>2</td>\n",
              "      <td>Alpine Skiing</td>\n",
              "      <td>Germany</td>\n",
              "    </tr>\n",
              "    <tr>\n",
              "      <th>1482</th>\n",
              "      <td>25</td>\n",
              "      <td>1988-09-14</td>\n",
              "      <td>Male</td>\n",
              "      <td>1.85</td>\n",
              "      <td>Martin Fourcade</td>\n",
              "      <td>75</td>\n",
              "      <td>2</td>\n",
              "      <td>1</td>\n",
              "      <td>0</td>\n",
              "      <td>3</td>\n",
              "      <td>Biathlon</td>\n",
              "      <td>France</td>\n",
              "    </tr>\n",
              "    <tr>\n",
              "      <th>2173</th>\n",
              "      <td>17</td>\n",
              "      <td>1997-01-30</td>\n",
              "      <td>Female</td>\n",
              "      <td>1.75</td>\n",
              "      <td>Sukhee Shim</td>\n",
              "      <td>56</td>\n",
              "      <td>1</td>\n",
              "      <td>1</td>\n",
              "      <td>0</td>\n",
              "      <td>2</td>\n",
              "      <td>Short Track</td>\n",
              "      <td>Korea</td>\n",
              "    </tr>\n",
              "    <tr>\n",
              "      <th>2183</th>\n",
              "      <td>27</td>\n",
              "      <td>1986-04-23</td>\n",
              "      <td>Male</td>\n",
              "      <td>1.87</td>\n",
              "      <td>Sven Kramer</td>\n",
              "      <td>83</td>\n",
              "      <td>1</td>\n",
              "      <td>1</td>\n",
              "      <td>0</td>\n",
              "      <td>2</td>\n",
              "      <td>Speed Skating</td>\n",
              "      <td>Netherlands</td>\n",
              "    </tr>\n",
              "  </tbody>\n",
              "</table>\n",
              "</div>"
            ],
            "text/plain": [
              "      age   birthdate  gender  height                name  weight  \\\n",
              "214    24  1989-06-18  Female    1.65      Anna Fenninger      64   \n",
              "424    26  1987-07-22  Female    1.62     Charlotte Kalla      59   \n",
              "911    27  1986-04-01  Female    1.68          Irene Wust      63   \n",
              "1062   33  1980-03-19    Male    1.81        Johan Olsson      68   \n",
              "1407   28  1985-11-25    Male    1.83      Marcus Hellner      75   \n",
              "1419   29  1984-11-24  Female    1.82  Maria Hoefl-riesch      78   \n",
              "1482   25  1988-09-14    Male    1.85     Martin Fourcade      75   \n",
              "2173   17  1997-01-30  Female    1.75         Sukhee Shim      56   \n",
              "2183   27  1986-04-23    Male    1.87         Sven Kramer      83   \n",
              "\n",
              "      gold_medals  silver_medals  bronze_medals  total_medals          sport  \\\n",
              "214             1              1              0             2  Alpine Skiing   \n",
              "424             1              2              0             3  Cross-Country   \n",
              "911             1              2              0             3  Speed Skating   \n",
              "1062            1              1              0             2  Cross-Country   \n",
              "1407            1              1              0             2  Cross-Country   \n",
              "1419            1              1              0             2  Alpine Skiing   \n",
              "1482            2              1              0             3       Biathlon   \n",
              "2173            1              1              0             2    Short Track   \n",
              "2183            1              1              0             2  Speed Skating   \n",
              "\n",
              "          country  \n",
              "214       Austria  \n",
              "424        Sweden  \n",
              "911   Netherlands  \n",
              "1062       Sweden  \n",
              "1407       Sweden  \n",
              "1419      Germany  \n",
              "1482       France  \n",
              "2173        Korea  \n",
              "2183  Netherlands  "
            ]
          },
          "execution_count": 2,
          "metadata": {},
          "output_type": "execute_result"
        }
      ],
      "source": [
        "subset = data[(data['gold_medals'] > 0 ) & (data['silver_medals'] > 0 )]\n",
        "subset"
      ]
    },
    {
      "cell_type": "markdown",
      "metadata": {
        "tags": [
          "sl"
        ]
      },
      "source": [
        "##### Odgovor 1-2-2"
      ]
    },
    {
      "cell_type": "markdown",
      "metadata": {
        "tags": [
          "en"
        ]
      },
      "source": [
        "##### Answer 1-2-2"
      ]
    },
    {
      "cell_type": "code",
      "execution_count": 3,
      "metadata": {},
      "outputs": [],
      "source": [
        "data['bmi'] = data['weight'] / (data['height']) ** 2"
      ]
    },
    {
      "cell_type": "markdown",
      "metadata": {
        "tags": [
          "sl"
        ]
      },
      "source": [
        "##### Odgovor 1-2-3"
      ]
    },
    {
      "cell_type": "markdown",
      "metadata": {
        "tags": [
          "en"
        ]
      },
      "source": [
        "##### Answer 1-2-3"
      ]
    },
    {
      "cell_type": "code",
      "execution_count": 4,
      "metadata": {},
      "outputs": [
        {
          "data": {
            "text/plain": [
              "sport\n",
              "Curling             31.285714\n",
              "Bobsleigh           28.781065\n",
              "Skeleton            27.673913\n",
              "Cross-Country       27.086806\n",
              "Ice Hockey          26.854390\n",
              "Biathlon            26.668342\n",
              "Nordic Combined     26.132075\n",
              "Speed Skating       25.798817\n",
              "Alpine Skiing       25.139073\n",
              "Luge                24.728972\n",
              "Snowboard           24.700000\n",
              "Freestyle Skiing    24.199153\n",
              "Ski Jumping         24.163043\n",
              "Short Track         23.942308\n",
              "Name: age, dtype: float64"
            ]
          },
          "execution_count": 4,
          "metadata": {},
          "output_type": "execute_result"
        }
      ],
      "source": [
        "data.groupby('sport')['age'].mean().sort_values(ascending=False)"
      ]
    },
    {
      "cell_type": "markdown",
      "metadata": {
        "tags": [
          "sl"
        ]
      },
      "source": [
        "##### Odgovor 1-2-4"
      ]
    },
    {
      "cell_type": "markdown",
      "metadata": {
        "tags": [
          "en"
        ]
      },
      "source": [
        "##### Answer 1-2-4"
      ]
    },
    {
      "cell_type": "code",
      "execution_count": 5,
      "metadata": {},
      "outputs": [
        {
          "data": {
            "text/html": [
              "<div>\n",
              "<style scoped>\n",
              "    .dataframe tbody tr th:only-of-type {\n",
              "        vertical-align: middle;\n",
              "    }\n",
              "\n",
              "    .dataframe tbody tr th {\n",
              "        vertical-align: top;\n",
              "    }\n",
              "\n",
              "    .dataframe thead th {\n",
              "        text-align: right;\n",
              "    }\n",
              "</style>\n",
              "<table border=\"1\" class=\"dataframe\">\n",
              "  <thead>\n",
              "    <tr style=\"text-align: right;\">\n",
              "      <th></th>\n",
              "      <th>age</th>\n",
              "      <th>birthdate</th>\n",
              "      <th>gender</th>\n",
              "      <th>height</th>\n",
              "      <th>name</th>\n",
              "      <th>weight</th>\n",
              "      <th>gold_medals</th>\n",
              "      <th>silver_medals</th>\n",
              "      <th>bronze_medals</th>\n",
              "      <th>total_medals</th>\n",
              "      <th>sport</th>\n",
              "      <th>country</th>\n",
              "      <th>bmi</th>\n",
              "    </tr>\n",
              "  </thead>\n",
              "  <tbody>\n",
              "    <tr>\n",
              "      <th>1</th>\n",
              "      <td>27</td>\n",
              "      <td>1986-05-14</td>\n",
              "      <td>Male</td>\n",
              "      <td>1.85</td>\n",
              "      <td>Aaron March</td>\n",
              "      <td>85</td>\n",
              "      <td>0</td>\n",
              "      <td>0</td>\n",
              "      <td>0</td>\n",
              "      <td>0</td>\n",
              "      <td>Snowboard</td>\n",
              "      <td>Italy</td>\n",
              "      <td>24.835646</td>\n",
              "    </tr>\n",
              "    <tr>\n",
              "      <th>10</th>\n",
              "      <td>29</td>\n",
              "      <td>1984-09-18</td>\n",
              "      <td>Male</td>\n",
              "      <td>1.82</td>\n",
              "      <td>Adrien Theaux</td>\n",
              "      <td>80</td>\n",
              "      <td>0</td>\n",
              "      <td>0</td>\n",
              "      <td>0</td>\n",
              "      <td>0</td>\n",
              "      <td>Alpine Skiing</td>\n",
              "      <td>France</td>\n",
              "      <td>24.151673</td>\n",
              "    </tr>\n",
              "    <tr>\n",
              "      <th>14</th>\n",
              "      <td>29</td>\n",
              "      <td>1984-11-11</td>\n",
              "      <td>Female</td>\n",
              "      <td>1.73</td>\n",
              "      <td>Agnieszka Szymanczak</td>\n",
              "      <td>59</td>\n",
              "      <td>0</td>\n",
              "      <td>0</td>\n",
              "      <td>0</td>\n",
              "      <td>0</td>\n",
              "      <td>Cross-Country</td>\n",
              "      <td>Poland</td>\n",
              "      <td>19.713322</td>\n",
              "    </tr>\n",
              "    <tr>\n",
              "      <th>20</th>\n",
              "      <td>26</td>\n",
              "      <td>1987-07-28</td>\n",
              "      <td>Female</td>\n",
              "      <td>1.69</td>\n",
              "      <td>Aimee Watson</td>\n",
              "      <td>60</td>\n",
              "      <td>0</td>\n",
              "      <td>0</td>\n",
              "      <td>0</td>\n",
              "      <td>0</td>\n",
              "      <td>Cross-Country</td>\n",
              "      <td>Australia</td>\n",
              "      <td>21.007668</td>\n",
              "    </tr>\n",
              "    <tr>\n",
              "      <th>24</th>\n",
              "      <td>31</td>\n",
              "      <td>1982-09-28</td>\n",
              "      <td>Male</td>\n",
              "      <td>1.94</td>\n",
              "      <td>Aivar Rehemaa</td>\n",
              "      <td>78</td>\n",
              "      <td>0</td>\n",
              "      <td>0</td>\n",
              "      <td>0</td>\n",
              "      <td>0</td>\n",
              "      <td>Cross-Country</td>\n",
              "      <td>Estonia</td>\n",
              "      <td>20.724838</td>\n",
              "    </tr>\n",
              "    <tr>\n",
              "      <th>...</th>\n",
              "      <td>...</td>\n",
              "      <td>...</td>\n",
              "      <td>...</td>\n",
              "      <td>...</td>\n",
              "      <td>...</td>\n",
              "      <td>...</td>\n",
              "      <td>...</td>\n",
              "      <td>...</td>\n",
              "      <td>...</td>\n",
              "      <td>...</td>\n",
              "      <td>...</td>\n",
              "      <td>...</td>\n",
              "      <td>...</td>\n",
              "    </tr>\n",
              "    <tr>\n",
              "      <th>2469</th>\n",
              "      <td>25</td>\n",
              "      <td>1988-02-24</td>\n",
              "      <td>Male</td>\n",
              "      <td>1.85</td>\n",
              "      <td>Ziga Jeglic</td>\n",
              "      <td>76</td>\n",
              "      <td>0</td>\n",
              "      <td>0</td>\n",
              "      <td>0</td>\n",
              "      <td>0</td>\n",
              "      <td>Ice Hockey</td>\n",
              "      <td>Slovenia</td>\n",
              "      <td>22.205990</td>\n",
              "    </tr>\n",
              "    <tr>\n",
              "      <th>2470</th>\n",
              "      <td>25</td>\n",
              "      <td>1989-01-01</td>\n",
              "      <td>Male</td>\n",
              "      <td>1.85</td>\n",
              "      <td>Ziga Pance</td>\n",
              "      <td>89</td>\n",
              "      <td>0</td>\n",
              "      <td>0</td>\n",
              "      <td>0</td>\n",
              "      <td>0</td>\n",
              "      <td>Ice Hockey</td>\n",
              "      <td>Slovenia</td>\n",
              "      <td>26.004383</td>\n",
              "    </tr>\n",
              "    <tr>\n",
              "      <th>2471</th>\n",
              "      <td>28</td>\n",
              "      <td>1985-04-30</td>\n",
              "      <td>Male</td>\n",
              "      <td>1.93</td>\n",
              "      <td>Ziga Pavlin</td>\n",
              "      <td>98</td>\n",
              "      <td>0</td>\n",
              "      <td>0</td>\n",
              "      <td>0</td>\n",
              "      <td>0</td>\n",
              "      <td>Ice Hockey</td>\n",
              "      <td>Slovenia</td>\n",
              "      <td>26.309431</td>\n",
              "    </tr>\n",
              "    <tr>\n",
              "      <th>2472</th>\n",
              "      <td>31</td>\n",
              "      <td>1982-12-05</td>\n",
              "      <td>Female</td>\n",
              "      <td>1.70</td>\n",
              "      <td>Zina Kocher</td>\n",
              "      <td>60</td>\n",
              "      <td>0</td>\n",
              "      <td>0</td>\n",
              "      <td>0</td>\n",
              "      <td>0</td>\n",
              "      <td>Biathlon</td>\n",
              "      <td>Canada</td>\n",
              "      <td>20.761246</td>\n",
              "    </tr>\n",
              "    <tr>\n",
              "      <th>2473</th>\n",
              "      <td>28</td>\n",
              "      <td>1985-06-14</td>\n",
              "      <td>Female</td>\n",
              "      <td>1.68</td>\n",
              "      <td>Zoe Gillings</td>\n",
              "      <td>65</td>\n",
              "      <td>0</td>\n",
              "      <td>0</td>\n",
              "      <td>0</td>\n",
              "      <td>0</td>\n",
              "      <td>Snowboard</td>\n",
              "      <td>Great Britain</td>\n",
              "      <td>23.030045</td>\n",
              "    </tr>\n",
              "  </tbody>\n",
              "</table>\n",
              "<p>1438 rows × 13 columns</p>\n",
              "</div>"
            ],
            "text/plain": [
              "      age   birthdate  gender  height                  name  weight  \\\n",
              "1      27  1986-05-14    Male    1.85           Aaron March      85   \n",
              "10     29  1984-09-18    Male    1.82         Adrien Theaux      80   \n",
              "14     29  1984-11-11  Female    1.73  Agnieszka Szymanczak      59   \n",
              "20     26  1987-07-28  Female    1.69          Aimee Watson      60   \n",
              "24     31  1982-09-28    Male    1.94         Aivar Rehemaa      78   \n",
              "...   ...         ...     ...     ...                   ...     ...   \n",
              "2469   25  1988-02-24    Male    1.85           Ziga Jeglic      76   \n",
              "2470   25  1989-01-01    Male    1.85            Ziga Pance      89   \n",
              "2471   28  1985-04-30    Male    1.93           Ziga Pavlin      98   \n",
              "2472   31  1982-12-05  Female    1.70           Zina Kocher      60   \n",
              "2473   28  1985-06-14  Female    1.68          Zoe Gillings      65   \n",
              "\n",
              "      gold_medals  silver_medals  bronze_medals  total_medals          sport  \\\n",
              "1               0              0              0             0      Snowboard   \n",
              "10              0              0              0             0  Alpine Skiing   \n",
              "14              0              0              0             0  Cross-Country   \n",
              "20              0              0              0             0  Cross-Country   \n",
              "24              0              0              0             0  Cross-Country   \n",
              "...           ...            ...            ...           ...            ...   \n",
              "2469            0              0              0             0     Ice Hockey   \n",
              "2470            0              0              0             0     Ice Hockey   \n",
              "2471            0              0              0             0     Ice Hockey   \n",
              "2472            0              0              0             0       Biathlon   \n",
              "2473            0              0              0             0      Snowboard   \n",
              "\n",
              "            country        bmi  \n",
              "1             Italy  24.835646  \n",
              "10           France  24.151673  \n",
              "14           Poland  19.713322  \n",
              "20        Australia  21.007668  \n",
              "24          Estonia  20.724838  \n",
              "...             ...        ...  \n",
              "2469       Slovenia  22.205990  \n",
              "2470       Slovenia  26.004383  \n",
              "2471       Slovenia  26.309431  \n",
              "2472         Canada  20.761246  \n",
              "2473  Great Britain  23.030045  \n",
              "\n",
              "[1438 rows x 13 columns]"
            ]
          },
          "execution_count": 5,
          "metadata": {},
          "output_type": "execute_result"
        }
      ],
      "source": [
        "born_in_80s = data[(data['birthdate'] >= '1980') & (data['birthdate'] < '1990')]\n",
        "born_in_80s"
      ]
    }
  ],
  "metadata": {
    "kernelspec": {
      "display_name": "PRvaje",
      "language": "python",
      "name": "python3"
    },
    "language_info": {
      "codemirror_mode": {
        "name": "ipython",
        "version": 3
      },
      "file_extension": ".py",
      "mimetype": "text/x-python",
      "name": "python",
      "nbconvert_exporter": "python",
      "pygments_lexer": "ipython3",
      "version": "3.11.8"
    },
    "latex_envs": {
      "LaTeX_envs_menu_present": true,
      "autocomplete": true,
      "bibliofile": "biblio.bib",
      "cite_by": "apalike",
      "current_citInitial": 1,
      "eqLabelWithNumbers": true,
      "eqNumInitial": 1,
      "hotkeys": {
        "equation": "Ctrl-E",
        "itemize": "Ctrl-I"
      },
      "labels_anchors": false,
      "latex_user_defs": false,
      "report_style_numbering": false,
      "user_envs_cfg": false
    },
    "nbTranslate": {
      "displayLangs": [
        "sl"
      ],
      "hotkey": "alt-t",
      "langInMainMenu": true,
      "sourceLang": "sl",
      "targetLang": "en",
      "useGoogleTranslate": true
    },
    "toc": {
      "nav_menu": {},
      "number_sections": true,
      "sideBar": true,
      "skip_h1_title": false,
      "toc_cell": false,
      "toc_position": {},
      "toc_section_display": "block",
      "toc_window_display": false
    }
  },
  "nbformat": 4,
  "nbformat_minor": 1
}
