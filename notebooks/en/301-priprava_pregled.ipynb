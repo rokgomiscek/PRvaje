{
 "cells": [
  {
   "cell_type": "markdown",
   "metadata": {
    "tags": [
     "en"
    ]
   },
   "source": [
    "## Data preparation, basic statistics and visualization\n",
    "\n",
    "Data mining, assignment, `<INSERT DATE>`  \n",
    "**`<INSERT Name and surname>`**"
   ]
  },
  {
   "cell_type": "markdown",
   "metadata": {
    "tags": [
     "en"
    ]
   },
   "source": [
    "An inevitable part of every project in the field of data mining is searching for,\n",
    "editing and preparing data. In this task, you will get acquainted with a dataset and use procedures for converting data into the appropriate format and do\n",
    "overview and display of basic statistics."
   ]
  },
  {
   "cell_type": "markdown",
   "metadata": {
    "tags": [
     "en"
    ]
   },
   "source": [
    "### Data\n",
    "\n",
    "In the task you will review and prepare Hollywood movie ratings from\n",
    "the [MovieLens](https://grouplens.org/datasets/movielens/) collection from the period **1995-2016**.\n",
    "\n",
    "The same data is used in all assignments, so you should get to know the data well. This is a database for\n",
    "evaluating recommendations systems that include viewers and their ratings on a scale of 1 to 5.\n",
    "In addition to the basic user and rating matrix, it includes also movie information (e.g., genre, date, tags, players).\n",
    "\n",
    "The dataset is in folder `./podatki/ml-latest-small`. The database contains the following files:\n",
    "\n",
    "* ratings.csv: user data and ratings,\n",
    "* movies.csv: movie genre information,\n",
    "* cast.csv: player information,\n",
    "* tags.csv: tag information (\\emph{tags}),\n",
    "* links.csv: links to related databases.\n",
    "\n",
    "Before starting to solve the task, take a good look at the data and read the **README.txt** file. You can learn about the details on the [website](http://files.grouplens.org/datasets/movielens/ml-latest-small-README.html).\n",
    "\n",
    "Prepare methods for loading data into the appropriate data structures. They will come in handy\n",
    "also for further tasks.\n",
    "Pay attention to the size of the data."
   ]
  },
  {
   "cell_type": "markdown",
   "metadata": {
    "tags": [
     "en"
    ]
   },
   "source": [
    "Write down the code to read the files and prepare the appropriate matrices (and other structures) of the data that you will use to answer the questions below.\n",
    "\n",
    "You can split the code into multiple cells."
   ]
  },
  {
   "cell_type": "code",
   "execution_count": null,
   "metadata": {},
   "outputs": [],
   "source": []
  },
  {
   "cell_type": "markdown",
   "metadata": {
    "tags": [
     "en"
    ]
   },
   "source": [
    "### Questions\n",
    "\n",
    "The main purpose of data mining is *knowledge discovery from data*,\n",
    "i.e., answering questions using computational approaches.\n",
    "\n",
    "By using the principles you have learned on the exercises and lectures, answer\n",
    "the questions below. For each question, think carefully about the way you will\n",
    "best give, show or justify the answer. The essential part is the answers to\n",
    "questions rather than the implemention of your solution."
   ]
  },
  {
   "cell_type": "markdown",
   "metadata": {
    "tags": [
     "en"
    ]
   },
   "source": [
    "#### Question 1 (15%):\n",
    "Which movies are the best on average? Prepare a list of movies and their average ratings and print 10 movies from the top of the list.\n",
    "\n",
    "Do you see any problems with such an assessment? How could you solve it? \n",
    "\n",
    "Remove the problem and print 10 movies from the top of the list again.\n",
    "\n",
    "You can split the code into multiple cells."
   ]
  },
  {
   "cell_type": "code",
   "execution_count": null,
   "metadata": {},
   "outputs": [],
   "source": []
  },
  {
   "cell_type": "markdown",
   "metadata": {
    "tags": [
     "en"
    ]
   },
   "source": [
    "Answer: **write down the answer and explain it**"
   ]
  },
  {
   "cell_type": "markdown",
   "metadata": {
    "tags": [
     "en"
    ]
   },
   "source": [
    "#### Question 2 (15%):\n",
    "Each film belongs to one or more genres.\n",
    "How many genres are there? Show the distribution of genres using appropriate visualization. Use libraries for static visualization (e.g., Matplotlib or Plotly).\n",
    "\n",
    "You can split the code into multiple cells."
   ]
  },
  {
   "cell_type": "code",
   "execution_count": null,
   "metadata": {},
   "outputs": [],
   "source": []
  },
  {
   "cell_type": "markdown",
   "metadata": {
    "tags": [
     "en"
    ]
   },
   "source": [
    "Answer: **write down the answer and explain it**"
   ]
  },
  {
   "cell_type": "markdown",
   "metadata": {
    "tags": [
     "en"
    ]
   },
   "source": [
    "#### Question 3 (20%):\n",
    "The number of ratings is different for each film. But is there a relationship between the number of ratings and the average movie rating? Describe the procedure that you used to answer the question.\n",
    "\n",
    "You can split the code into multiple cells."
   ]
  },
  {
   "cell_type": "code",
   "execution_count": null,
   "metadata": {},
   "outputs": [],
   "source": []
  },
  {
   "cell_type": "markdown",
   "metadata": {
    "tags": [
     "en"
    ]
   },
   "source": [
    "Answer: **write down the answer and explain it**"
   ]
  },
  {
   "cell_type": "markdown",
   "metadata": {
    "tags": [
     "en"
    ]
   },
   "source": [
    "#### Question 4 (30%):\n",
    "Each rating was entered on a specific date (column `timestamp`). Does the popularity of individual films change over time?\n",
    "\n",
    "Choose two movies. For each day, obtain the number of ratings and their average for the past 30, 50, and 100 days. Draw a graph, how the the number and average rating change.\n",
    "\n",
    "You can split the code into multiple cells."
   ]
  },
  {
   "cell_type": "code",
   "execution_count": null,
   "metadata": {},
   "outputs": [],
   "source": []
  },
  {
   "cell_type": "markdown",
   "metadata": {
    "tags": [
     "en"
    ]
   },
   "source": [
    "Answer: **write down the answer and explain it**"
   ]
  },
  {
   "cell_type": "markdown",
   "metadata": {
    "tags": [
     "en"
    ]
   },
   "source": [
    "#### Question 5 (20%):\n",
    "How would you rate the popularity of individual actors? Describe the procedure\n",
    " for evaluating and print the 10 most popular actors.\n",
    "\n",
    "You can split the code into multiple cells."
   ]
  },
  {
   "cell_type": "code",
   "execution_count": null,
   "metadata": {},
   "outputs": [],
   "source": []
  },
  {
   "cell_type": "markdown",
   "metadata": {
    "tags": [
     "en"
    ]
   },
   "source": [
    "Answer: **write down the answer and explain it**"
   ]
  },
  {
   "cell_type": "markdown",
   "metadata": {
    "tags": [
     "en"
    ]
   },
   "source": [
    "#### Bonus question (5%):\n",
    "\n",
    "What's your favorite movie? Why?"
   ]
  },
  {
   "cell_type": "markdown",
   "metadata": {
    "tags": [
     "en"
    ]
   },
   "source": [
    "Answer: **write down the answer and explain it**"
   ]
  },
  {
   "cell_type": "markdown",
   "metadata": {},
   "source": []
  },
  {
   "cell_type": "markdown",
   "metadata": {
    "tags": [
     "en"
    ]
   },
   "source": [
    "### Notes\n",
    "You can use any libraries to solve the tasks."
   ]
  }
 ],
 "metadata": {
  "kernelspec": {
   "display_name": "PRvaje",
   "language": "python",
   "name": "python3"
  },
  "language_info": {
   "codemirror_mode": {
    "name": "ipython",
    "version": 3
   },
   "file_extension": ".py",
   "mimetype": "text/x-python",
   "name": "python",
   "nbconvert_exporter": "python",
   "pygments_lexer": "ipython3",
   "version": "3.11.8"
  },
  "latex_envs": {
   "LaTeX_envs_menu_present": true,
   "autocomplete": true,
   "bibliofile": "biblio.bib",
   "cite_by": "apalike",
   "current_citInitial": 1,
   "eqLabelWithNumbers": true,
   "eqNumInitial": 1,
   "hotkeys": {
    "equation": "Ctrl-E",
    "itemize": "Ctrl-I"
   },
   "labels_anchors": false,
   "latex_user_defs": false,
   "report_style_numbering": false,
   "user_envs_cfg": false
  },
  "nbTranslate": {
   "displayLangs": [
    "sl"
   ],
   "hotkey": "alt-t",
   "langInMainMenu": true,
   "sourceLang": "sl",
   "targetLang": "en",
   "useGoogleTranslate": true
  }
 },
 "nbformat": 4,
 "nbformat_minor": 2
}
