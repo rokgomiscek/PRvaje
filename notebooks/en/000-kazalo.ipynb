{
 "cells": [
  {
   "cell_type": "markdown",
   "metadata": {
    "tags": [
     "en"
    ]
   },
   "source": [
    "# Data Mining Exercises\n",
    "\n",
    "Martin Stražar, Rok Gomišček, Tomaž Curk  \n",
    "2024, University of Ljubljana, Faculty of Computer and Information Science"
   ]
  },
  {
   "cell_type": "markdown",
   "metadata": {
    "tags": [
     "en"
    ]
   },
   "source": [
    "## Work environment\n",
    "\n",
    "* [Setup](001-1_namestitev.ipynb)\n",
    "* [Git and github](001-2_git_in_github.ipynb)\n",
    "* [Homework submission](300-domace_naloge.ipynb)\n",
    "\n",
    "\n",
    "## 1. Data preparation\n",
    "\n",
    "* [Library `numpy`](101-1_numpy.ipynb)\n",
    "* [Library `pandas`](101-2_pandas.ipynb)\n",
    "\n",
    "\n",
    "## 2. Plotting data\n",
    "\n",
    "* [Library matplotlib](102-1_prikaz_matplotlib.ipynb)\n",
    "* [Example: Temperatures in Stockholm](102-2_podatki_temperatura.ipynb)\n",
    "* [Example: Winter Olympics, Sochi 2014](102-3_prikaz_olimpijske.ipynb)\n",
    "\n",
    "\n",
    "## 3. Hugging Face and Streamlit\n",
    "\n",
    "* [Hugging Face](103-1_huggingface.ipynb)\n",
    "* [Streamlit](103-2_streamlit.ipynb)\n",
    "\n",
    "\n",
    "## 4. Distributions and outliers\n",
    "\n",
    "* [Distributions and outliers](104-1_porazdelitve.ipynb)\n",
    "* [Example: finding unfunny jokes](104-2_osamelci.ipynb)\n",
    "\n",
    "\n",
    "## 5. Clustering\n",
    "\n",
    "* [K-means clustering](105-1_grucenje_voditelji.ipynb)\n",
    "* [Hierarchical clustering](105-2_grucenje_hierarhicno.ipynb)\n",
    "* [Example: genomic data](105-3_grucenje_genomski.ipynb)\n",
    "\n",
    "\n",
    "## 6. Regression\n",
    "\n",
    "* [Linear regression](106-1_nadzorovano_linreg.ipynb)\n",
    "\n",
    "\n",
    "## 7. Classification\n",
    "\n",
    "* [Naive Bayes classifier](107-1_nadzorovano_naivniBayes.ipynb)\n",
    "\n",
    "\n",
    "## 8. Evaluation and assessment\n",
    "\n",
    "* [Orange for classification](108-1_nadzorovano_vrednotenje.ipynb)\n",
    "* [Orange for regression](108-2_ocenjevanje_regresija.ipynb)\n",
    "\n",
    "\n",
    "## 9. Association rules\n",
    "* [Classification rules](109-1_klasifikacijska_pravila.ipynb)\n",
    "* [Example: timetable](109-2_urnik.ipynb)\n",
    "\n",
    "\n",
    "## 10. Non-negative matrix factorization\n",
    "\n",
    "* [Non-negative matrix factorization](110-1_NMF.ipynb)\n",
    "\n",
    "\n",
    "## 11. Networks\n",
    "\n",
    "* [Library `networkx`](111-1_omrezja_networkx.ipynb#Knjižica-networkx)\n",
    "* [Example: emails network](111-2_omrezja_email.ipynb)\n",
    "\n",
    "\n",
    "## 12. Data series\n",
    "* [Hidden Markov Models](112-1_zaporedja_HMM.ipynb)\n",
    "* [Time series](112-2_zaporedja_casovne.ipynb)\n",
    "* [Predicting trends](112-3_zaporedja_trendi.ipynb)\n",
    "\n",
    "\n",
    "## Assignments\n",
    "\n",
    "* [Data preparation, basic statistics and visualization](301-priprava_pregled.ipynb)\n",
    "* [Search for structure in data](302-struktura_podatkov.ipynb)\n",
    "* [Predicting values](303-nadzorovano_ucenje.ipynb)\n",
    "* [Predicting by matrix factorization](304-matricna_faktorizacija.ipynb)\n",
    "* [Implementation of a recommendation system](305-aplikacija.ipynb)\n",
    "\n",
    "\n",
    "## [Literature](900-lit.ipynb)"
   ]
  }
 ],
 "metadata": {
  "kernelspec": {
   "display_name": "Python 3",
   "language": "python",
   "name": "python3"
  },
  "language_info": {
   "codemirror_mode": {
    "name": "ipython",
    "version": 3
   },
   "file_extension": ".py",
   "mimetype": "text/x-python",
   "name": "python",
   "nbconvert_exporter": "python",
   "pygments_lexer": "ipython3",
   "version": "3.6.9"
  },
  "latex_envs": {
   "LaTeX_envs_menu_present": true,
   "autocomplete": true,
   "bibliofile": "biblio.bib",
   "cite_by": "apalike",
   "current_citInitial": 1,
   "eqLabelWithNumbers": true,
   "eqNumInitial": 1,
   "hotkeys": {
    "equation": "Ctrl-E",
    "itemize": "Ctrl-I"
   },
   "labels_anchors": false,
   "latex_user_defs": false,
   "report_style_numbering": false,
   "user_envs_cfg": false
  },
  "nbTranslate": {
   "displayLangs": [
    "sl"
   ],
   "hotkey": "alt-t",
   "langInMainMenu": true,
   "sourceLang": "sl",
   "targetLang": "en",
   "useGoogleTranslate": true
  },
  "toc": {
   "nav_menu": {},
   "number_sections": false,
   "sideBar": true,
   "skip_h1_title": false,
   "toc_cell": false,
   "toc_position": {
    "height": "1143px",
    "left": "0px",
    "right": "1196px",
    "top": "158px",
    "width": "212px"
   },
   "toc_section_display": "block",
   "toc_window_display": false
  }
 },
 "nbformat": 4,
 "nbformat_minor": 2
}
