{
 "cells": [
  {
   "cell_type": "markdown",
   "metadata": {
    "tags": [
     "en"
    ]
   },
   "source": [
    "# Introduction to Streamlit\n",
    "\n",
    "Streamlit is an open-source Python framework for Machine Learning and Data Science projects. It allows you to create and share custom web apps with just a few lines of code."
   ]
  },
  {
   "cell_type": "markdown",
   "metadata": {
    "tags": [
     "en"
    ]
   },
   "source": [
    "## Installation\n",
    "\n",
    "To install Streamlit, you can use pip:\n"
   ]
  },
  {
   "cell_type": "markdown",
   "metadata": {},
   "source": [
    "```bash\n",
    "pip install streamlit\n",
    "```"
   ]
  },
  {
   "cell_type": "markdown",
   "metadata": {
    "tags": [
     "en"
    ]
   },
   "source": [
    "## Basic Usage\n",
    "\n",
    "Here is a simple example of a Streamlit app:"
   ]
  },
  {
   "cell_type": "markdown",
   "metadata": {},
   "source": [
    "```python\n",
    "import streamlit as st\n",
    "\n",
    "st.title('Hello, Streamlit!')\n",
    "st.write('This is a simple Streamlit app.')\n",
    "```"
   ]
  },
  {
   "cell_type": "markdown",
   "metadata": {
    "tags": [
     "en"
    ]
   },
   "source": [
    "To run the app, save the code in a file (e.g., `app.py`) and run:"
   ]
  },
  {
   "cell_type": "markdown",
   "metadata": {},
   "source": [
    "```bash\n",
    "streamlit run app.py\n",
    "```"
   ]
  },
  {
   "cell_type": "markdown",
   "metadata": {
    "tags": [
     "en"
    ]
   },
   "source": [
    "This will start a local web server and open the app in your default web browser."
   ]
  },
  {
   "cell_type": "markdown",
   "metadata": {
    "tags": [
     "en"
    ]
   },
   "source": [
    "## Adding Widgets\n",
    "\n",
    "Streamlit provides a variety of widgets to make your app interactive. Here are some examples:"
   ]
  },
  {
   "cell_type": "markdown",
   "metadata": {},
   "source": [
    "```python\n",
    "import streamlit as st\n",
    "\n",
    "st.title('Interactive Widgets')\n",
    "\n",
    "name = st.text_input('Enter your name:')\n",
    "st.write(f'Hello, {name}!')\n",
    "\n",
    "age = st.slider('Select your age:', 0, 100, 25)\n",
    "st.write(f'You are {age} years old.')\n",
    "```"
   ]
  },
  {
   "cell_type": "markdown",
   "metadata": {
    "tags": [
     "en"
    ]
   },
   "source": [
    "This code creates a text input widget and a slider widget. The values entered by the user are used by the app."
   ]
  },
  {
   "cell_type": "markdown",
   "metadata": {
    "tags": [
     "en"
    ]
   },
   "source": [
    "## Displaying Data\n",
    "\n",
    "Streamlit makes it easy to display data in various formats. Here are some examples:\n"
   ]
  },
  {
   "cell_type": "markdown",
   "metadata": {},
   "source": [
    "```python\n",
    "import streamlit as st\n",
    "import pandas as pd\n",
    "import numpy as np\n",
    "\n",
    "st.title('Displaying Data')\n",
    "\n",
    "# Display a DataFrame\n",
    "df = pd.DataFrame(\n",
    "    np.random.randn(10, 5),\n",
    "    columns=('col %d' % i for i in range(5)))\n",
    "st.write(df)\n",
    "\n",
    "# Display a chart\n",
    "st.line_chart(df)\n",
    "```"
   ]
  },
  {
   "cell_type": "markdown",
   "metadata": {
    "tags": [
     "en"
    ]
   },
   "source": [
    "## Caching\n",
    "\n",
    "Every time the code changes or a user interacts with the app, Streamlit will run the whole script again. To avoid slowing the app down, we can either pre-train models locally and store them, or use built-in caching."
   ]
  },
  {
   "cell_type": "markdown",
   "metadata": {
    "tags": [
     "en"
    ]
   },
   "source": [
    "### Pre-train a model and save it with `pickle`\n",
    "\n",
    "Especially when dealing with big data or slow models, we wish to do the computation only once. We can train the model locally and save it using `pickle`, as in the example below."
   ]
  },
  {
   "cell_type": "markdown",
   "metadata": {},
   "source": [
    "```python\n",
    "import pickle\n",
    "\n",
    "X, y = load_data()\n",
    "model.fit(X, y)\n",
    "\n",
    "with open(\"pkl/model.pkl\", 'wb') as fp:\n",
    "    pickle.dump(model, fp)\n",
    "```"
   ]
  },
  {
   "cell_type": "markdown",
   "metadata": {
    "tags": [
     "en"
    ]
   },
   "source": [
    "The whole script is available at [train.py](../../streamlit/train.py).\n",
    "\n",
    "In the Streamlit app we can then load the model and use it as we normally would."
   ]
  },
  {
   "cell_type": "markdown",
   "metadata": {},
   "source": [
    "```python\n",
    "import pickle\n",
    "\n",
    "with open(\"pkl/model.pkl\", 'rb') as fp:\n",
    "    model = pickle.load(fp)\n",
    "prediction = model.predict(new_data)\n",
    "```"
   ]
  },
  {
   "cell_type": "markdown",
   "metadata": {
    "tags": [
     "en"
    ]
   },
   "source": [
    "### Built-in caching\n",
    "\n",
    "We can also use the built-in decorators `@st.cache_data` and `@st.cache_resource` to cache results of functions. Cached values are available to all users of our app. \n",
    "\n",
    "When a function with one of these decorators is called, Streamlit checks the values of the input parameters and the code inside the function. If this is the first time Streamlit sees these parameter values and function code, it runs the function and stores the return value in a cache. The next time the function is called with the same parameters and code, Streamlit will skip executing the function altogether and return the cached value instead."
   ]
  },
  {
   "cell_type": "markdown",
   "metadata": {},
   "source": [
    "```python\n",
    "@st.cache_data\n",
    "def filter_data(df, value):\n",
    "    return df[df['Year'] == value].mean()[\"Temp\"]\n",
    "```"
   ]
  },
  {
   "cell_type": "markdown",
   "metadata": {
    "tags": [
     "en"
    ]
   },
   "source": [
    "## Multipage app\n",
    "\n",
    "To improve the readability of our application, we can break it up into multiple pages. The easiest way is to create a directory called `pages`, where we will store all the sub-pages (except for the entrypoint)."
   ]
  },
  {
   "cell_type": "markdown",
   "metadata": {},
   "source": [
    "```\n",
    "app_directory/\n",
    "├── pages/\n",
    "│   ├── 1_intro.py\n",
    "│   └── 2_graph.py\n",
    "└── Start.py\n",
    "```"
   ]
  },
  {
   "cell_type": "markdown",
   "metadata": {
    "tags": [
     "en"
    ]
   },
   "source": [
    "## Publish your app online\n",
    "\n",
    "When your app is finished, you can upload it to https://streamlit.io/. First, create an account, push the app to GitHub, and connect the two accounts. Choose which repository contains the app and deploy it. After a short while, your app should be available online."
   ]
  },
  {
   "cell_type": "markdown",
   "metadata": {
    "tags": [
     "en"
    ]
   },
   "source": [
    "# A working example\n",
    "\n",
    "You can find a working example of the concepts discussed above at [prvaje.streamlit.app](https://prvaje.streamlit.app/). All the code is accessible in the app's [repository](https://github.com/rokgomiscek/PR_streamlit)."
   ]
  }
 ],
 "metadata": {
  "kernelspec": {
   "display_name": "Python 3",
   "language": "python",
   "name": "python3"
  },
  "language_info": {
   "codemirror_mode": {
    "name": "ipython",
    "version": 3
   },
   "file_extension": ".py",
   "mimetype": "text/x-python",
   "name": "python",
   "nbconvert_exporter": "python",
   "pygments_lexer": "ipython3",
   "version": "3.8.5"
  }
 },
 "nbformat": 4,
 "nbformat_minor": 4
}
