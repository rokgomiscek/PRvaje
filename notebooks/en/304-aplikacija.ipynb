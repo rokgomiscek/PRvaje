{
 "cells": [
  {
   "cell_type": "markdown",
   "metadata": {
    "tags": [
     "en"
    ]
   },
   "source": [
    "## Streamlit application\n",
    "\n",
    "Data mining, assignment, `<INSERT DATE>`  \n",
    "**`<INSERT Name and surname>`**\n",
    "\n",
    "The bonus homework brings together all the knowledge you have gained that you will implement using Streamlit. Each category of questions should be on its own page. Finally, publish the application online and submit a short report to this repository."
   ]
  },
  {
   "cell_type": "markdown",
   "metadata": {
    "tags": [
     "en"
    ]
   },
   "source": [
    "### Data\n",
    "\n",
    "The MovieLens database remains the same as for the other assignments."
   ]
  },
  {
   "cell_type": "markdown",
   "metadata": {
    "tags": [
     "en"
    ]
   },
   "source": [
    "### Questions\n",
    "\n",
    "#### 1. Data Analysis (30%)\n",
    "\n",
    "List the 10 movies with the best average rating. In addition to the movie title, also list the average rating and the number of ratings.\n",
    "\n",
    "Add the following interactive elements:\n",
    "* select the minimum number of ratings that the movies received\n",
    "* select the genre\n",
    "* select the year\n",
    "\n",
    "Combining filters should be possible. For example, users can ask for the best action movies with at least ten ratings, or for the best movies of 1998, regardless of the number of ratings.\n",
    "\n",
    "#### 2. Comparison of two movies (30%)\n",
    "\n",
    "After a user selects two movies, the following comparisons should be displayed for these two movies:\n",
    "* rating statistics (average rating, number of ratings, standard deviation)\n",
    "* histogram of ratings\n",
    "* graph of average rating per year\n",
    "* graph of number of ratings per year\n",
    "\n",
    "#### 3. Recommendation system (40%)\n",
    "\n",
    "Implement user registration and login to the system, and a movie recommendation system.\n",
    "\n",
    "Only logged in users can rate movies. Once a user has rated at least ten movies, ten recommendations should be displayed."
   ]
  },
  {
   "cell_type": "markdown",
   "metadata": {
    "tags": [
     "en"
    ]
   },
   "source": [
    "### Report\n",
    "\n",
    "Present your application briefly in a report. Describe the use of your application, including screenshots. Add a link to the active application and to the repository where the code is located.\n",
    "\n",
    "The results of the assignment are:\n",
    "* report (short instructions and images)\n",
    "* link to the application's source code\n",
    "* link to the active application"
   ]
  }
 ],
 "metadata": {
  "kernelspec": {
   "display_name": "Python 3",
   "language": "python",
   "name": "python3"
  },
  "language_info": {
   "codemirror_mode": {
    "name": "ipython",
    "version": 3
   },
   "file_extension": ".py",
   "mimetype": "text/x-python",
   "name": "python",
   "nbconvert_exporter": "python",
   "pygments_lexer": "ipython3",
   "version": "3.8.6"
  },
  "latex_envs": {
   "LaTeX_envs_menu_present": true,
   "autoclose": false,
   "autocomplete": true,
   "bibliofile": "biblio.bib",
   "cite_by": "apalike",
   "current_citInitial": 1,
   "eqLabelWithNumbers": true,
   "eqNumInitial": 1,
   "hotkeys": {
    "equation": "Ctrl-E",
    "itemize": "Ctrl-I"
   },
   "labels_anchors": false,
   "latex_user_defs": false,
   "report_style_numbering": false,
   "user_envs_cfg": false
  },
  "nbTranslate": {
   "displayLangs": [
    "*"
   ],
   "hotkey": "alt-t",
   "langInMainMenu": true,
   "sourceLang": "sl",
   "targetLang": "en",
   "useGoogleTranslate": true
  }
 },
 "nbformat": 4,
 "nbformat_minor": 2
}
